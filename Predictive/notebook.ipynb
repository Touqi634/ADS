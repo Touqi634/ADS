{
 "nbformat": 4,
 "nbformat_minor": 2,
 "metadata": {
  "language_info": {
   "name": "python",
   "codemirror_mode": {
    "name": "ipython",
    "version": 3
   },
   "version": "3.7.4"
  },
  "orig_nbformat": 2,
  "file_extension": ".py",
  "mimetype": "text/x-python",
  "name": "python",
  "npconvert_exporter": "python",
  "pygments_lexer": "ipython3",
  "version": 3
 },
 "cells": [
  {
   "cell_type": "markdown",
   "execution_count": null,
   "metadata": {},
   "outputs": [],
   "source": [
    "# Load the cleaned dataset"
   ]
  },
  {
   "cell_type": "code",
   "execution_count": 1,
   "metadata": {},
   "outputs": [],
   "source": [
    "import pandas as pd\n",
    "import numpy as np\n",
    "import seaborn as sns\n",
    "\n",
    "import plotly.express as px\n",
    "import plotly.offline as py\n",
    "from plotly.subplots import make_subplots\n",
    "import plotly.graph_objects as go\n",
    "import graphviz\n",
    "\n",
    "from sklearn.preprocessing import PolynomialFeatures\n",
    "from sklearn.linear_model import LinearRegression\n",
    "from sklearn.tree import DecisionTreeClassifier, export_graphviz\n",
    "\n",
    "from sklearn.model_selection import train_test_split\n",
    "from sklearn import preprocessing\n",
    "from sklearn import metrics"
   ]
  },
  {
   "cell_type": "code",
   "execution_count": 2,
   "metadata": {},
   "outputs": [
    {
     "data": {
      "text/html": "<div>\n<style scoped>\n    .dataframe tbody tr th:only-of-type {\n        vertical-align: middle;\n    }\n\n    .dataframe tbody tr th {\n        vertical-align: top;\n    }\n\n    .dataframe thead th {\n        text-align: right;\n    }\n</style>\n<table border=\"1\" class=\"dataframe\">\n  <thead>\n    <tr style=\"text-align: right;\">\n      <th></th>\n      <th>Customer_Number</th>\n      <th>Date_of_Birth</th>\n      <th>Gender</th>\n      <th>Place_of_Residence</th>\n      <th>Order_Number</th>\n      <th>Order_Date</th>\n      <th>Product_Number</th>\n      <th>Sub_Category</th>\n      <th>Category</th>\n      <th>Quantity</th>\n      <th>Price</th>\n      <th>Expected_Delivery_Time</th>\n      <th>Actual_Delivery_Time</th>\n      <th>Reason_of_Return</th>\n      <th>Rating</th>\n      <th>Is_Returned</th>\n      <th>Has_Return_Reason</th>\n      <th>Has_Rated</th>\n    </tr>\n  </thead>\n  <tbody>\n    <tr>\n      <td>0</td>\n      <td>NaN</td>\n      <td>1984-09-15</td>\n      <td>Man</td>\n      <td>Loppersum</td>\n      <td>1606586</td>\n      <td>2016-07-12</td>\n      <td>5183337092063</td>\n      <td>Garden sets</td>\n      <td>Garden furniture</td>\n      <td>1</td>\n      <td>1049.97</td>\n      <td>2</td>\n      <td>2</td>\n      <td>NaN</td>\n      <td>2</td>\n      <td>False</td>\n      <td>False</td>\n      <td>True</td>\n    </tr>\n    <tr>\n      <td>1</td>\n      <td>1049989.0</td>\n      <td>1969-06-01</td>\n      <td>Man</td>\n      <td>Goeree-Overflakkee</td>\n      <td>554370</td>\n      <td>2016-01-15</td>\n      <td>4174149044532</td>\n      <td>Garden tables</td>\n      <td>Garden furniture</td>\n      <td>1</td>\n      <td>366.90</td>\n      <td>8</td>\n      <td>8</td>\n      <td>NaN</td>\n      <td>-1</td>\n      <td>False</td>\n      <td>False</td>\n      <td>False</td>\n    </tr>\n    <tr>\n      <td>2</td>\n      <td>1068587.0</td>\n      <td>1970-02-19</td>\n      <td>Man</td>\n      <td>Terneuzen</td>\n      <td>1146785</td>\n      <td>2014-05-16</td>\n      <td>7167356147773</td>\n      <td>Garden statues</td>\n      <td>Garden decoration</td>\n      <td>1</td>\n      <td>493.95</td>\n      <td>2</td>\n      <td>2</td>\n      <td>NaN</td>\n      <td>-1</td>\n      <td>False</td>\n      <td>False</td>\n      <td>False</td>\n    </tr>\n    <tr>\n      <td>3</td>\n      <td>1026863.0</td>\n      <td>1972-11-27</td>\n      <td>Man</td>\n      <td>Sittard-Geleen</td>\n      <td>1146785</td>\n      <td>2014-05-14</td>\n      <td>4112354045616</td>\n      <td>Garden sets</td>\n      <td>Garden furniture</td>\n      <td>1</td>\n      <td>234.74</td>\n      <td>2</td>\n      <td>5</td>\n      <td>NaN</td>\n      <td>-1</td>\n      <td>False</td>\n      <td>False</td>\n      <td>False</td>\n    </tr>\n    <tr>\n      <td>4</td>\n      <td>1049989.0</td>\n      <td>1969-06-01</td>\n      <td>Man</td>\n      <td>Goeree-Overflakkee</td>\n      <td>554370</td>\n      <td>2016-01-15</td>\n      <td>3163858019499</td>\n      <td>Garden sets</td>\n      <td>Garden furniture</td>\n      <td>1</td>\n      <td>1436.62</td>\n      <td>3</td>\n      <td>8</td>\n      <td>NaN</td>\n      <td>-1</td>\n      <td>False</td>\n      <td>False</td>\n      <td>False</td>\n    </tr>\n  </tbody>\n</table>\n</div>",
      "text/plain": "   Customer_Number Date_of_Birth Gender  Place_of_Residence  Order_Number  \\\n0              NaN    1984-09-15    Man           Loppersum       1606586   \n1        1049989.0    1969-06-01    Man  Goeree-Overflakkee        554370   \n2        1068587.0    1970-02-19    Man           Terneuzen       1146785   \n3        1026863.0    1972-11-27    Man      Sittard-Geleen       1146785   \n4        1049989.0    1969-06-01    Man  Goeree-Overflakkee        554370   \n\n   Order_Date Product_Number    Sub_Category           Category  Quantity  \\\n0  2016-07-12  5183337092063     Garden sets   Garden furniture         1   \n1  2016-01-15  4174149044532   Garden tables   Garden furniture         1   \n2  2014-05-16  7167356147773  Garden statues  Garden decoration         1   \n3  2014-05-14  4112354045616     Garden sets   Garden furniture         1   \n4  2016-01-15  3163858019499     Garden sets   Garden furniture         1   \n\n     Price  Expected_Delivery_Time  Actual_Delivery_Time Reason_of_Return  \\\n0  1049.97                       2                     2              NaN   \n1   366.90                       8                     8              NaN   \n2   493.95                       2                     2              NaN   \n3   234.74                       2                     5              NaN   \n4  1436.62                       3                     8              NaN   \n\n   Rating  Is_Returned  Has_Return_Reason  Has_Rated  \n0       2        False              False       True  \n1      -1        False              False      False  \n2      -1        False              False      False  \n3      -1        False              False      False  \n4      -1        False              False      False  "
     },
     "execution_count": 2,
     "metadata": {},
     "output_type": "execute_result"
    }
   ],
   "source": [
    "data = pd.read_csv('../Cleanup/orders_cleaned.csv', sep=',', low_memory=False, encoding = 'ISO-8859-1', header=0)\n",
    "data = data.drop(data.columns[0], axis=1)\n",
    "data.head()"
   ]
  },
  {
   "cell_type": "code",
   "execution_count": 3,
   "metadata": {},
   "outputs": [
    {
     "data": {
      "text/plain": "Customer_Number                  float64\nDate_of_Birth             datetime64[ns]\nGender                            object\nPlace_of_Residence                object\nOrder_Number                       int64\nOrder_Date                datetime64[ns]\nProduct_Number                    object\nSub_Category                      object\nCategory                          object\nQuantity                           int64\nPrice                            float64\nExpected_Delivery_Time             int64\nActual_Delivery_Time               int64\nReason_of_Return                  object\nRating                             int64\nIs_Returned                         bool\nHas_Return_Reason                   bool\nHas_Rated                           bool\nOrder_Month               datetime64[ns]\nOrder_Year                datetime64[ns]\ndtype: object"
     },
     "execution_count": 3,
     "metadata": {},
     "output_type": "execute_result"
    }
   ],
   "source": [
    "data['Order_Date'] = pd.to_datetime(data['Order_Date'])\n",
    "data['Date_of_Birth'] = pd.to_datetime(data['Date_of_Birth'])\n",
    "data['Order_Month'] = pd.to_datetime(data['Order_Date'].dt.strftime('%Y-%m'))\n",
    "data['Order_Year'] = pd.to_datetime(data['Order_Date'].dt.strftime('%Y'))\n",
    "data.dtypes"
   ]
  },
  {
   "cell_type": "code",
   "execution_count": 4,
   "metadata": {},
   "outputs": [
    {
     "data": {
      "image/png": "[encoded data removed]",
      "image/svg+xml": "<?xml version=\"1.0\" encoding=\"utf-8\" standalone=\"no\"?>\n<!DOCTYPE svg PUBLIC \"-//W3C//DTD SVG 1.1//EN\"\n  \"http://www.w3.org/Graphics/SVG/1.1/DTD/svg11.dtd\">\n<!-- Created with matplotlib (https://matplotlib.org/) -->\n<svg height=\"336.614815pt\" version=\"1.1\" viewBox=\"0 0 444.840125 336.614815\" width=\"444.840125pt\" xmlns=\"http://www.w3.org/2000/svg\" xmlns:xlink=\"http://www.w3.org/1999/xlink\">\n <defs>\n  <style type=\"text/css\">\n*{stroke-linecap:butt;stroke-linejoin:round;}\n  </style>\n </defs>\n <g id=\"figure_1\">\n  <g id=\"patch_1\">\n   <path d=\"M 0 336.614815 \nL 444.840125 336.614815 \nL 444.840125 0 \nL 0 0 \nz\n\" style=\"fill:none;\"/>\n  </g>\n  <g id=\"axes_1\">\n   <g id=\"patch_2\">\n    <path d=\"M 137.145312 228.439219 \nL 378.745312 228.439219 \nL 378.745312 10.999219 \nL 137.145312 10.999219 \nz\n\" style=\"fill:#ffffff;\"/>\n   </g>\n   <g id=\"QuadMesh_1\">\n    <path clip-path=\"url(#pe48710c886)\" d=\"M 137.145312 -1.080781 \nL 161.305312 -1.080781 \nL 161.305312 23.079219 \nL 137.145312 23.079219 \nL 137.145312 -1.080781 \n\" style=\"fill:#3f7f93;\"/>\n    <path clip-path=\"url(#pe48710c886)\" d=\"M 161.305312 -1.080781 \nL 185.465312 -1.080781 \nL 185.465312 23.079219 \nL 161.305312 23.079219 \nL 161.305312 -1.080781 \n\" style=\"fill:#f2f2f2;\"/>\n    <path clip-path=\"url(#pe48710c886)\" d=\"M 185.465312 -1.080781 \nL 209.625312 -1.080781 \nL 209.625312 23.079219 \nL 185.465312 23.079219 \nL 185.465312 -1.080781 \n\" style=\"fill:#f2f2f2;\"/>\n    <path clip-path=\"url(#pe48710c886)\" d=\"M 209.625312 -1.080781 \nL 233.785312 -1.080781 \nL 233.785312 23.079219 \nL 209.625312 23.079219 \nL 209.625312 -1.080781 \n\" style=\"fill:#f2f2f2;\"/>\n    <path clip-path=\"url(#pe48710c886)\" d=\"M 233.785312 -1.080781 \nL 257.945312 -1.080781 \nL 257.945312 23.079219 \nL 233.785312 23.079219 \nL 233.785312 -1.080781 \n\" style=\"fill:#f2f2f2;\"/>\n    <path clip-path=\"url(#pe48710c886)\" d=\"M 257.945312 -1.080781 \nL 282.105312 -1.080781 \nL 282.105312 23.079219 \nL 257.945312 23.079219 \nL 257.945312 -1.080781 \n\" style=\"fill:#f2f2f2;\"/>\n    <path clip-path=\"url(#pe48710c886)\" d=\"M 282.105312 -1.080781 \nL 306.265312 -1.080781 \nL 306.265312 23.079219 \nL 282.105312 23.079219 \nL 282.105312 -1.080781 \n\" style=\"fill:#f2f2f2;\"/>\n    <path clip-path=\"url(#pe48710c886)\" d=\"M 306.265312 -1.080781 \nL 330.425312 -1.080781 \nL 330.425312 23.079219 \nL 306.265312 23.079219 \nL 306.265312 -1.080781 \n\" style=\"fill:#f2f2f2;\"/>\n    <path clip-path=\"url(#pe48710c886)\" d=\"M 330.425312 -1.080781 \nL 354.585312 -1.080781 \nL 354.585312 23.079219 \nL 330.425312 23.079219 \nL 330.425312 -1.080781 \n\" style=\"fill:#f2f2f2;\"/>\n    <path clip-path=\"url(#pe48710c886)\" d=\"M 354.585312 -1.080781 \nL 378.745312 -1.080781 \nL 378.745312 23.079219 \nL 354.585312 23.079219 \nL 354.585312 -1.080781 \n\" style=\"fill:#f2f2f2;\"/>\n    <path clip-path=\"url(#pe48710c886)\" d=\"M 137.145312 23.079219 \nL 161.305312 23.079219 \nL 161.305312 47.239219 \nL 137.145312 47.239219 \nL 137.145312 23.079219 \n\" style=\"fill:#f2f2f2;\"/>\n    <path clip-path=\"url(#pe48710c886)\" d=\"M 161.305312 23.079219 \nL 185.465312 23.079219 \nL 185.465312 47.239219 \nL 161.305312 47.239219 \nL 161.305312 23.079219 \n\" style=\"fill:#3f7f93;\"/>\n    <path clip-path=\"url(#pe48710c886)\" d=\"M 185.465312 23.079219 \nL 209.625312 23.079219 \nL 209.625312 47.239219 \nL 185.465312 47.239219 \nL 185.465312 23.079219 \n\" style=\"fill:#f2f2f2;\"/>\n    <path clip-path=\"url(#pe48710c886)\" d=\"M 209.625312 23.079219 \nL 233.785312 23.079219 \nL 233.785312 47.239219 \nL 209.625312 47.239219 \nL 209.625312 23.079219 \n\" style=\"fill:#f2f2f2;\"/>\n    <path clip-path=\"url(#pe48710c886)\" d=\"M 233.785312 23.079219 \nL 257.945312 23.079219 \nL 257.945312 47.239219 \nL 233.785312 47.239219 \nL 233.785312 23.079219 \n\" style=\"fill:#e9f2f5;\"/>\n    <path clip-path=\"url(#pe48710c886)\" d=\"M 257.945312 23.079219 \nL 282.105312 23.079219 \nL 282.105312 47.239219 \nL 257.945312 47.239219 \nL 257.945312 23.079219 \n\" style=\"fill:#d9e8ec;\"/>\n    <path clip-path=\"url(#pe48710c886)\" d=\"M 282.105312 23.079219 \nL 306.265312 23.079219 \nL 306.265312 47.239219 \nL 282.105312 47.239219 \nL 282.105312 23.079219 \n\" style=\"fill:#f2f2f2;\"/>\n    <path clip-path=\"url(#pe48710c886)\" d=\"M 306.265312 23.079219 \nL 330.425312 23.079219 \nL 330.425312 47.239219 \nL 306.265312 47.239219 \nL 306.265312 23.079219 \n\" style=\"fill:#f2f2f2;\"/>\n    <path clip-path=\"url(#pe48710c886)\" d=\"M 330.425312 23.079219 \nL 354.585312 23.079219 \nL 354.585312 47.239219 \nL 330.425312 47.239219 \nL 330.425312 23.079219 \n\" style=\"fill:#f2f2f2;\"/>\n    <path clip-path=\"url(#pe48710c886)\" d=\"M 354.585312 23.079219 \nL 378.745312 23.079219 \nL 378.745312 47.239219 \nL 354.585312 47.239219 \nL 354.585312 23.079219 \n\" style=\"fill:#f2f2f2;\"/>\n    <path clip-path=\"url(#pe48710c886)\" d=\"M 137.145312 47.239219 \nL 161.305312 47.239219 \nL 161.305312 71.399219 \nL 137.145312 71.399219 \nL 137.145312 47.239219 \n\" style=\"fill:#f2f2f2;\"/>\n    <path clip-path=\"url(#pe48710c886)\" d=\"M 161.305312 47.239219 \nL 185.465312 47.239219 \nL 185.465312 71.399219 \nL 161.305312 71.399219 \nL 161.305312 47.239219 \n\" style=\"fill:#f2f2f2;\"/>\n    <path clip-path=\"url(#pe48710c886)\" d=\"M 185.465312 47.239219 \nL 209.625312 47.239219 \nL 209.625312 71.399219 \nL 185.465312 71.399219 \nL 185.465312 47.239219 \n\" style=\"fill:#3f7f93;\"/>\n    <path clip-path=\"url(#pe48710c886)\" d=\"M 209.625312 47.239219 \nL 233.785312 47.239219 \nL 233.785312 71.399219 \nL 209.625312 71.399219 \nL 209.625312 47.239219 \n\" style=\"fill:#ecc9c0;\"/>\n    <path clip-path=\"url(#pe48710c886)\" d=\"M 233.785312 47.239219 \nL 257.945312 47.239219 \nL 257.945312 71.399219 \nL 233.785312 71.399219 \nL 233.785312 47.239219 \n\" style=\"fill:#f2f2f2;\"/>\n    <path clip-path=\"url(#pe48710c886)\" d=\"M 257.945312 47.239219 \nL 282.105312 47.239219 \nL 282.105312 71.399219 \nL 257.945312 71.399219 \nL 257.945312 47.239219 \n\" style=\"fill:#f2f2f2;\"/>\n    <path clip-path=\"url(#pe48710c886)\" d=\"M 282.105312 47.239219 \nL 306.265312 47.239219 \nL 306.265312 71.399219 \nL 282.105312 71.399219 \nL 282.105312 47.239219 \n\" style=\"fill:#f2f2f2;\"/>\n    <path clip-path=\"url(#pe48710c886)\" d=\"M 306.265312 47.239219 \nL 330.425312 47.239219 \nL 330.425312 71.399219 \nL 306.265312 71.399219 \nL 306.265312 47.239219 \n\" style=\"fill:#f2f2f2;\"/>\n    <path clip-path=\"url(#pe48710c886)\" d=\"M 330.425312 47.239219 \nL 354.585312 47.239219 \nL 354.585312 71.399219 \nL 330.425312 71.399219 \nL 330.425312 47.239219 \n\" style=\"fill:#f2f2f2;\"/>\n    <path clip-path=\"url(#pe48710c886)\" d=\"M 354.585312 47.239219 \nL 378.745312 47.239219 \nL 378.745312 71.399219 \nL 354.585312 71.399219 \nL 354.585312 47.239219 \n\" style=\"fill:#f2f2f2;\"/>\n    <path clip-path=\"url(#pe48710c886)\" d=\"M 137.145312 71.399219 \nL 161.305312 71.399219 \nL 161.305312 95.559219 \nL 137.145312 95.559219 \nL 137.145312 71.399219 \n\" style=\"fill:#f2f2f2;\"/>\n    <path clip-path=\"url(#pe48710c886)\" d=\"M 161.305312 71.399219 \nL 185.465312 71.399219 \nL 185.465312 95.559219 \nL 161.305312 95.559219 \nL 161.305312 71.399219 \n\" style=\"fill:#f2f2f2;\"/>\n    <path clip-path=\"url(#pe48710c886)\" d=\"M 185.465312 71.399219 \nL 209.625312 71.399219 \nL 209.625312 95.559219 \nL 185.465312 95.559219 \nL 185.465312 71.399219 \n\" style=\"fill:#ecc9c0;\"/>\n    <path clip-path=\"url(#pe48710c886)\" d=\"M 209.625312 71.399219 \nL 233.785312 71.399219 \nL 233.785312 95.559219 \nL 209.625312 95.559219 \nL 209.625312 71.399219 \n\" style=\"fill:#3f7f93;\"/>\n    <path clip-path=\"url(#pe48710c886)\" d=\"M 233.785312 71.399219 \nL 257.945312 71.399219 \nL 257.945312 95.559219 \nL 233.785312 95.559219 \nL 233.785312 71.399219 \n\" style=\"fill:#f2f2f2;\"/>\n    <path clip-path=\"url(#pe48710c886)\" d=\"M 257.945312 71.399219 \nL 282.105312 71.399219 \nL 282.105312 95.559219 \nL 257.945312 95.559219 \nL 257.945312 71.399219 \n\" style=\"fill:#f2f2f2;\"/>\n    <path clip-path=\"url(#pe48710c886)\" d=\"M 282.105312 71.399219 \nL 306.265312 71.399219 \nL 306.265312 95.559219 \nL 282.105312 95.559219 \nL 282.105312 71.399219 \n\" style=\"fill:#f2f2f2;\"/>\n    <path clip-path=\"url(#pe48710c886)\" d=\"M 306.265312 71.399219 \nL 330.425312 71.399219 \nL 330.425312 95.559219 \nL 306.265312 95.559219 \nL 306.265312 71.399219 \n\" style=\"fill:#f2f2f2;\"/>\n    <path clip-path=\"url(#pe48710c886)\" d=\"M 330.425312 71.399219 \nL 354.585312 71.399219 \nL 354.585312 95.559219 \nL 330.425312 95.559219 \nL 330.425312 71.399219 \n\" style=\"fill:#f2f2f2;\"/>\n    <path clip-path=\"url(#pe48710c886)\" d=\"M 354.585312 71.399219 \nL 378.745312 71.399219 \nL 378.745312 95.559219 \nL 354.585312 95.559219 \nL 354.585312 71.399219 \n\" style=\"fill:#f2f2f2;\"/>\n    <path clip-path=\"url(#pe48710c886)\" d=\"M 137.145312 95.559219 \nL 161.305312 95.559219 \nL 161.305312 119.719219 \nL 137.145312 119.719219 \nL 137.145312 95.559219 \n\" style=\"fill:#f2f2f2;\"/>\n    <path clip-path=\"url(#pe48710c886)\" d=\"M 161.305312 95.559219 \nL 185.465312 95.559219 \nL 185.465312 119.719219 \nL 161.305312 119.719219 \nL 161.305312 95.559219 \n\" style=\"fill:#e9f2f5;\"/>\n    <path clip-path=\"url(#pe48710c886)\" d=\"M 185.465312 95.559219 \nL 209.625312 95.559219 \nL 209.625312 119.719219 \nL 185.465312 119.719219 \nL 185.465312 95.559219 \n\" style=\"fill:#f2f2f2;\"/>\n    <path clip-path=\"url(#pe48710c886)\" d=\"M 209.625312 95.559219 \nL 233.785312 95.559219 \nL 233.785312 119.719219 \nL 209.625312 119.719219 \nL 209.625312 95.559219 \n\" style=\"fill:#f2f2f2;\"/>\n    <path clip-path=\"url(#pe48710c886)\" d=\"M 233.785312 95.559219 \nL 257.945312 95.559219 \nL 257.945312 119.719219 \nL 233.785312 119.719219 \nL 233.785312 95.559219 \n\" style=\"fill:#3f7f93;\"/>\n    <path clip-path=\"url(#pe48710c886)\" d=\"M 257.945312 95.559219 \nL 282.105312 95.559219 \nL 282.105312 119.719219 \nL 257.945312 119.719219 \nL 257.945312 95.559219 \n\" style=\"fill:#7ca9b6;\"/>\n    <path clip-path=\"url(#pe48710c886)\" d=\"M 282.105312 95.559219 \nL 306.265312 95.559219 \nL 306.265312 119.719219 \nL 282.105312 119.719219 \nL 282.105312 95.559219 \n\" style=\"fill:#f2f2f2;\"/>\n    <path clip-path=\"url(#pe48710c886)\" d=\"M 306.265312 95.559219 \nL 330.425312 95.559219 \nL 330.425312 119.719219 \nL 306.265312 119.719219 \nL 306.265312 95.559219 \n\" style=\"fill:#f2f2f2;\"/>\n    <path clip-path=\"url(#pe48710c886)\" d=\"M 330.425312 95.559219 \nL 354.585312 95.559219 \nL 354.585312 119.719219 \nL 330.425312 119.719219 \nL 330.425312 95.559219 \n\" style=\"fill:#f2f2f2;\"/>\n    <path clip-path=\"url(#pe48710c886)\" d=\"M 354.585312 95.559219 \nL 378.745312 95.559219 \nL 378.745312 119.719219 \nL 354.585312 119.719219 \nL 354.585312 95.559219 \n\" style=\"fill:#f2f2f2;\"/>\n    <path clip-path=\"url(#pe48710c886)\" d=\"M 137.145312 119.719219 \nL 161.305312 119.719219 \nL 161.305312 143.879219 \nL 137.145312 143.879219 \nL 137.145312 119.719219 \n\" style=\"fill:#f2f2f2;\"/>\n    <path clip-path=\"url(#pe48710c886)\" d=\"M 161.305312 119.719219 \nL 185.465312 119.719219 \nL 185.465312 143.879219 \nL 161.305312 143.879219 \nL 161.305312 119.719219 \n\" style=\"fill:#d9e8ec;\"/>\n    <path clip-path=\"url(#pe48710c886)\" d=\"M 185.465312 119.719219 \nL 209.625312 119.719219 \nL 209.625312 143.879219 \nL 185.465312 143.879219 \nL 185.465312 119.719219 \n\" style=\"fill:#f2f2f2;\"/>\n    <path clip-path=\"url(#pe48710c886)\" d=\"M 209.625312 119.719219 \nL 233.785312 119.719219 \nL 233.785312 143.879219 \nL 209.625312 143.879219 \nL 209.625312 119.719219 \n\" style=\"fill:#f2f2f2;\"/>\n    <path clip-path=\"url(#pe48710c886)\" d=\"M 233.785312 119.719219 \nL 257.945312 119.719219 \nL 257.945312 143.879219 \nL 233.785312 143.879219 \nL 233.785312 119.719219 \n\" style=\"fill:#7ca9b6;\"/>\n    <path clip-path=\"url(#pe48710c886)\" d=\"M 257.945312 119.719219 \nL 282.105312 119.719219 \nL 282.105312 143.879219 \nL 257.945312 143.879219 \nL 257.945312 119.719219 \n\" style=\"fill:#3f7f93;\"/>\n    <path clip-path=\"url(#pe48710c886)\" d=\"M 282.105312 119.719219 \nL 306.265312 119.719219 \nL 306.265312 143.879219 \nL 282.105312 143.879219 \nL 282.105312 119.719219 \n\" style=\"fill:#f2f2f2;\"/>\n    <path clip-path=\"url(#pe48710c886)\" d=\"M 306.265312 119.719219 \nL 330.425312 119.719219 \nL 330.425312 143.879219 \nL 306.265312 143.879219 \nL 306.265312 119.719219 \n\" style=\"fill:#edcdc4;\"/>\n    <path clip-path=\"url(#pe48710c886)\" d=\"M 330.425312 119.719219 \nL 354.585312 119.719219 \nL 354.585312 143.879219 \nL 330.425312 143.879219 \nL 330.425312 119.719219 \n\" style=\"fill:#f1d8d2;\"/>\n    <path clip-path=\"url(#pe48710c886)\" d=\"M 354.585312 119.719219 \nL 378.745312 119.719219 \nL 378.745312 143.879219 \nL 354.585312 143.879219 \nL 354.585312 119.719219 \n\" style=\"fill:#f2f2f2;\"/>\n    <path clip-path=\"url(#pe48710c886)\" d=\"M 137.145312 143.879219 \nL 161.305312 143.879219 \nL 161.305312 168.039219 \nL 137.145312 168.039219 \nL 137.145312 143.879219 \n\" style=\"fill:#f2f2f2;\"/>\n    <path clip-path=\"url(#pe48710c886)\" d=\"M 161.305312 143.879219 \nL 185.465312 143.879219 \nL 185.465312 168.039219 \nL 161.305312 168.039219 \nL 161.305312 143.879219 \n\" style=\"fill:#f2f2f2;\"/>\n    <path clip-path=\"url(#pe48710c886)\" d=\"M 185.465312 143.879219 \nL 209.625312 143.879219 \nL 209.625312 168.039219 \nL 185.465312 168.039219 \nL 185.465312 143.879219 \n\" style=\"fill:#f2f2f2;\"/>\n    <path clip-path=\"url(#pe48710c886)\" d=\"M 209.625312 143.879219 \nL 233.785312 143.879219 \nL 233.785312 168.039219 \nL 209.625312 168.039219 \nL 209.625312 143.879219 \n\" style=\"fill:#f2f2f2;\"/>\n    <path clip-path=\"url(#pe48710c886)\" d=\"M 233.785312 143.879219 \nL 257.945312 143.879219 \nL 257.945312 168.039219 \nL 233.785312 168.039219 \nL 233.785312 143.879219 \n\" style=\"fill:#f2f2f2;\"/>\n    <path clip-path=\"url(#pe48710c886)\" d=\"M 257.945312 143.879219 \nL 282.105312 143.879219 \nL 282.105312 168.039219 \nL 257.945312 168.039219 \nL 257.945312 143.879219 \n\" style=\"fill:#f2f2f2;\"/>\n    <path clip-path=\"url(#pe48710c886)\" d=\"M 282.105312 143.879219 \nL 306.265312 143.879219 \nL 306.265312 168.039219 \nL 282.105312 168.039219 \nL 282.105312 143.879219 \n\" style=\"fill:#3f7f93;\"/>\n    <path clip-path=\"url(#pe48710c886)\" d=\"M 306.265312 143.879219 \nL 330.425312 143.879219 \nL 330.425312 168.039219 \nL 306.265312 168.039219 \nL 306.265312 143.879219 \n\" style=\"fill:#f9eeeb;\"/>\n    <path clip-path=\"url(#pe48710c886)\" d=\"M 330.425312 143.879219 \nL 354.585312 143.879219 \nL 354.585312 168.039219 \nL 330.425312 168.039219 \nL 330.425312 143.879219 \n\" style=\"fill:#f2f2f2;\"/>\n    <path clip-path=\"url(#pe48710c886)\" d=\"M 354.585312 143.879219 \nL 378.745312 143.879219 \nL 378.745312 168.039219 \nL 354.585312 168.039219 \nL 354.585312 143.879219 \n\" style=\"fill:#428195;\"/>\n    <path clip-path=\"url(#pe48710c886)\" d=\"M 137.145312 168.039219 \nL 161.305312 168.039219 \nL 161.305312 192.199219 \nL 137.145312 192.199219 \nL 137.145312 168.039219 \n\" style=\"fill:#f2f2f2;\"/>\n    <path clip-path=\"url(#pe48710c886)\" d=\"M 161.305312 168.039219 \nL 185.465312 168.039219 \nL 185.465312 192.199219 \nL 161.305312 192.199219 \nL 161.305312 168.039219 \n\" style=\"fill:#f2f2f2;\"/>\n    <path clip-path=\"url(#pe48710c886)\" d=\"M 185.465312 168.039219 \nL 209.625312 168.039219 \nL 209.625312 192.199219 \nL 185.465312 192.199219 \nL 185.465312 168.039219 \n\" style=\"fill:#f2f2f2;\"/>\n    <path clip-path=\"url(#pe48710c886)\" d=\"M 209.625312 168.039219 \nL 233.785312 168.039219 \nL 233.785312 192.199219 \nL 209.625312 192.199219 \nL 209.625312 168.039219 \n\" style=\"fill:#f2f2f2;\"/>\n    <path clip-path=\"url(#pe48710c886)\" d=\"M 233.785312 168.039219 \nL 257.945312 168.039219 \nL 257.945312 192.199219 \nL 233.785312 192.199219 \nL 233.785312 168.039219 \n\" style=\"fill:#f2f2f2;\"/>\n    <path clip-path=\"url(#pe48710c886)\" d=\"M 257.945312 168.039219 \nL 282.105312 168.039219 \nL 282.105312 192.199219 \nL 257.945312 192.199219 \nL 257.945312 168.039219 \n\" style=\"fill:#edcdc4;\"/>\n    <path clip-path=\"url(#pe48710c886)\" d=\"M 282.105312 168.039219 \nL 306.265312 168.039219 \nL 306.265312 192.199219 \nL 282.105312 192.199219 \nL 282.105312 168.039219 \n\" style=\"fill:#f9eeeb;\"/>\n    <path clip-path=\"url(#pe48710c886)\" d=\"M 306.265312 168.039219 \nL 330.425312 168.039219 \nL 330.425312 192.199219 \nL 306.265312 192.199219 \nL 306.265312 168.039219 \n\" style=\"fill:#3f7f93;\"/>\n    <path clip-path=\"url(#pe48710c886)\" d=\"M 330.425312 168.039219 \nL 354.585312 168.039219 \nL 354.585312 192.199219 \nL 330.425312 192.199219 \nL 330.425312 168.039219 \n\" style=\"fill:#6e9fae;\"/>\n    <path clip-path=\"url(#pe48710c886)\" d=\"M 354.585312 168.039219 \nL 378.745312 168.039219 \nL 378.745312 192.199219 \nL 354.585312 192.199219 \nL 354.585312 168.039219 \n\" style=\"fill:#f2f2f2;\"/>\n    <path clip-path=\"url(#pe48710c886)\" d=\"M 137.145312 192.199219 \nL 161.305312 192.199219 \nL 161.305312 216.359219 \nL 137.145312 216.359219 \nL 137.145312 192.199219 \n\" style=\"fill:#f2f2f2;\"/>\n    <path clip-path=\"url(#pe48710c886)\" d=\"M 161.305312 192.199219 \nL 185.465312 192.199219 \nL 185.465312 216.359219 \nL 161.305312 216.359219 \nL 161.305312 192.199219 \n\" style=\"fill:#f2f2f2;\"/>\n    <path clip-path=\"url(#pe48710c886)\" d=\"M 185.465312 192.199219 \nL 209.625312 192.199219 \nL 209.625312 216.359219 \nL 185.465312 216.359219 \nL 185.465312 192.199219 \n\" style=\"fill:#f2f2f2;\"/>\n    <path clip-path=\"url(#pe48710c886)\" d=\"M 209.625312 192.199219 \nL 233.785312 192.199219 \nL 233.785312 216.359219 \nL 209.625312 216.359219 \nL 209.625312 192.199219 \n\" style=\"fill:#f2f2f2;\"/>\n    <path clip-path=\"url(#pe48710c886)\" d=\"M 233.785312 192.199219 \nL 257.945312 192.199219 \nL 257.945312 216.359219 \nL 233.785312 216.359219 \nL 233.785312 192.199219 \n\" style=\"fill:#f2f2f2;\"/>\n    <path clip-path=\"url(#pe48710c886)\" d=\"M 257.945312 192.199219 \nL 282.105312 192.199219 \nL 282.105312 216.359219 \nL 257.945312 216.359219 \nL 257.945312 192.199219 \n\" style=\"fill:#f1d8d2;\"/>\n    <path clip-path=\"url(#pe48710c886)\" d=\"M 282.105312 192.199219 \nL 306.265312 192.199219 \nL 306.265312 216.359219 \nL 282.105312 216.359219 \nL 282.105312 192.199219 \n\" style=\"fill:#f2f2f2;\"/>\n    <path clip-path=\"url(#pe48710c886)\" d=\"M 306.265312 192.199219 \nL 330.425312 192.199219 \nL 330.425312 216.359219 \nL 306.265312 216.359219 \nL 306.265312 192.199219 \n\" style=\"fill:#6e9fae;\"/>\n    <path clip-path=\"url(#pe48710c886)\" d=\"M 330.425312 192.199219 \nL 354.585312 192.199219 \nL 354.585312 216.359219 \nL 330.425312 216.359219 \nL 330.425312 192.199219 \n\" style=\"fill:#3f7f93;\"/>\n    <path clip-path=\"url(#pe48710c886)\" d=\"M 354.585312 192.199219 \nL 378.745312 192.199219 \nL 378.745312 216.359219 \nL 354.585312 216.359219 \nL 354.585312 192.199219 \n\" style=\"fill:#f2f2f2;\"/>\n    <path clip-path=\"url(#pe48710c886)\" d=\"M 137.145312 216.359219 \nL 161.305312 216.359219 \nL 161.305312 240.519219 \nL 137.145312 240.519219 \nL 137.145312 216.359219 \n\" style=\"fill:#f2f2f2;\"/>\n    <path clip-path=\"url(#pe48710c886)\" d=\"M 161.305312 216.359219 \nL 185.465312 216.359219 \nL 185.465312 240.519219 \nL 161.305312 240.519219 \nL 161.305312 216.359219 \n\" style=\"fill:#f2f2f2;\"/>\n    <path clip-path=\"url(#pe48710c886)\" d=\"M 185.465312 216.359219 \nL 209.625312 216.359219 \nL 209.625312 240.519219 \nL 185.465312 240.519219 \nL 185.465312 216.359219 \n\" style=\"fill:#f2f2f2;\"/>\n    <path clip-path=\"url(#pe48710c886)\" d=\"M 209.625312 216.359219 \nL 233.785312 216.359219 \nL 233.785312 240.519219 \nL 209.625312 240.519219 \nL 209.625312 216.359219 \n\" style=\"fill:#f2f2f2;\"/>\n    <path clip-path=\"url(#pe48710c886)\" d=\"M 233.785312 216.359219 \nL 257.945312 216.359219 \nL 257.945312 240.519219 \nL 233.785312 240.519219 \nL 233.785312 216.359219 \n\" style=\"fill:#f2f2f2;\"/>\n    <path clip-path=\"url(#pe48710c886)\" d=\"M 257.945312 216.359219 \nL 282.105312 216.359219 \nL 282.105312 240.519219 \nL 257.945312 240.519219 \nL 257.945312 216.359219 \n\" style=\"fill:#f2f2f2;\"/>\n    <path clip-path=\"url(#pe48710c886)\" d=\"M 282.105312 216.359219 \nL 306.265312 216.359219 \nL 306.265312 240.519219 \nL 282.105312 240.519219 \nL 282.105312 216.359219 \n\" style=\"fill:#428195;\"/>\n    <path clip-path=\"url(#pe48710c886)\" d=\"M 306.265312 216.359219 \nL 330.425312 216.359219 \nL 330.425312 240.519219 \nL 306.265312 240.519219 \nL 306.265312 216.359219 \n\" style=\"fill:#f2f2f2;\"/>\n    <path clip-path=\"url(#pe48710c886)\" d=\"M 330.425312 216.359219 \nL 354.585312 216.359219 \nL 354.585312 240.519219 \nL 330.425312 240.519219 \nL 330.425312 216.359219 \n\" style=\"fill:#f2f2f2;\"/>\n    <path clip-path=\"url(#pe48710c886)\" d=\"M 354.585312 216.359219 \nL 378.745312 216.359219 \nL 378.745312 240.519219 \nL 354.585312 240.519219 \nL 354.585312 216.359219 \n\" style=\"fill:#3f7f93;\"/>\n   </g>\n   <g id=\"matplotlib.axis_1\">\n    <g id=\"xtick_1\">\n     <g id=\"line2d_1\">\n      <defs>\n       <path d=\"M 0 0 \nL 0 3.5 \n\" id=\"meee8ea2e3e\" style=\"stroke:#000000;stroke-width:0.8;\"/>\n      </defs>\n      <g>\n       <use style=\"stroke:#000000;stroke-width:0.8;\" x=\"149.225312\" xlink:href=\"#meee8ea2e3e\" y=\"228.439219\"/>\n      </g>\n     </g>\n     <g id=\"text_1\">\n      <!-- Customer_Number -->\n      <defs>\n       <path d=\"M 64.40625 67.28125 \nL 64.40625 56.890625 \nQ 59.421875 61.53125 53.78125 63.8125 \nQ 48.140625 66.109375 41.796875 66.109375 \nQ 29.296875 66.109375 22.65625 58.46875 \nQ 16.015625 50.828125 16.015625 36.375 \nQ 16.015625 21.96875 22.65625 14.328125 \nQ 29.296875 6.6875 41.796875 6.6875 \nQ 48.140625 6.6875 53.78125 8.984375 \nQ 59.421875 11.28125 64.40625 15.921875 \nL 64.40625 5.609375 \nQ 59.234375 2.09375 53.4375 0.328125 \nQ 47.65625 -1.421875 41.21875 -1.421875 \nQ 24.65625 -1.421875 15.125 8.703125 \nQ 5.609375 18.84375 5.609375 36.375 \nQ 5.609375 53.953125 15.125 64.078125 \nQ 24.65625 74.21875 41.21875 74.21875 \nQ 47.75 74.21875 53.53125 72.484375 \nQ 59.328125 70.75 64.40625 67.28125 \nz\n\" id=\"DejaVuSans-67\"/>\n       <path d=\"M 8.5 21.578125 \nL 8.5 54.6875 \nL 17.484375 54.6875 \nL 17.484375 21.921875 \nQ 17.484375 14.15625 20.5 10.265625 \nQ 23.53125 6.390625 29.59375 6.390625 \nQ 36.859375 6.390625 41.078125 11.03125 \nQ 45.3125 15.671875 45.3125 23.6875 \nL 45.3125 54.6875 \nL 54.296875 54.6875 \nL 54.296875 0 \nL 45.3125 0 \nL 45.3125 8.40625 \nQ 42.046875 3.421875 37.71875 1 \nQ 33.40625 -1.421875 27.6875 -1.421875 \nQ 18.265625 -1.421875 13.375 4.4375 \nQ 8.5 10.296875 8.5 21.578125 \nz\nM 31.109375 56 \nz\n\" id=\"DejaVuSans-117\"/>\n       <path d=\"M 44.28125 53.078125 \nL 44.28125 44.578125 \nQ 40.484375 46.53125 36.375 47.5 \nQ 32.28125 48.484375 27.875 48.484375 \nQ 21.1875 48.484375 17.84375 46.4375 \nQ 14.5 44.390625 14.5 40.28125 \nQ 14.5 37.15625 16.890625 35.375 \nQ 19.28125 33.59375 26.515625 31.984375 \nL 29.59375 31.296875 \nQ 39.15625 29.25 43.1875 25.515625 \nQ 47.21875 21.78125 47.21875 15.09375 \nQ 47.21875 7.46875 41.1875 3.015625 \nQ 35.15625 -1.421875 24.609375 -1.421875 \nQ 20.21875 -1.421875 15.453125 -0.5625 \nQ 10.6875 0.296875 5.421875 2 \nL 5.421875 11.28125 \nQ 10.40625 8.6875 15.234375 7.390625 \nQ 20.0625 6.109375 24.8125 6.109375 \nQ 31.15625 6.109375 34.5625 8.28125 \nQ 37.984375 10.453125 37.984375 14.40625 \nQ 37.984375 18.0625 35.515625 20.015625 \nQ 33.0625 21.96875 24.703125 23.78125 \nL 21.578125 24.515625 \nQ 13.234375 26.265625 9.515625 29.90625 \nQ 5.8125 33.546875 5.8125 39.890625 \nQ 5.8125 47.609375 11.28125 51.796875 \nQ 16.75 56 26.8125 56 \nQ 31.78125 56 36.171875 55.265625 \nQ 40.578125 54.546875 44.28125 53.078125 \nz\n\" id=\"DejaVuSans-115\"/>\n       <path d=\"M 18.3125 70.21875 \nL 18.3125 54.6875 \nL 36.8125 54.6875 \nL 36.8125 47.703125 \nL 18.3125 47.703125 \nL 18.3125 18.015625 \nQ 18.3125 11.328125 20.140625 9.421875 \nQ 21.96875 7.515625 27.59375 7.515625 \nL 36.8125 7.515625 \nL 36.8125 0 \nL 27.59375 0 \nQ 17.1875 0 13.234375 3.875 \nQ 9.28125 7.765625 9.28125 18.015625 \nL 9.28125 47.703125 \nL 2.6875 47.703125 \nL 2.6875 54.6875 \nL 9.28125 54.6875 \nL 9.28125 70.21875 \nz\n\" id=\"DejaVuSans-116\"/>\n       <path d=\"M 30.609375 48.390625 \nQ 23.390625 48.390625 19.1875 42.75 \nQ 14.984375 37.109375 14.984375 27.296875 \nQ 14.984375 17.484375 19.15625 11.84375 \nQ 23.34375 6.203125 30.609375 6.203125 \nQ 37.796875 6.203125 41.984375 11.859375 \nQ 46.1875 17.53125 46.1875 27.296875 \nQ 46.1875 37.015625 41.984375 42.703125 \nQ 37.796875 48.390625 30.609375 48.390625 \nz\nM 30.609375 56 \nQ 42.328125 56 49.015625 48.375 \nQ 55.71875 40.765625 55.71875 27.296875 \nQ 55.71875 13.875 49.015625 6.21875 \nQ 42.328125 -1.421875 30.609375 -1.421875 \nQ 18.84375 -1.421875 12.171875 6.21875 \nQ 5.515625 13.875 5.515625 27.296875 \nQ 5.515625 40.765625 12.171875 48.375 \nQ 18.84375 56 30.609375 56 \nz\n\" id=\"DejaVuSans-111\"/>\n       <path d=\"M 52 44.1875 \nQ 55.375 50.25 60.0625 53.125 \nQ 64.75 56 71.09375 56 \nQ 79.640625 56 84.28125 50.015625 \nQ 88.921875 44.046875 88.921875 33.015625 \nL 88.921875 0 \nL 79.890625 0 \nL 79.890625 32.71875 \nQ 79.890625 40.578125 77.09375 44.375 \nQ 74.3125 48.1875 68.609375 48.1875 \nQ 61.625 48.1875 57.5625 43.546875 \nQ 53.515625 38.921875 53.515625 30.90625 \nL 53.515625 0 \nL 44.484375 0 \nL 44.484375 32.71875 \nQ 44.484375 40.625 41.703125 44.40625 \nQ 38.921875 48.1875 33.109375 48.1875 \nQ 26.21875 48.1875 22.15625 43.53125 \nQ 18.109375 38.875 18.109375 30.90625 \nL 18.109375 0 \nL 9.078125 0 \nL 9.078125 54.6875 \nL 18.109375 54.6875 \nL 18.109375 46.1875 \nQ 21.1875 51.21875 25.484375 53.609375 \nQ 29.78125 56 35.6875 56 \nQ 41.65625 56 45.828125 52.96875 \nQ 50 49.953125 52 44.1875 \nz\n\" id=\"DejaVuSans-109\"/>\n       <path d=\"M 56.203125 29.59375 \nL 56.203125 25.203125 \nL 14.890625 25.203125 \nQ 15.484375 15.921875 20.484375 11.0625 \nQ 25.484375 6.203125 34.421875 6.203125 \nQ 39.59375 6.203125 44.453125 7.46875 \nQ 49.3125 8.734375 54.109375 11.28125 \nL 54.109375 2.78125 \nQ 49.265625 0.734375 44.1875 -0.34375 \nQ 39.109375 -1.421875 33.890625 -1.421875 \nQ 20.796875 -1.421875 13.15625 6.1875 \nQ 5.515625 13.8125 5.515625 26.8125 \nQ 5.515625 40.234375 12.765625 48.109375 \nQ 20.015625 56 32.328125 56 \nQ 43.359375 56 49.78125 48.890625 \nQ 56.203125 41.796875 56.203125 29.59375 \nz\nM 47.21875 32.234375 \nQ 47.125 39.59375 43.09375 43.984375 \nQ 39.0625 48.390625 32.421875 48.390625 \nQ 24.90625 48.390625 20.390625 44.140625 \nQ 15.875 39.890625 15.1875 32.171875 \nz\n\" id=\"DejaVuSans-101\"/>\n       <path d=\"M 41.109375 46.296875 \nQ 39.59375 47.171875 37.8125 47.578125 \nQ 36.03125 48 33.890625 48 \nQ 26.265625 48 22.1875 43.046875 \nQ 18.109375 38.09375 18.109375 28.8125 \nL 18.109375 0 \nL 9.078125 0 \nL 9.078125 54.6875 \nL 18.109375 54.6875 \nL 18.109375 46.1875 \nQ 20.953125 51.171875 25.484375 53.578125 \nQ 30.03125 56 36.53125 56 \nQ 37.453125 56 38.578125 55.875 \nQ 39.703125 55.765625 41.0625 55.515625 \nz\n\" id=\"DejaVuSans-114\"/>\n       <path d=\"M 50.984375 -16.609375 \nL 50.984375 -23.578125 \nL -0.984375 -23.578125 \nL -0.984375 -16.609375 \nz\n\" id=\"DejaVuSans-95\"/>\n       <path d=\"M 9.8125 72.90625 \nL 23.09375 72.90625 \nL 55.421875 11.921875 \nL 55.421875 72.90625 \nL 64.984375 72.90625 \nL 64.984375 0 \nL 51.703125 0 \nL 19.390625 60.984375 \nL 19.390625 0 \nL 9.8125 0 \nz\n\" id=\"DejaVuSans-78\"/>\n       <path d=\"M 48.6875 27.296875 \nQ 48.6875 37.203125 44.609375 42.84375 \nQ 40.53125 48.484375 33.40625 48.484375 \nQ 26.265625 48.484375 22.1875 42.84375 \nQ 18.109375 37.203125 18.109375 27.296875 \nQ 18.109375 17.390625 22.1875 11.75 \nQ 26.265625 6.109375 33.40625 6.109375 \nQ 40.53125 6.109375 44.609375 11.75 \nQ 48.6875 17.390625 48.6875 27.296875 \nz\nM 18.109375 46.390625 \nQ 20.953125 51.265625 25.265625 53.625 \nQ 29.59375 56 35.59375 56 \nQ 45.5625 56 51.78125 48.09375 \nQ 58.015625 40.1875 58.015625 27.296875 \nQ 58.015625 14.40625 51.78125 6.484375 \nQ 45.5625 -1.421875 35.59375 -1.421875 \nQ 29.59375 -1.421875 25.265625 0.953125 \nQ 20.953125 3.328125 18.109375 8.203125 \nL 18.109375 0 \nL 9.078125 0 \nL 9.078125 75.984375 \nL 18.109375 75.984375 \nz\n\" id=\"DejaVuSans-98\"/>\n      </defs>\n      <g transform=\"translate(81.270141 307.100072)rotate(-45)scale(0.1 -0.1)\">\n       <use xlink:href=\"#DejaVuSans-67\"/>\n       <use x=\"69.824219\" xlink:href=\"#DejaVuSans-117\"/>\n       <use x=\"133.203125\" xlink:href=\"#DejaVuSans-115\"/>\n       <use x=\"185.302734\" xlink:href=\"#DejaVuSans-116\"/>\n       <use x=\"224.511719\" xlink:href=\"#DejaVuSans-111\"/>\n       <use x=\"285.693359\" xlink:href=\"#DejaVuSans-109\"/>\n       <use x=\"383.105469\" xlink:href=\"#DejaVuSans-101\"/>\n       <use x=\"444.628906\" xlink:href=\"#DejaVuSans-114\"/>\n       <use x=\"485.742188\" xlink:href=\"#DejaVuSans-95\"/>\n       <use x=\"535.742188\" xlink:href=\"#DejaVuSans-78\"/>\n       <use x=\"610.546875\" xlink:href=\"#DejaVuSans-117\"/>\n       <use x=\"673.925781\" xlink:href=\"#DejaVuSans-109\"/>\n       <use x=\"771.337891\" xlink:href=\"#DejaVuSans-98\"/>\n       <use x=\"834.814453\" xlink:href=\"#DejaVuSans-101\"/>\n       <use x=\"896.337891\" xlink:href=\"#DejaVuSans-114\"/>\n      </g>\n     </g>\n    </g>\n    <g id=\"xtick_2\">\n     <g id=\"line2d_2\">\n      <g>\n       <use style=\"stroke:#000000;stroke-width:0.8;\" x=\"173.385312\" xlink:href=\"#meee8ea2e3e\" y=\"228.439219\"/>\n      </g>\n     </g>\n     <g id=\"text_2\">\n      <!-- Order_Number -->\n      <defs>\n       <path d=\"M 39.40625 66.21875 \nQ 28.65625 66.21875 22.328125 58.203125 \nQ 16.015625 50.203125 16.015625 36.375 \nQ 16.015625 22.609375 22.328125 14.59375 \nQ 28.65625 6.59375 39.40625 6.59375 \nQ 50.140625 6.59375 56.421875 14.59375 \nQ 62.703125 22.609375 62.703125 36.375 \nQ 62.703125 50.203125 56.421875 58.203125 \nQ 50.140625 66.21875 39.40625 66.21875 \nz\nM 39.40625 74.21875 \nQ 54.734375 74.21875 63.90625 63.9375 \nQ 73.09375 53.65625 73.09375 36.375 \nQ 73.09375 19.140625 63.90625 8.859375 \nQ 54.734375 -1.421875 39.40625 -1.421875 \nQ 24.03125 -1.421875 14.8125 8.828125 \nQ 5.609375 19.09375 5.609375 36.375 \nQ 5.609375 53.65625 14.8125 63.9375 \nQ 24.03125 74.21875 39.40625 74.21875 \nz\n\" id=\"DejaVuSans-79\"/>\n       <path d=\"M 45.40625 46.390625 \nL 45.40625 75.984375 \nL 54.390625 75.984375 \nL 54.390625 0 \nL 45.40625 0 \nL 45.40625 8.203125 \nQ 42.578125 3.328125 38.25 0.953125 \nQ 33.9375 -1.421875 27.875 -1.421875 \nQ 17.96875 -1.421875 11.734375 6.484375 \nQ 5.515625 14.40625 5.515625 27.296875 \nQ 5.515625 40.1875 11.734375 48.09375 \nQ 17.96875 56 27.875 56 \nQ 33.9375 56 38.25 53.625 \nQ 42.578125 51.265625 45.40625 46.390625 \nz\nM 14.796875 27.296875 \nQ 14.796875 17.390625 18.875 11.75 \nQ 22.953125 6.109375 30.078125 6.109375 \nQ 37.203125 6.109375 41.296875 11.75 \nQ 45.40625 17.390625 45.40625 27.296875 \nQ 45.40625 37.203125 41.296875 42.84375 \nQ 37.203125 48.484375 30.078125 48.484375 \nQ 22.953125 48.484375 18.875 42.84375 \nQ 14.796875 37.203125 14.796875 27.296875 \nz\n\" id=\"DejaVuSans-100\"/>\n      </defs>\n      <g transform=\"translate(119.557914 292.972299)rotate(-45)scale(0.1 -0.1)\">\n       <use xlink:href=\"#DejaVuSans-79\"/>\n       <use x=\"78.710938\" xlink:href=\"#DejaVuSans-114\"/>\n       <use x=\"119.808594\" xlink:href=\"#DejaVuSans-100\"/>\n       <use x=\"183.285156\" xlink:href=\"#DejaVuSans-101\"/>\n       <use x=\"244.808594\" xlink:href=\"#DejaVuSans-114\"/>\n       <use x=\"285.921875\" xlink:href=\"#DejaVuSans-95\"/>\n       <use x=\"335.921875\" xlink:href=\"#DejaVuSans-78\"/>\n       <use x=\"410.726562\" xlink:href=\"#DejaVuSans-117\"/>\n       <use x=\"474.105469\" xlink:href=\"#DejaVuSans-109\"/>\n       <use x=\"571.517578\" xlink:href=\"#DejaVuSans-98\"/>\n       <use x=\"634.994141\" xlink:href=\"#DejaVuSans-101\"/>\n       <use x=\"696.517578\" xlink:href=\"#DejaVuSans-114\"/>\n      </g>\n     </g>\n    </g>\n    <g id=\"xtick_3\">\n     <g id=\"line2d_3\">\n      <g>\n       <use style=\"stroke:#000000;stroke-width:0.8;\" x=\"197.545312\" xlink:href=\"#meee8ea2e3e\" y=\"228.439219\"/>\n      </g>\n     </g>\n     <g id=\"text_3\">\n      <!-- Quantity -->\n      <defs>\n       <path d=\"M 39.40625 66.21875 \nQ 28.65625 66.21875 22.328125 58.203125 \nQ 16.015625 50.203125 16.015625 36.375 \nQ 16.015625 22.609375 22.328125 14.59375 \nQ 28.65625 6.59375 39.40625 6.59375 \nQ 50.140625 6.59375 56.421875 14.59375 \nQ 62.703125 22.609375 62.703125 36.375 \nQ 62.703125 50.203125 56.421875 58.203125 \nQ 50.140625 66.21875 39.40625 66.21875 \nz\nM 53.21875 1.3125 \nL 66.21875 -12.890625 \nL 54.296875 -12.890625 \nL 43.5 -1.21875 \nQ 41.890625 -1.3125 41.03125 -1.359375 \nQ 40.1875 -1.421875 39.40625 -1.421875 \nQ 24.03125 -1.421875 14.8125 8.859375 \nQ 5.609375 19.140625 5.609375 36.375 \nQ 5.609375 53.65625 14.8125 63.9375 \nQ 24.03125 74.21875 39.40625 74.21875 \nQ 54.734375 74.21875 63.90625 63.9375 \nQ 73.09375 53.65625 73.09375 36.375 \nQ 73.09375 23.6875 67.984375 14.640625 \nQ 62.890625 5.609375 53.21875 1.3125 \nz\n\" id=\"DejaVuSans-81\"/>\n       <path d=\"M 34.28125 27.484375 \nQ 23.390625 27.484375 19.1875 25 \nQ 14.984375 22.515625 14.984375 16.5 \nQ 14.984375 11.71875 18.140625 8.90625 \nQ 21.296875 6.109375 26.703125 6.109375 \nQ 34.1875 6.109375 38.703125 11.40625 \nQ 43.21875 16.703125 43.21875 25.484375 \nL 43.21875 27.484375 \nz\nM 52.203125 31.203125 \nL 52.203125 0 \nL 43.21875 0 \nL 43.21875 8.296875 \nQ 40.140625 3.328125 35.546875 0.953125 \nQ 30.953125 -1.421875 24.3125 -1.421875 \nQ 15.921875 -1.421875 10.953125 3.296875 \nQ 6 8.015625 6 15.921875 \nQ 6 25.140625 12.171875 29.828125 \nQ 18.359375 34.515625 30.609375 34.515625 \nL 43.21875 34.515625 \nL 43.21875 35.40625 \nQ 43.21875 41.609375 39.140625 45 \nQ 35.0625 48.390625 27.6875 48.390625 \nQ 23 48.390625 18.546875 47.265625 \nQ 14.109375 46.140625 10.015625 43.890625 \nL 10.015625 52.203125 \nQ 14.9375 54.109375 19.578125 55.046875 \nQ 24.21875 56 28.609375 56 \nQ 40.484375 56 46.34375 49.84375 \nQ 52.203125 43.703125 52.203125 31.203125 \nz\n\" id=\"DejaVuSans-97\"/>\n       <path d=\"M 54.890625 33.015625 \nL 54.890625 0 \nL 45.90625 0 \nL 45.90625 32.71875 \nQ 45.90625 40.484375 42.875 44.328125 \nQ 39.84375 48.1875 33.796875 48.1875 \nQ 26.515625 48.1875 22.3125 43.546875 \nQ 18.109375 38.921875 18.109375 30.90625 \nL 18.109375 0 \nL 9.078125 0 \nL 9.078125 54.6875 \nL 18.109375 54.6875 \nL 18.109375 46.1875 \nQ 21.34375 51.125 25.703125 53.5625 \nQ 30.078125 56 35.796875 56 \nQ 45.21875 56 50.046875 50.171875 \nQ 54.890625 44.34375 54.890625 33.015625 \nz\n\" id=\"DejaVuSans-110\"/>\n       <path d=\"M 9.421875 54.6875 \nL 18.40625 54.6875 \nL 18.40625 0 \nL 9.421875 0 \nz\nM 9.421875 75.984375 \nL 18.40625 75.984375 \nL 18.40625 64.59375 \nL 9.421875 64.59375 \nz\n\" id=\"DejaVuSans-105\"/>\n       <path d=\"M 32.171875 -5.078125 \nQ 28.375 -14.84375 24.75 -17.8125 \nQ 21.140625 -20.796875 15.09375 -20.796875 \nL 7.90625 -20.796875 \nL 7.90625 -13.28125 \nL 13.1875 -13.28125 \nQ 16.890625 -13.28125 18.9375 -11.515625 \nQ 21 -9.765625 23.484375 -3.21875 \nL 25.09375 0.875 \nL 2.984375 54.6875 \nL 12.5 54.6875 \nL 29.59375 11.921875 \nL 46.6875 54.6875 \nL 56.203125 54.6875 \nz\n\" id=\"DejaVuSans-121\"/>\n      </defs>\n      <g transform=\"translate(165.5189 271.367977)rotate(-45)scale(0.1 -0.1)\">\n       <use xlink:href=\"#DejaVuSans-81\"/>\n       <use x=\"78.710938\" xlink:href=\"#DejaVuSans-117\"/>\n       <use x=\"142.089844\" xlink:href=\"#DejaVuSans-97\"/>\n       <use x=\"203.369141\" xlink:href=\"#DejaVuSans-110\"/>\n       <use x=\"266.748047\" xlink:href=\"#DejaVuSans-116\"/>\n       <use x=\"305.957031\" xlink:href=\"#DejaVuSans-105\"/>\n       <use x=\"333.740234\" xlink:href=\"#DejaVuSans-116\"/>\n       <use x=\"372.949219\" xlink:href=\"#DejaVuSans-121\"/>\n      </g>\n     </g>\n    </g>\n    <g id=\"xtick_4\">\n     <g id=\"line2d_4\">\n      <g>\n       <use style=\"stroke:#000000;stroke-width:0.8;\" x=\"221.705312\" xlink:href=\"#meee8ea2e3e\" y=\"228.439219\"/>\n      </g>\n     </g>\n     <g id=\"text_4\">\n      <!-- Price -->\n      <defs>\n       <path d=\"M 19.671875 64.796875 \nL 19.671875 37.40625 \nL 32.078125 37.40625 \nQ 38.96875 37.40625 42.71875 40.96875 \nQ 46.484375 44.53125 46.484375 51.125 \nQ 46.484375 57.671875 42.71875 61.234375 \nQ 38.96875 64.796875 32.078125 64.796875 \nz\nM 9.8125 72.90625 \nL 32.078125 72.90625 \nQ 44.34375 72.90625 50.609375 67.359375 \nQ 56.890625 61.8125 56.890625 51.125 \nQ 56.890625 40.328125 50.609375 34.8125 \nQ 44.34375 29.296875 32.078125 29.296875 \nL 19.671875 29.296875 \nL 19.671875 0 \nL 9.8125 0 \nz\n\" id=\"DejaVuSans-80\"/>\n       <path d=\"M 48.78125 52.59375 \nL 48.78125 44.1875 \nQ 44.96875 46.296875 41.140625 47.34375 \nQ 37.3125 48.390625 33.40625 48.390625 \nQ 24.65625 48.390625 19.8125 42.84375 \nQ 14.984375 37.3125 14.984375 27.296875 \nQ 14.984375 17.28125 19.8125 11.734375 \nQ 24.65625 6.203125 33.40625 6.203125 \nQ 37.3125 6.203125 41.140625 7.25 \nQ 44.96875 8.296875 48.78125 10.40625 \nL 48.78125 2.09375 \nQ 45.015625 0.34375 40.984375 -0.53125 \nQ 36.96875 -1.421875 32.421875 -1.421875 \nQ 20.0625 -1.421875 12.78125 6.34375 \nQ 5.515625 14.109375 5.515625 27.296875 \nQ 5.515625 40.671875 12.859375 48.328125 \nQ 20.21875 56 33.015625 56 \nQ 37.15625 56 41.109375 55.140625 \nQ 45.0625 54.296875 48.78125 52.59375 \nz\n\" id=\"DejaVuSans-99\"/>\n      </defs>\n      <g transform=\"translate(202.862022 258.184855)rotate(-45)scale(0.1 -0.1)\">\n       <use xlink:href=\"#DejaVuSans-80\"/>\n       <use x=\"60.287109\" xlink:href=\"#DejaVuSans-114\"/>\n       <use x=\"101.400391\" xlink:href=\"#DejaVuSans-105\"/>\n       <use x=\"129.183594\" xlink:href=\"#DejaVuSans-99\"/>\n       <use x=\"184.164062\" xlink:href=\"#DejaVuSans-101\"/>\n      </g>\n     </g>\n    </g>\n    <g id=\"xtick_5\">\n     <g id=\"line2d_5\">\n      <g>\n       <use style=\"stroke:#000000;stroke-width:0.8;\" x=\"245.865312\" xlink:href=\"#meee8ea2e3e\" y=\"228.439219\"/>\n      </g>\n     </g>\n     <g id=\"text_5\">\n      <!-- Expected_Delivery_Time -->\n      <defs>\n       <path d=\"M 9.8125 72.90625 \nL 55.90625 72.90625 \nL 55.90625 64.59375 \nL 19.671875 64.59375 \nL 19.671875 43.015625 \nL 54.390625 43.015625 \nL 54.390625 34.71875 \nL 19.671875 34.71875 \nL 19.671875 8.296875 \nL 56.78125 8.296875 \nL 56.78125 0 \nL 9.8125 0 \nz\n\" id=\"DejaVuSans-69\"/>\n       <path d=\"M 54.890625 54.6875 \nL 35.109375 28.078125 \nL 55.90625 0 \nL 45.3125 0 \nL 29.390625 21.484375 \nL 13.484375 0 \nL 2.875 0 \nL 24.125 28.609375 \nL 4.6875 54.6875 \nL 15.28125 54.6875 \nL 29.78125 35.203125 \nL 44.28125 54.6875 \nz\n\" id=\"DejaVuSans-120\"/>\n       <path d=\"M 18.109375 8.203125 \nL 18.109375 -20.796875 \nL 9.078125 -20.796875 \nL 9.078125 54.6875 \nL 18.109375 54.6875 \nL 18.109375 46.390625 \nQ 20.953125 51.265625 25.265625 53.625 \nQ 29.59375 56 35.59375 56 \nQ 45.5625 56 51.78125 48.09375 \nQ 58.015625 40.1875 58.015625 27.296875 \nQ 58.015625 14.40625 51.78125 6.484375 \nQ 45.5625 -1.421875 35.59375 -1.421875 \nQ 29.59375 -1.421875 25.265625 0.953125 \nQ 20.953125 3.328125 18.109375 8.203125 \nz\nM 48.6875 27.296875 \nQ 48.6875 37.203125 44.609375 42.84375 \nQ 40.53125 48.484375 33.40625 48.484375 \nQ 26.265625 48.484375 22.1875 42.84375 \nQ 18.109375 37.203125 18.109375 27.296875 \nQ 18.109375 17.390625 22.1875 11.75 \nQ 26.265625 6.109375 33.40625 6.109375 \nQ 40.53125 6.109375 44.609375 11.75 \nQ 48.6875 17.390625 48.6875 27.296875 \nz\n\" id=\"DejaVuSans-112\"/>\n       <path d=\"M 19.671875 64.796875 \nL 19.671875 8.109375 \nL 31.59375 8.109375 \nQ 46.6875 8.109375 53.6875 14.9375 \nQ 60.6875 21.78125 60.6875 36.53125 \nQ 60.6875 51.171875 53.6875 57.984375 \nQ 46.6875 64.796875 31.59375 64.796875 \nz\nM 9.8125 72.90625 \nL 30.078125 72.90625 \nQ 51.265625 72.90625 61.171875 64.09375 \nQ 71.09375 55.28125 71.09375 36.53125 \nQ 71.09375 17.671875 61.125 8.828125 \nQ 51.171875 0 30.078125 0 \nL 9.8125 0 \nz\n\" id=\"DejaVuSans-68\"/>\n       <path d=\"M 9.421875 75.984375 \nL 18.40625 75.984375 \nL 18.40625 0 \nL 9.421875 0 \nz\n\" id=\"DejaVuSans-108\"/>\n       <path d=\"M 2.984375 54.6875 \nL 12.5 54.6875 \nL 29.59375 8.796875 \nL 46.6875 54.6875 \nL 56.203125 54.6875 \nL 35.6875 0 \nL 23.484375 0 \nz\n\" id=\"DejaVuSans-118\"/>\n       <path d=\"M -0.296875 72.90625 \nL 61.375 72.90625 \nL 61.375 64.59375 \nL 35.5 64.59375 \nL 35.5 0 \nL 25.59375 0 \nL 25.59375 64.59375 \nL -0.296875 64.59375 \nz\n\" id=\"DejaVuSans-84\"/>\n      </defs>\n      <g transform=\"translate(157.262623 327.74759)rotate(-45)scale(0.1 -0.1)\">\n       <use xlink:href=\"#DejaVuSans-69\"/>\n       <use x=\"63.183594\" xlink:href=\"#DejaVuSans-120\"/>\n       <use x=\"122.363281\" xlink:href=\"#DejaVuSans-112\"/>\n       <use x=\"185.839844\" xlink:href=\"#DejaVuSans-101\"/>\n       <use x=\"247.363281\" xlink:href=\"#DejaVuSans-99\"/>\n       <use x=\"302.34375\" xlink:href=\"#DejaVuSans-116\"/>\n       <use x=\"341.552734\" xlink:href=\"#DejaVuSans-101\"/>\n       <use x=\"403.076172\" xlink:href=\"#DejaVuSans-100\"/>\n       <use x=\"466.552734\" xlink:href=\"#DejaVuSans-95\"/>\n       <use x=\"516.552734\" xlink:href=\"#DejaVuSans-68\"/>\n       <use x=\"593.554688\" xlink:href=\"#DejaVuSans-101\"/>\n       <use x=\"655.078125\" xlink:href=\"#DejaVuSans-108\"/>\n       <use x=\"682.861328\" xlink:href=\"#DejaVuSans-105\"/>\n       <use x=\"710.644531\" xlink:href=\"#DejaVuSans-118\"/>\n       <use x=\"769.824219\" xlink:href=\"#DejaVuSans-101\"/>\n       <use x=\"831.347656\" xlink:href=\"#DejaVuSans-114\"/>\n       <use x=\"872.460938\" xlink:href=\"#DejaVuSans-121\"/>\n       <use x=\"931.640625\" xlink:href=\"#DejaVuSans-95\"/>\n       <use x=\"981.640625\" xlink:href=\"#DejaVuSans-84\"/>\n       <use x=\"1042.677734\" xlink:href=\"#DejaVuSans-105\"/>\n       <use x=\"1070.460938\" xlink:href=\"#DejaVuSans-109\"/>\n       <use x=\"1167.873047\" xlink:href=\"#DejaVuSans-101\"/>\n      </g>\n     </g>\n    </g>\n    <g id=\"xtick_6\">\n     <g id=\"line2d_6\">\n      <g>\n       <use style=\"stroke:#000000;stroke-width:0.8;\" x=\"270.025312\" xlink:href=\"#meee8ea2e3e\" y=\"228.439219\"/>\n      </g>\n     </g>\n     <g id=\"text_6\">\n      <!-- Actual_Delivery_Time -->\n      <defs>\n       <path d=\"M 34.1875 63.1875 \nL 20.796875 26.90625 \nL 47.609375 26.90625 \nz\nM 28.609375 72.90625 \nL 39.796875 72.90625 \nL 67.578125 0 \nL 57.328125 0 \nL 50.6875 18.703125 \nL 17.828125 18.703125 \nL 11.1875 0 \nL 0.78125 0 \nz\n\" id=\"DejaVuSans-65\"/>\n      </defs>\n      <g transform=\"translate(192.140815 317.029398)rotate(-45)scale(0.1 -0.1)\">\n       <use xlink:href=\"#DejaVuSans-65\"/>\n       <use x=\"68.392578\" xlink:href=\"#DejaVuSans-99\"/>\n       <use x=\"123.373047\" xlink:href=\"#DejaVuSans-116\"/>\n       <use x=\"162.582031\" xlink:href=\"#DejaVuSans-117\"/>\n       <use x=\"225.960938\" xlink:href=\"#DejaVuSans-97\"/>\n       <use x=\"287.240234\" xlink:href=\"#DejaVuSans-108\"/>\n       <use x=\"315.023438\" xlink:href=\"#DejaVuSans-95\"/>\n       <use x=\"365.023438\" xlink:href=\"#DejaVuSans-68\"/>\n       <use x=\"442.025391\" xlink:href=\"#DejaVuSans-101\"/>\n       <use x=\"503.548828\" xlink:href=\"#DejaVuSans-108\"/>\n       <use x=\"531.332031\" xlink:href=\"#DejaVuSans-105\"/>\n       <use x=\"559.115234\" xlink:href=\"#DejaVuSans-118\"/>\n       <use x=\"618.294922\" xlink:href=\"#DejaVuSans-101\"/>\n       <use x=\"679.818359\" xlink:href=\"#DejaVuSans-114\"/>\n       <use x=\"720.931641\" xlink:href=\"#DejaVuSans-121\"/>\n       <use x=\"780.111328\" xlink:href=\"#DejaVuSans-95\"/>\n       <use x=\"830.111328\" xlink:href=\"#DejaVuSans-84\"/>\n       <use x=\"891.148438\" xlink:href=\"#DejaVuSans-105\"/>\n       <use x=\"918.931641\" xlink:href=\"#DejaVuSans-109\"/>\n       <use x=\"1016.34375\" xlink:href=\"#DejaVuSans-101\"/>\n      </g>\n     </g>\n    </g>\n    <g id=\"xtick_7\">\n     <g id=\"line2d_7\">\n      <g>\n       <use style=\"stroke:#000000;stroke-width:0.8;\" x=\"294.185312\" xlink:href=\"#meee8ea2e3e\" y=\"228.439219\"/>\n      </g>\n     </g>\n     <g id=\"text_7\">\n      <!-- Rating -->\n      <defs>\n       <path d=\"M 44.390625 34.1875 \nQ 47.5625 33.109375 50.5625 29.59375 \nQ 53.5625 26.078125 56.59375 19.921875 \nL 66.609375 0 \nL 56 0 \nL 46.6875 18.703125 \nQ 43.0625 26.03125 39.671875 28.421875 \nQ 36.28125 30.8125 30.421875 30.8125 \nL 19.671875 30.8125 \nL 19.671875 0 \nL 9.8125 0 \nL 9.8125 72.90625 \nL 32.078125 72.90625 \nQ 44.578125 72.90625 50.734375 67.671875 \nQ 56.890625 62.453125 56.890625 51.90625 \nQ 56.890625 45.015625 53.6875 40.46875 \nQ 50.484375 35.9375 44.390625 34.1875 \nz\nM 19.671875 64.796875 \nL 19.671875 38.921875 \nL 32.078125 38.921875 \nQ 39.203125 38.921875 42.84375 42.21875 \nQ 46.484375 45.515625 46.484375 51.90625 \nQ 46.484375 58.296875 42.84375 61.546875 \nQ 39.203125 64.796875 32.078125 64.796875 \nz\n\" id=\"DejaVuSans-82\"/>\n       <path d=\"M 45.40625 27.984375 \nQ 45.40625 37.75 41.375 43.109375 \nQ 37.359375 48.484375 30.078125 48.484375 \nQ 22.859375 48.484375 18.828125 43.109375 \nQ 14.796875 37.75 14.796875 27.984375 \nQ 14.796875 18.265625 18.828125 12.890625 \nQ 22.859375 7.515625 30.078125 7.515625 \nQ 37.359375 7.515625 41.375 12.890625 \nQ 45.40625 18.265625 45.40625 27.984375 \nz\nM 54.390625 6.78125 \nQ 54.390625 -7.171875 48.1875 -13.984375 \nQ 42 -20.796875 29.203125 -20.796875 \nQ 24.46875 -20.796875 20.265625 -20.09375 \nQ 16.0625 -19.390625 12.109375 -17.921875 \nL 12.109375 -9.1875 \nQ 16.0625 -11.328125 19.921875 -12.34375 \nQ 23.78125 -13.375 27.78125 -13.375 \nQ 36.625 -13.375 41.015625 -8.765625 \nQ 45.40625 -4.15625 45.40625 5.171875 \nL 45.40625 9.625 \nQ 42.625 4.78125 38.28125 2.390625 \nQ 33.9375 0 27.875 0 \nQ 17.828125 0 11.671875 7.65625 \nQ 5.515625 15.328125 5.515625 27.984375 \nQ 5.515625 40.671875 11.671875 48.328125 \nQ 17.828125 56 27.875 56 \nQ 33.9375 56 38.28125 53.609375 \nQ 42.625 51.21875 45.40625 46.390625 \nL 45.40625 54.6875 \nL 54.390625 54.6875 \nz\n\" id=\"DejaVuSans-103\"/>\n      </defs>\n      <g transform=\"translate(269.763612 263.763265)rotate(-45)scale(0.1 -0.1)\">\n       <use xlink:href=\"#DejaVuSans-82\"/>\n       <use x=\"69.451172\" xlink:href=\"#DejaVuSans-97\"/>\n       <use x=\"130.730469\" xlink:href=\"#DejaVuSans-116\"/>\n       <use x=\"169.939453\" xlink:href=\"#DejaVuSans-105\"/>\n       <use x=\"197.722656\" xlink:href=\"#DejaVuSans-110\"/>\n       <use x=\"261.101562\" xlink:href=\"#DejaVuSans-103\"/>\n      </g>\n     </g>\n    </g>\n    <g id=\"xtick_8\">\n     <g id=\"line2d_8\">\n      <g>\n       <use style=\"stroke:#000000;stroke-width:0.8;\" x=\"318.345312\" xlink:href=\"#meee8ea2e3e\" y=\"228.439219\"/>\n      </g>\n     </g>\n     <g id=\"text_8\">\n      <!-- Is_Returned -->\n      <defs>\n       <path d=\"M 9.8125 72.90625 \nL 19.671875 72.90625 \nL 19.671875 0 \nL 9.8125 0 \nz\n\" id=\"DejaVuSans-73\"/>\n      </defs>\n      <g transform=\"translate(274.632855 282.857358)rotate(-45)scale(0.1 -0.1)\">\n       <use xlink:href=\"#DejaVuSans-73\"/>\n       <use x=\"29.492188\" xlink:href=\"#DejaVuSans-115\"/>\n       <use x=\"81.591797\" xlink:href=\"#DejaVuSans-95\"/>\n       <use x=\"131.591797\" xlink:href=\"#DejaVuSans-82\"/>\n       <use x=\"201.011719\" xlink:href=\"#DejaVuSans-101\"/>\n       <use x=\"262.535156\" xlink:href=\"#DejaVuSans-116\"/>\n       <use x=\"301.744141\" xlink:href=\"#DejaVuSans-117\"/>\n       <use x=\"365.123047\" xlink:href=\"#DejaVuSans-114\"/>\n       <use x=\"406.220703\" xlink:href=\"#DejaVuSans-110\"/>\n       <use x=\"469.599609\" xlink:href=\"#DejaVuSans-101\"/>\n       <use x=\"531.123047\" xlink:href=\"#DejaVuSans-100\"/>\n      </g>\n     </g>\n    </g>\n    <g id=\"xtick_9\">\n     <g id=\"line2d_9\">\n      <g>\n       <use style=\"stroke:#000000;stroke-width:0.8;\" x=\"342.505312\" xlink:href=\"#meee8ea2e3e\" y=\"228.439219\"/>\n      </g>\n     </g>\n     <g id=\"text_9\">\n      <!-- Has_Return_Reason -->\n      <defs>\n       <path d=\"M 9.8125 72.90625 \nL 19.671875 72.90625 \nL 19.671875 43.015625 \nL 55.515625 43.015625 \nL 55.515625 72.90625 \nL 65.375 72.90625 \nL 65.375 0 \nL 55.515625 0 \nL 55.515625 34.71875 \nL 19.671875 34.71875 \nL 19.671875 0 \nL 9.8125 0 \nz\n\" id=\"DejaVuSans-72\"/>\n      </defs>\n      <g transform=\"translate(270.447817 311.005732)rotate(-45)scale(0.1 -0.1)\">\n       <use xlink:href=\"#DejaVuSans-72\"/>\n       <use x=\"75.195312\" xlink:href=\"#DejaVuSans-97\"/>\n       <use x=\"136.474609\" xlink:href=\"#DejaVuSans-115\"/>\n       <use x=\"188.574219\" xlink:href=\"#DejaVuSans-95\"/>\n       <use x=\"238.574219\" xlink:href=\"#DejaVuSans-82\"/>\n       <use x=\"307.994141\" xlink:href=\"#DejaVuSans-101\"/>\n       <use x=\"369.517578\" xlink:href=\"#DejaVuSans-116\"/>\n       <use x=\"408.726562\" xlink:href=\"#DejaVuSans-117\"/>\n       <use x=\"472.105469\" xlink:href=\"#DejaVuSans-114\"/>\n       <use x=\"513.203125\" xlink:href=\"#DejaVuSans-110\"/>\n       <use x=\"576.582031\" xlink:href=\"#DejaVuSans-95\"/>\n       <use x=\"626.582031\" xlink:href=\"#DejaVuSans-82\"/>\n       <use x=\"696.001953\" xlink:href=\"#DejaVuSans-101\"/>\n       <use x=\"757.525391\" xlink:href=\"#DejaVuSans-97\"/>\n       <use x=\"818.804688\" xlink:href=\"#DejaVuSans-115\"/>\n       <use x=\"870.904297\" xlink:href=\"#DejaVuSans-111\"/>\n       <use x=\"932.085938\" xlink:href=\"#DejaVuSans-110\"/>\n      </g>\n     </g>\n    </g>\n    <g id=\"xtick_10\">\n     <g id=\"line2d_10\">\n      <g>\n       <use style=\"stroke:#000000;stroke-width:0.8;\" x=\"366.665312\" xlink:href=\"#meee8ea2e3e\" y=\"228.439219\"/>\n      </g>\n     </g>\n     <g id=\"text_10\">\n      <!-- Has_Rated -->\n      <g transform=\"translate(327.271731 278.538482)rotate(-45)scale(0.1 -0.1)\">\n       <use xlink:href=\"#DejaVuSans-72\"/>\n       <use x=\"75.195312\" xlink:href=\"#DejaVuSans-97\"/>\n       <use x=\"136.474609\" xlink:href=\"#DejaVuSans-115\"/>\n       <use x=\"188.574219\" xlink:href=\"#DejaVuSans-95\"/>\n       <use x=\"238.574219\" xlink:href=\"#DejaVuSans-82\"/>\n       <use x=\"308.025391\" xlink:href=\"#DejaVuSans-97\"/>\n       <use x=\"369.304688\" xlink:href=\"#DejaVuSans-116\"/>\n       <use x=\"408.513672\" xlink:href=\"#DejaVuSans-101\"/>\n       <use x=\"470.037109\" xlink:href=\"#DejaVuSans-100\"/>\n      </g>\n     </g>\n    </g>\n   </g>\n   <g id=\"matplotlib.axis_2\">\n    <g id=\"ytick_1\">\n     <g id=\"line2d_11\">\n      <defs>\n       <path d=\"M 0 0 \nL -3.5 0 \n\" id=\"m94fe7fd0aa\" style=\"stroke:#000000;stroke-width:0.8;\"/>\n      </defs>\n      <g>\n       <use style=\"stroke:#000000;stroke-width:0.8;\" x=\"137.145312\" xlink:href=\"#m94fe7fd0aa\" y=\"10.999219\"/>\n      </g>\n     </g>\n     <g id=\"text_11\">\n      <!-- Customer_Number -->\n      <g transform=\"translate(36.4 14.798437)scale(0.1 -0.1)\">\n       <use xlink:href=\"#DejaVuSans-67\"/>\n       <use x=\"69.824219\" xlink:href=\"#DejaVuSans-117\"/>\n       <use x=\"133.203125\" xlink:href=\"#DejaVuSans-115\"/>\n       <use x=\"185.302734\" xlink:href=\"#DejaVuSans-116\"/>\n       <use x=\"224.511719\" xlink:href=\"#DejaVuSans-111\"/>\n       <use x=\"285.693359\" xlink:href=\"#DejaVuSans-109\"/>\n       <use x=\"383.105469\" xlink:href=\"#DejaVuSans-101\"/>\n       <use x=\"444.628906\" xlink:href=\"#DejaVuSans-114\"/>\n       <use x=\"485.742188\" xlink:href=\"#DejaVuSans-95\"/>\n       <use x=\"535.742188\" xlink:href=\"#DejaVuSans-78\"/>\n       <use x=\"610.546875\" xlink:href=\"#DejaVuSans-117\"/>\n       <use x=\"673.925781\" xlink:href=\"#DejaVuSans-109\"/>\n       <use x=\"771.337891\" xlink:href=\"#DejaVuSans-98\"/>\n       <use x=\"834.814453\" xlink:href=\"#DejaVuSans-101\"/>\n       <use x=\"896.337891\" xlink:href=\"#DejaVuSans-114\"/>\n      </g>\n     </g>\n    </g>\n    <g id=\"ytick_2\">\n     <g id=\"line2d_12\">\n      <g>\n       <use style=\"stroke:#000000;stroke-width:0.8;\" x=\"137.145312\" xlink:href=\"#m94fe7fd0aa\" y=\"35.159219\"/>\n      </g>\n     </g>\n     <g id=\"text_12\">\n      <!-- Order_Number -->\n      <g transform=\"translate(56.379687 38.958437)scale(0.1 -0.1)\">\n       <use xlink:href=\"#DejaVuSans-79\"/>\n       <use x=\"78.710938\" xlink:href=\"#DejaVuSans-114\"/>\n       <use x=\"119.808594\" xlink:href=\"#DejaVuSans-100\"/>\n       <use x=\"183.285156\" xlink:href=\"#DejaVuSans-101\"/>\n       <use x=\"244.808594\" xlink:href=\"#DejaVuSans-114\"/>\n       <use x=\"285.921875\" xlink:href=\"#DejaVuSans-95\"/>\n       <use x=\"335.921875\" xlink:href=\"#DejaVuSans-78\"/>\n       <use x=\"410.726562\" xlink:href=\"#DejaVuSans-117\"/>\n       <use x=\"474.105469\" xlink:href=\"#DejaVuSans-109\"/>\n       <use x=\"571.517578\" xlink:href=\"#DejaVuSans-98\"/>\n       <use x=\"634.994141\" xlink:href=\"#DejaVuSans-101\"/>\n       <use x=\"696.517578\" xlink:href=\"#DejaVuSans-114\"/>\n      </g>\n     </g>\n    </g>\n    <g id=\"ytick_3\">\n     <g id=\"line2d_13\">\n      <g>\n       <use style=\"stroke:#000000;stroke-width:0.8;\" x=\"137.145312\" xlink:href=\"#m94fe7fd0aa\" y=\"59.319219\"/>\n      </g>\n     </g>\n     <g id=\"text_13\">\n      <!-- Quantity -->\n      <g transform=\"translate(86.932812 63.118437)scale(0.1 -0.1)\">\n       <use xlink:href=\"#DejaVuSans-81\"/>\n       <use x=\"78.710938\" xlink:href=\"#DejaVuSans-117\"/>\n       <use x=\"142.089844\" xlink:href=\"#DejaVuSans-97\"/>\n       <use x=\"203.369141\" xlink:href=\"#DejaVuSans-110\"/>\n       <use x=\"266.748047\" xlink:href=\"#DejaVuSans-116\"/>\n       <use x=\"305.957031\" xlink:href=\"#DejaVuSans-105\"/>\n       <use x=\"333.740234\" xlink:href=\"#DejaVuSans-116\"/>\n       <use x=\"372.949219\" xlink:href=\"#DejaVuSans-121\"/>\n      </g>\n     </g>\n    </g>\n    <g id=\"ytick_4\">\n     <g id=\"line2d_14\">\n      <g>\n       <use style=\"stroke:#000000;stroke-width:0.8;\" x=\"137.145312\" xlink:href=\"#m94fe7fd0aa\" y=\"83.479219\"/>\n      </g>\n     </g>\n     <g id=\"text_14\">\n      <!-- Price -->\n      <g transform=\"translate(105.576562 87.278437)scale(0.1 -0.1)\">\n       <use xlink:href=\"#DejaVuSans-80\"/>\n       <use x=\"60.287109\" xlink:href=\"#DejaVuSans-114\"/>\n       <use x=\"101.400391\" xlink:href=\"#DejaVuSans-105\"/>\n       <use x=\"129.183594\" xlink:href=\"#DejaVuSans-99\"/>\n       <use x=\"184.164062\" xlink:href=\"#DejaVuSans-101\"/>\n      </g>\n     </g>\n    </g>\n    <g id=\"ytick_5\">\n     <g id=\"line2d_15\">\n      <g>\n       <use style=\"stroke:#000000;stroke-width:0.8;\" x=\"137.145312\" xlink:href=\"#m94fe7fd0aa\" y=\"107.639219\"/>\n      </g>\n     </g>\n     <g id=\"text_15\">\n      <!-- Expected_Delivery_Time -->\n      <g transform=\"translate(7.2 111.438437)scale(0.1 -0.1)\">\n       <use xlink:href=\"#DejaVuSans-69\"/>\n       <use x=\"63.183594\" xlink:href=\"#DejaVuSans-120\"/>\n       <use x=\"122.363281\" xlink:href=\"#DejaVuSans-112\"/>\n       <use x=\"185.839844\" xlink:href=\"#DejaVuSans-101\"/>\n       <use x=\"247.363281\" xlink:href=\"#DejaVuSans-99\"/>\n       <use x=\"302.34375\" xlink:href=\"#DejaVuSans-116\"/>\n       <use x=\"341.552734\" xlink:href=\"#DejaVuSans-101\"/>\n       <use x=\"403.076172\" xlink:href=\"#DejaVuSans-100\"/>\n       <use x=\"466.552734\" xlink:href=\"#DejaVuSans-95\"/>\n       <use x=\"516.552734\" xlink:href=\"#DejaVuSans-68\"/>\n       <use x=\"593.554688\" xlink:href=\"#DejaVuSans-101\"/>\n       <use x=\"655.078125\" xlink:href=\"#DejaVuSans-108\"/>\n       <use x=\"682.861328\" xlink:href=\"#DejaVuSans-105\"/>\n       <use x=\"710.644531\" xlink:href=\"#DejaVuSans-118\"/>\n       <use x=\"769.824219\" xlink:href=\"#DejaVuSans-101\"/>\n       <use x=\"831.347656\" xlink:href=\"#DejaVuSans-114\"/>\n       <use x=\"872.460938\" xlink:href=\"#DejaVuSans-121\"/>\n       <use x=\"931.640625\" xlink:href=\"#DejaVuSans-95\"/>\n       <use x=\"981.640625\" xlink:href=\"#DejaVuSans-84\"/>\n       <use x=\"1042.677734\" xlink:href=\"#DejaVuSans-105\"/>\n       <use x=\"1070.460938\" xlink:href=\"#DejaVuSans-109\"/>\n       <use x=\"1167.873047\" xlink:href=\"#DejaVuSans-101\"/>\n      </g>\n     </g>\n    </g>\n    <g id=\"ytick_6\">\n     <g id=\"line2d_16\">\n      <g>\n       <use style=\"stroke:#000000;stroke-width:0.8;\" x=\"137.145312\" xlink:href=\"#m94fe7fd0aa\" y=\"131.799219\"/>\n      </g>\n     </g>\n     <g id=\"text_16\">\n      <!-- Actual_Delivery_Time -->\n      <g transform=\"translate(22.357812 135.598437)scale(0.1 -0.1)\">\n       <use xlink:href=\"#DejaVuSans-65\"/>\n       <use x=\"68.392578\" xlink:href=\"#DejaVuSans-99\"/>\n       <use x=\"123.373047\" xlink:href=\"#DejaVuSans-116\"/>\n       <use x=\"162.582031\" xlink:href=\"#DejaVuSans-117\"/>\n       <use x=\"225.960938\" xlink:href=\"#DejaVuSans-97\"/>\n       <use x=\"287.240234\" xlink:href=\"#DejaVuSans-108\"/>\n       <use x=\"315.023438\" xlink:href=\"#DejaVuSans-95\"/>\n       <use x=\"365.023438\" xlink:href=\"#DejaVuSans-68\"/>\n       <use x=\"442.025391\" xlink:href=\"#DejaVuSans-101\"/>\n       <use x=\"503.548828\" xlink:href=\"#DejaVuSans-108\"/>\n       <use x=\"531.332031\" xlink:href=\"#DejaVuSans-105\"/>\n       <use x=\"559.115234\" xlink:href=\"#DejaVuSans-118\"/>\n       <use x=\"618.294922\" xlink:href=\"#DejaVuSans-101\"/>\n       <use x=\"679.818359\" xlink:href=\"#DejaVuSans-114\"/>\n       <use x=\"720.931641\" xlink:href=\"#DejaVuSans-121\"/>\n       <use x=\"780.111328\" xlink:href=\"#DejaVuSans-95\"/>\n       <use x=\"830.111328\" xlink:href=\"#DejaVuSans-84\"/>\n       <use x=\"891.148438\" xlink:href=\"#DejaVuSans-105\"/>\n       <use x=\"918.931641\" xlink:href=\"#DejaVuSans-109\"/>\n       <use x=\"1016.34375\" xlink:href=\"#DejaVuSans-101\"/>\n      </g>\n     </g>\n    </g>\n    <g id=\"ytick_7\">\n     <g id=\"line2d_17\">\n      <g>\n       <use style=\"stroke:#000000;stroke-width:0.8;\" x=\"137.145312\" xlink:href=\"#m94fe7fd0aa\" y=\"155.959219\"/>\n      </g>\n     </g>\n     <g id=\"text_17\">\n      <!-- Rating -->\n      <g transform=\"translate(97.6875 159.758437)scale(0.1 -0.1)\">\n       <use xlink:href=\"#DejaVuSans-82\"/>\n       <use x=\"69.451172\" xlink:href=\"#DejaVuSans-97\"/>\n       <use x=\"130.730469\" xlink:href=\"#DejaVuSans-116\"/>\n       <use x=\"169.939453\" xlink:href=\"#DejaVuSans-105\"/>\n       <use x=\"197.722656\" xlink:href=\"#DejaVuSans-110\"/>\n       <use x=\"261.101562\" xlink:href=\"#DejaVuSans-103\"/>\n      </g>\n     </g>\n    </g>\n    <g id=\"ytick_8\">\n     <g id=\"line2d_18\">\n      <g>\n       <use style=\"stroke:#000000;stroke-width:0.8;\" x=\"137.145312\" xlink:href=\"#m94fe7fd0aa\" y=\"180.119219\"/>\n      </g>\n     </g>\n     <g id=\"text_18\">\n      <!-- Is_Returned -->\n      <g transform=\"translate(70.684375 183.918437)scale(0.1 -0.1)\">\n       <use xlink:href=\"#DejaVuSans-73\"/>\n       <use x=\"29.492188\" xlink:href=\"#DejaVuSans-115\"/>\n       <use x=\"81.591797\" xlink:href=\"#DejaVuSans-95\"/>\n       <use x=\"131.591797\" xlink:href=\"#DejaVuSans-82\"/>\n       <use x=\"201.011719\" xlink:href=\"#DejaVuSans-101\"/>\n       <use x=\"262.535156\" xlink:href=\"#DejaVuSans-116\"/>\n       <use x=\"301.744141\" xlink:href=\"#DejaVuSans-117\"/>\n       <use x=\"365.123047\" xlink:href=\"#DejaVuSans-114\"/>\n       <use x=\"406.220703\" xlink:href=\"#DejaVuSans-110\"/>\n       <use x=\"469.599609\" xlink:href=\"#DejaVuSans-101\"/>\n       <use x=\"531.123047\" xlink:href=\"#DejaVuSans-100\"/>\n      </g>\n     </g>\n    </g>\n    <g id=\"ytick_9\">\n     <g id=\"line2d_19\">\n      <g>\n       <use style=\"stroke:#000000;stroke-width:0.8;\" x=\"137.145312\" xlink:href=\"#m94fe7fd0aa\" y=\"204.279219\"/>\n      </g>\n     </g>\n     <g id=\"text_19\">\n      <!-- Has_Return_Reason -->\n      <g transform=\"translate(30.598437 207.939375)scale(0.1 -0.1)\">\n       <use xlink:href=\"#DejaVuSans-72\"/>\n       <use x=\"75.195312\" xlink:href=\"#DejaVuSans-97\"/>\n       <use x=\"136.474609\" xlink:href=\"#DejaVuSans-115\"/>\n       <use x=\"188.574219\" xlink:href=\"#DejaVuSans-95\"/>\n       <use x=\"238.574219\" xlink:href=\"#DejaVuSans-82\"/>\n       <use x=\"307.994141\" xlink:href=\"#DejaVuSans-101\"/>\n       <use x=\"369.517578\" xlink:href=\"#DejaVuSans-116\"/>\n       <use x=\"408.726562\" xlink:href=\"#DejaVuSans-117\"/>\n       <use x=\"472.105469\" xlink:href=\"#DejaVuSans-114\"/>\n       <use x=\"513.203125\" xlink:href=\"#DejaVuSans-110\"/>\n       <use x=\"576.582031\" xlink:href=\"#DejaVuSans-95\"/>\n       <use x=\"626.582031\" xlink:href=\"#DejaVuSans-82\"/>\n       <use x=\"696.001953\" xlink:href=\"#DejaVuSans-101\"/>\n       <use x=\"757.525391\" xlink:href=\"#DejaVuSans-97\"/>\n       <use x=\"818.804688\" xlink:href=\"#DejaVuSans-115\"/>\n       <use x=\"870.904297\" xlink:href=\"#DejaVuSans-111\"/>\n       <use x=\"932.085938\" xlink:href=\"#DejaVuSans-110\"/>\n      </g>\n     </g>\n    </g>\n    <g id=\"ytick_10\">\n     <g id=\"line2d_20\">\n      <g>\n       <use style=\"stroke:#000000;stroke-width:0.8;\" x=\"137.145312\" xlink:href=\"#m94fe7fd0aa\" y=\"228.439219\"/>\n      </g>\n     </g>\n     <g id=\"text_20\">\n      <!-- Has_Rated -->\n      <g transform=\"translate(76.792187 232.238437)scale(0.1 -0.1)\">\n       <use xlink:href=\"#DejaVuSans-72\"/>\n       <use x=\"75.195312\" xlink:href=\"#DejaVuSans-97\"/>\n       <use x=\"136.474609\" xlink:href=\"#DejaVuSans-115\"/>\n       <use x=\"188.574219\" xlink:href=\"#DejaVuSans-95\"/>\n       <use x=\"238.574219\" xlink:href=\"#DejaVuSans-82\"/>\n       <use x=\"308.025391\" xlink:href=\"#DejaVuSans-97\"/>\n       <use x=\"369.304688\" xlink:href=\"#DejaVuSans-116\"/>\n       <use x=\"408.513672\" xlink:href=\"#DejaVuSans-101\"/>\n       <use x=\"470.037109\" xlink:href=\"#DejaVuSans-100\"/>\n      </g>\n     </g>\n    </g>\n   </g>\n  </g>\n  <g id=\"axes_2\">\n   <g id=\"patch_3\">\n    <path clip-path=\"url(#p5a8c99cf51)\" d=\"M 395.485313 228.439219 \nL 395.485313 227.589844 \nL 395.485313 11.848594 \nL 395.485313 10.999219 \nL 406.357313 10.999219 \nL 406.357313 11.848594 \nL 406.357313 227.589844 \nL 406.357313 228.439219 \nz\n\" style=\"fill:#ffffff;stroke:#ffffff;stroke-linejoin:miter;stroke-width:0.01;\"/>\n   </g>\n   <image height=\"218\" id=\"image43e90600e5\" transform=\"scale(1 -1)translate(0 -218)\" width=\"11\" x=\"395\" xlink:href=\"data:image/png;base64,\niVBORw0KGgoAAAANSUhEUgAAAAsAAADaCAYAAABwzrisAAAABHNCSVQICAgIfAhkiAAAAXxJREFUaIHtmEEOwkAMA5N2EX/iH7yYT4HobjlzyyCNlAOcrch1HCdLPu63M4q/EVtWsTEyAThyK4PryIgYue0AvNeLo8qMM1Fj5AbAQZqSO5COVUYfCJpi6kzUML1BdCbeQJMC202iAHEGTTFzA0kHUhRyJn6GUTCsymIiESOxbWVxJh2EucHGqt5ualEtCtgetCq3iQJk0Usd3Iazl0gtDiqiBtR5IOmkSVHPHnTztzghtLtO9IY2KeoTD+Vzj2dpj+Okx0EFdSZrwowC7ziR/mZhnF/jWgYj6f7gn8HjmdYZf57lfw0heCHwIuCwOB9zlcFUZwQmnNcsgxln0BPIea66zsxIPSxKdZYsitQQOUOdkTfKWGrRs4XOx9SkAykq7pRJkr/JtoLxVcZib9ST31tAYm68wQf+LfoFnh4NbQ8eZKyaWBRFgXkEStKpOgMwzLomFgWViZGgzi0OKsaZJD9N0ToN6mfrUWM+S7Uz3nv+a6vNm8EeUYDAHwYB81gRdUe0AAAAAElFTkSuQmCC\" y=\"-10\"/>\n   <g id=\"matplotlib.axis_3\"/>\n   <g id=\"matplotlib.axis_4\">\n    <g id=\"ytick_11\">\n     <g id=\"line2d_21\">\n      <defs>\n       <path d=\"M 0 0 \nL 3.5 0 \n\" id=\"ma9f83c98ec\" style=\"stroke:#000000;stroke-width:0.8;\"/>\n      </defs>\n      <g>\n       <use style=\"stroke:#000000;stroke-width:0.8;\" x=\"406.357313\" xlink:href=\"#ma9f83c98ec\" y=\"206.695219\"/>\n      </g>\n     </g>\n     <g id=\"text_21\">\n      <!-- −0.8 -->\n      <defs>\n       <path d=\"M 10.59375 35.5 \nL 73.1875 35.5 \nL 73.1875 27.203125 \nL 10.59375 27.203125 \nz\n\" id=\"DejaVuSans-8722\"/>\n       <path d=\"M 31.78125 66.40625 \nQ 24.171875 66.40625 20.328125 58.90625 \nQ 16.5 51.421875 16.5 36.375 \nQ 16.5 21.390625 20.328125 13.890625 \nQ 24.171875 6.390625 31.78125 6.390625 \nQ 39.453125 6.390625 43.28125 13.890625 \nQ 47.125 21.390625 47.125 36.375 \nQ 47.125 51.421875 43.28125 58.90625 \nQ 39.453125 66.40625 31.78125 66.40625 \nz\nM 31.78125 74.21875 \nQ 44.046875 74.21875 50.515625 64.515625 \nQ 56.984375 54.828125 56.984375 36.375 \nQ 56.984375 17.96875 50.515625 8.265625 \nQ 44.046875 -1.421875 31.78125 -1.421875 \nQ 19.53125 -1.421875 13.0625 8.265625 \nQ 6.59375 17.96875 6.59375 36.375 \nQ 6.59375 54.828125 13.0625 64.515625 \nQ 19.53125 74.21875 31.78125 74.21875 \nz\n\" id=\"DejaVuSans-48\"/>\n       <path d=\"M 10.6875 12.40625 \nL 21 12.40625 \nL 21 0 \nL 10.6875 0 \nz\n\" id=\"DejaVuSans-46\"/>\n       <path d=\"M 31.78125 34.625 \nQ 24.75 34.625 20.71875 30.859375 \nQ 16.703125 27.09375 16.703125 20.515625 \nQ 16.703125 13.921875 20.71875 10.15625 \nQ 24.75 6.390625 31.78125 6.390625 \nQ 38.8125 6.390625 42.859375 10.171875 \nQ 46.921875 13.96875 46.921875 20.515625 \nQ 46.921875 27.09375 42.890625 30.859375 \nQ 38.875 34.625 31.78125 34.625 \nz\nM 21.921875 38.8125 \nQ 15.578125 40.375 12.03125 44.71875 \nQ 8.5 49.078125 8.5 55.328125 \nQ 8.5 64.0625 14.71875 69.140625 \nQ 20.953125 74.21875 31.78125 74.21875 \nQ 42.671875 74.21875 48.875 69.140625 \nQ 55.078125 64.0625 55.078125 55.328125 \nQ 55.078125 49.078125 51.53125 44.71875 \nQ 48 40.375 41.703125 38.8125 \nQ 48.828125 37.15625 52.796875 32.3125 \nQ 56.78125 27.484375 56.78125 20.515625 \nQ 56.78125 9.90625 50.3125 4.234375 \nQ 43.84375 -1.421875 31.78125 -1.421875 \nQ 19.734375 -1.421875 13.25 4.234375 \nQ 6.78125 9.90625 6.78125 20.515625 \nQ 6.78125 27.484375 10.78125 32.3125 \nQ 14.796875 37.15625 21.921875 38.8125 \nz\nM 18.3125 54.390625 \nQ 18.3125 48.734375 21.84375 45.5625 \nQ 25.390625 42.390625 31.78125 42.390625 \nQ 38.140625 42.390625 41.71875 45.5625 \nQ 45.3125 48.734375 45.3125 54.390625 \nQ 45.3125 60.0625 41.71875 63.234375 \nQ 38.140625 66.40625 31.78125 66.40625 \nQ 25.390625 66.40625 21.84375 63.234375 \nQ 18.3125 60.0625 18.3125 54.390625 \nz\n\" id=\"DejaVuSans-56\"/>\n      </defs>\n      <g transform=\"translate(413.357313 210.494437)scale(0.1 -0.1)\">\n       <use xlink:href=\"#DejaVuSans-8722\"/>\n       <use x=\"83.789062\" xlink:href=\"#DejaVuSans-48\"/>\n       <use x=\"147.412109\" xlink:href=\"#DejaVuSans-46\"/>\n       <use x=\"179.199219\" xlink:href=\"#DejaVuSans-56\"/>\n      </g>\n     </g>\n    </g>\n    <g id=\"ytick_12\">\n     <g id=\"line2d_22\">\n      <g>\n       <use style=\"stroke:#000000;stroke-width:0.8;\" x=\"406.357313\" xlink:href=\"#ma9f83c98ec\" y=\"163.207219\"/>\n      </g>\n     </g>\n     <g id=\"text_22\">\n      <!-- −0.4 -->\n      <defs>\n       <path d=\"M 37.796875 64.3125 \nL 12.890625 25.390625 \nL 37.796875 25.390625 \nz\nM 35.203125 72.90625 \nL 47.609375 72.90625 \nL 47.609375 25.390625 \nL 58.015625 25.390625 \nL 58.015625 17.1875 \nL 47.609375 17.1875 \nL 47.609375 0 \nL 37.796875 0 \nL 37.796875 17.1875 \nL 4.890625 17.1875 \nL 4.890625 26.703125 \nz\n\" id=\"DejaVuSans-52\"/>\n      </defs>\n      <g transform=\"translate(413.357313 167.006437)scale(0.1 -0.1)\">\n       <use xlink:href=\"#DejaVuSans-8722\"/>\n       <use x=\"83.789062\" xlink:href=\"#DejaVuSans-48\"/>\n       <use x=\"147.412109\" xlink:href=\"#DejaVuSans-46\"/>\n       <use x=\"179.199219\" xlink:href=\"#DejaVuSans-52\"/>\n      </g>\n     </g>\n    </g>\n    <g id=\"ytick_13\">\n     <g id=\"line2d_23\">\n      <g>\n       <use style=\"stroke:#000000;stroke-width:0.8;\" x=\"406.357313\" xlink:href=\"#ma9f83c98ec\" y=\"119.719219\"/>\n      </g>\n     </g>\n     <g id=\"text_23\">\n      <!-- 0.0 -->\n      <g transform=\"translate(413.357313 123.518437)scale(0.1 -0.1)\">\n       <use xlink:href=\"#DejaVuSans-48\"/>\n       <use x=\"63.623047\" xlink:href=\"#DejaVuSans-46\"/>\n       <use x=\"95.410156\" xlink:href=\"#DejaVuSans-48\"/>\n      </g>\n     </g>\n    </g>\n    <g id=\"ytick_14\">\n     <g id=\"line2d_24\">\n      <g>\n       <use style=\"stroke:#000000;stroke-width:0.8;\" x=\"406.357313\" xlink:href=\"#ma9f83c98ec\" y=\"76.231219\"/>\n      </g>\n     </g>\n     <g id=\"text_24\">\n      <!-- 0.4 -->\n      <g transform=\"translate(413.357313 80.030437)scale(0.1 -0.1)\">\n       <use xlink:href=\"#DejaVuSans-48\"/>\n       <use x=\"63.623047\" xlink:href=\"#DejaVuSans-46\"/>\n       <use x=\"95.410156\" xlink:href=\"#DejaVuSans-52\"/>\n      </g>\n     </g>\n    </g>\n    <g id=\"ytick_15\">\n     <g id=\"line2d_25\">\n      <g>\n       <use style=\"stroke:#000000;stroke-width:0.8;\" x=\"406.357313\" xlink:href=\"#ma9f83c98ec\" y=\"32.743219\"/>\n      </g>\n     </g>\n     <g id=\"text_25\">\n      <!-- 0.8 -->\n      <g transform=\"translate(413.357313 36.542438)scale(0.1 -0.1)\">\n       <use xlink:href=\"#DejaVuSans-48\"/>\n       <use x=\"63.623047\" xlink:href=\"#DejaVuSans-46\"/>\n       <use x=\"95.410156\" xlink:href=\"#DejaVuSans-56\"/>\n      </g>\n     </g>\n    </g>\n   </g>\n   <g id=\"patch_4\">\n    <path d=\"M 395.485313 228.439219 \nL 395.485313 227.589844 \nL 395.485313 11.848594 \nL 395.485313 10.999219 \nL 406.357313 10.999219 \nL 406.357313 11.848594 \nL 406.357313 227.589844 \nL 406.357313 228.439219 \nz\n\" style=\"fill:none;\"/>\n   </g>\n  </g>\n </g>\n <defs>\n  <clipPath id=\"pe48710c886\">\n   <rect height=\"217.44\" width=\"241.6\" x=\"137.145312\" y=\"10.999219\"/>\n  </clipPath>\n  <clipPath id=\"p5a8c99cf51\">\n   <rect height=\"217.44\" width=\"10.872\" x=\"395.485313\" y=\"10.999219\"/>\n  </clipPath>\n </defs>\n</svg>\n",
      "text/plain": "<Figure size 432x288 with 2 Axes>"
     },
     "metadata": {
      "needs_background": "light"
     },
     "output_type": "display_data"
    }
   ],
   "source": [
    "corr = data.corr()\n",
    "ax = sns.heatmap(\n",
    "    corr, \n",
    "    vmin=-1, vmax=1, center=0,\n",
    "    cmap=sns.diverging_palette(20, 220, n=200),\n",
    "    square=True\n",
    ")\n",
    "ax.set_xticklabels(\n",
    "    ax.get_xticklabels(),\n",
    "    rotation=45,\n",
    "    horizontalalignment='right'\n",
    ");"
   ]
  },
  {
   "cell_type": "markdown",
   "execution_count": null,
   "metadata": {},
   "outputs": [],
   "source": [
    "# Prediction\n",
    "## Increase the number of customers between 30-40 years old by 50%"
   ]
  },
  {
   "cell_type": "code",
   "execution_count": 5,
   "metadata": {},
   "outputs": [
    {
     "name": "stdout",
     "output_type": "stream",
     "text": "Accuracy: 6.90%\n"
    },
    {
     "data": {
      "application/vnd.plotly.v1+json": {
       "config": {
        "plotlyServerURL": "https://plot.ly"
       },
       "data": [
        {
         "alignmentgroup": "True",
         "hoverlabel": {
          "namelength": 0
         },
         "hovertemplate": "Order_Month=%{x}<br>Price=%{y}",
         "legendgroup": "",
         "marker": {
          "color": "#636efa"
         },
         "name": "",
         "offsetgroup": "",
         "orientation": "v",
         "showlegend": false,
         "textposition": "auto",
         "type": "bar",
         "x": [
          "2013-01-01T00:00:00",
          "2013-02-01T00:00:00",
          "2013-03-01T00:00:00",
          "2013-04-01T00:00:00",
          "2013-05-01T00:00:00",
          "2013-06-01T00:00:00",
          "2013-07-01T00:00:00",
          "2013-08-01T00:00:00",
          "2013-09-01T00:00:00",
          "2013-10-01T00:00:00",
          "2013-11-01T00:00:00",
          "2013-12-01T00:00:00",
          "2014-01-01T00:00:00",
          "2014-02-01T00:00:00",
          "2014-03-01T00:00:00",
          "2014-04-01T00:00:00",
          "2014-05-01T00:00:00",
          "2014-06-01T00:00:00",
          "2014-07-01T00:00:00",
          "2014-08-01T00:00:00",
          "2014-09-01T00:00:00",
          "2014-10-01T00:00:00",
          "2014-11-01T00:00:00",
          "2014-12-01T00:00:00",
          "2015-01-01T00:00:00",
          "2015-02-01T00:00:00",
          "2015-03-01T00:00:00",
          "2015-04-01T00:00:00",
          "2015-05-01T00:00:00",
          "2015-06-01T00:00:00",
          "2015-07-01T00:00:00",
          "2015-08-01T00:00:00",
          "2015-09-01T00:00:00",
          "2015-10-01T00:00:00",
          "2015-11-01T00:00:00",
          "2015-12-01T00:00:00",
          "2016-01-01T00:00:00",
          "2016-02-01T00:00:00",
          "2016-03-01T00:00:00",
          "2016-04-01T00:00:00",
          "2016-05-01T00:00:00",
          "2016-06-01T00:00:00",
          "2016-07-01T00:00:00",
          "2016-08-01T00:00:00",
          "2016-09-01T00:00:00",
          "2016-10-01T00:00:00",
          "2016-11-01T00:00:00",
          "2016-12-01T00:00:00",
          "2017-01-01T00:00:00",
          "2017-02-01T00:00:00",
          "2017-03-01T00:00:00",
          "2017-04-01T00:00:00",
          "2017-05-01T00:00:00",
          "2017-06-01T00:00:00",
          "2017-07-01T00:00:00",
          "2017-08-01T00:00:00",
          "2017-09-01T00:00:00",
          "2017-10-01T00:00:00",
          "2017-11-01T00:00:00",
          "2017-12-01T00:00:00",
          "2018-01-01T00:00:00",
          "2018-02-01T00:00:00",
          "2018-03-01T00:00:00",
          "2018-04-01T00:00:00",
          "2018-05-01T00:00:00",
          "2018-06-01T00:00:00",
          "2018-07-01T00:00:00",
          "2018-08-01T00:00:00",
          "2018-09-01T00:00:00",
          "2018-10-01T00:00:00",
          "2018-11-01T00:00:00",
          "2018-12-01T00:00:00"
         ],
         "xaxis": "x",
         "y": [
          464.3954755591395,
          462.13132954254786,
          464.9262321524455,
          464.4431736556157,
          461.38281179738203,
          462.0116910377884,
          464.6814981727266,
          462.5702990900274,
          459.7198070024116,
          459.5200408135501,
          460.91995660529244,
          463.00896864499015,
          469.8720689377046,
          470.1226653966521,
          470.40939681509366,
          474.3184379367739,
          472.04586929549083,
          472.5120364816584,
          469.340422758743,
          469.65642958244837,
          472.50766795819953,
          471.2383666759063,
          469.3550194918263,
          470.04773325278495,
          488.5377466749961,
          485.216095988529,
          486.66039819181185,
          484.2698745094713,
          484.16613577306214,
          487.4707288479033,
          485.6227379717625,
          486.2677322981348,
          486.9633484714679,
          485.26932446495414,
          486.3892440284487,
          487.8647537539872,
          493.70842032318706,
          494.5122982020831,
          493.0514965970635,
          494.19656567980854,
          493.5591733636633,
          493.0333698408617,
          494.4683548244555,
          493.75447859190007,
          491.9761611813066,
          490.45228152799785,
          492.5233810310038,
          492.9082064139423,
          478.68505627054157,
          471.9290945679663,
          477.72533597096634,
          474.22171693494323,
          476.02650726840346,
          477.90602216813573,
          474.4777754160651,
          478.39850730936297,
          477.39164030815095,
          477.68917991803494,
          479.86514364640993,
          478.68627894887317,
          473.222617226954,
          481.8969924132957,
          478.4993830500871,
          473.9879022032202,
          465.8789670161591,
          469.8783408570976,
          470.69826359004514,
          463.25899062383354,
          456.61878656093165,
          464.27716085347566,
          474.54612432603835,
          465.76603270283437
         ],
         "yaxis": "y"
        },
        {
         "mode": "lines",
         "name": "Trend line",
         "type": "scatter",
         "x": [
          "2013-01-01T00:00:00",
          "2013-02-01T00:00:00",
          "2013-03-01T00:00:00",
          "2013-04-01T00:00:00",
          "2013-05-01T00:00:00",
          "2013-06-01T00:00:00",
          "2013-07-01T00:00:00",
          "2013-08-01T00:00:00",
          "2013-09-01T00:00:00",
          "2013-10-01T00:00:00",
          "2013-11-01T00:00:00",
          "2013-12-01T00:00:00",
          "2014-01-01T00:00:00",
          "2014-02-01T00:00:00",
          "2014-03-01T00:00:00",
          "2014-04-01T00:00:00",
          "2014-05-01T00:00:00",
          "2014-06-01T00:00:00",
          "2014-07-01T00:00:00",
          "2014-08-01T00:00:00",
          "2014-09-01T00:00:00",
          "2014-10-01T00:00:00",
          "2014-11-01T00:00:00",
          "2014-12-01T00:00:00",
          "2015-01-01T00:00:00",
          "2015-02-01T00:00:00",
          "2015-03-01T00:00:00",
          "2015-04-01T00:00:00",
          "2015-05-01T00:00:00",
          "2015-06-01T00:00:00",
          "2015-07-01T00:00:00",
          "2015-08-01T00:00:00",
          "2015-09-01T00:00:00",
          "2015-10-01T00:00:00",
          "2015-11-01T00:00:00",
          "2015-12-01T00:00:00",
          "2016-01-01T00:00:00",
          "2016-02-01T00:00:00",
          "2016-03-01T00:00:00",
          "2016-04-01T00:00:00",
          "2016-05-01T00:00:00",
          "2016-06-01T00:00:00",
          "2016-07-01T00:00:00",
          "2016-08-01T00:00:00",
          "2016-09-01T00:00:00",
          "2016-10-01T00:00:00",
          "2016-11-01T00:00:00",
          "2016-12-01T00:00:00",
          "2017-01-01T00:00:00",
          "2017-02-01T00:00:00",
          "2017-03-01T00:00:00",
          "2017-04-01T00:00:00",
          "2017-05-01T00:00:00",
          "2017-06-01T00:00:00",
          "2017-07-01T00:00:00",
          "2017-08-01T00:00:00",
          "2017-09-01T00:00:00",
          "2017-10-01T00:00:00",
          "2017-11-01T00:00:00",
          "2017-12-01T00:00:00",
          "2018-01-01T00:00:00",
          "2018-02-01T00:00:00",
          "2018-03-01T00:00:00",
          "2018-04-01T00:00:00",
          "2018-05-01T00:00:00",
          "2018-06-01T00:00:00",
          "2018-07-01T00:00:00",
          "2018-08-01T00:00:00",
          "2018-09-01T00:00:00",
          "2018-10-01T00:00:00",
          "2018-11-01T00:00:00",
          "2018-12-01T00:00:00"
         ],
         "y": [
          471.7496889577889,
          471.8891031724823,
          472.01502568897956,
          472.154439903673,
          472.28935688563433,
          472.42877110032776,
          472.5636880822891,
          472.7031022969825,
          472.8425165116759,
          472.97743349363725,
          473.1168477083307,
          473.251764690292,
          473.39117890498545,
          473.5305931196788,
          473.6565156361761,
          473.7959298508695,
          473.93084683283087,
          474.0702610475243,
          474.20517802948564,
          474.344592244179,
          474.48400645887244,
          474.6189234408338,
          474.7583376555272,
          474.89325463748855,
          475.032668852182,
          475.17208306687536,
          475.2980055833726,
          475.43741979806606,
          475.5723367800274,
          475.71175099472083,
          475.84666797668217,
          475.98608219137554,
          476.125496406069,
          476.2604133880303,
          476.39982760272375,
          476.5347445846851,
          476.6741587993785,
          476.8135730140719,
          476.94399276330125,
          477.0834069779946,
          477.21832395995597,
          477.3577381746494,
          477.49265515661074,
          477.63206937130417,
          477.77148358599754,
          477.90640056795894,
          478.0458147826523,
          478.18073176461365,
          478.3201459793071,
          478.45956019400046,
          478.58548271049773,
          478.72489692519116,
          478.8598139071525,
          478.99922812184593,
          479.13414510380727,
          479.2735593185007,
          479.4129735331941,
          479.5478905151555,
          479.68730472984885,
          479.8222217118102,
          479.9616359265036,
          480.101050141197,
          480.22697265769426,
          480.3663868723877,
          480.50130385434903,
          480.64071806904246,
          480.7756350510038,
          480.91504926569723,
          481.0544634803906,
          481.18938046235195,
          481.3287946770454,
          481.4637116590067
         ]
        }
       ],
       "layout": {
        "barmode": "relative",
        "font": {
         "color": "#7f7f7f",
         "family": "Roboto",
         "size": 14
        },
        "height": 600,
        "legend": {
         "tracegroupgap": 0
        },
        "margin": {
         "t": 60
        },
        "template": {
         "data": {
          "bar": [
           {
            "error_x": {
             "color": "#2a3f5f"
            },
            "error_y": {
             "color": "#2a3f5f"
            },
            "marker": {
             "line": {
              "color": "#E5ECF6",
              "width": 0.5
             }
            },
            "type": "bar"
           }
          ],
          "barpolar": [
           {
            "marker": {
             "line": {
              "color": "#E5ECF6",
              "width": 0.5
             }
            },
            "type": "barpolar"
           }
          ],
          "carpet": [
           {
            "aaxis": {
             "endlinecolor": "#2a3f5f",
             "gridcolor": "white",
             "linecolor": "white",
             "minorgridcolor": "white",
             "startlinecolor": "#2a3f5f"
            },
            "baxis": {
             "endlinecolor": "#2a3f5f",
             "gridcolor": "white",
             "linecolor": "white",
             "minorgridcolor": "white",
             "startlinecolor": "#2a3f5f"
            },
            "type": "carpet"
           }
          ],
          "choropleth": [
           {
            "colorbar": {
             "outlinewidth": 0,
             "ticks": ""
            },
            "type": "choropleth"
           }
          ],
          "contour": [
           {
            "colorbar": {
             "outlinewidth": 0,
             "ticks": ""
            },
            "colorscale": [
             [
              0,
              "#0d0887"
             ],
             [
              0.1111111111111111,
              "#46039f"
             ],
             [
              0.2222222222222222,
              "#7201a8"
             ],
             [
              0.3333333333333333,
              "#9c179e"
             ],
             [
              0.4444444444444444,
              "#bd3786"
             ],
             [
              0.5555555555555556,
              "#d8576b"
             ],
             [
              0.6666666666666666,
              "#ed7953"
             ],
             [
              0.7777777777777778,
              "#fb9f3a"
             ],
             [
              0.8888888888888888,
              "#fdca26"
             ],
             [
              1,
              "#f0f921"
             ]
            ],
            "type": "contour"
           }
          ],
          "contourcarpet": [
           {
            "colorbar": {
             "outlinewidth": 0,
             "ticks": ""
            },
            "type": "contourcarpet"
           }
          ],
          "heatmap": [
           {
            "colorbar": {
             "outlinewidth": 0,
             "ticks": ""
            },
            "colorscale": [
             [
              0,
              "#0d0887"
             ],
             [
              0.1111111111111111,
              "#46039f"
             ],
             [
              0.2222222222222222,
              "#7201a8"
             ],
             [
              0.3333333333333333,
              "#9c179e"
             ],
             [
              0.4444444444444444,
              "#bd3786"
             ],
             [
              0.5555555555555556,
              "#d8576b"
             ],
             [
              0.6666666666666666,
              "#ed7953"
             ],
             [
              0.7777777777777778,
              "#fb9f3a"
             ],
             [
              0.8888888888888888,
              "#fdca26"
             ],
             [
              1,
              "#f0f921"
             ]
            ],
            "type": "heatmap"
           }
          ],
          "heatmapgl": [
           {
            "colorbar": {
             "outlinewidth": 0,
             "ticks": ""
            },
            "colorscale": [
             [
              0,
              "#0d0887"
             ],
             [
              0.1111111111111111,
              "#46039f"
             ],
             [
              0.2222222222222222,
              "#7201a8"
             ],
             [
              0.3333333333333333,
              "#9c179e"
             ],
             [
              0.4444444444444444,
              "#bd3786"
             ],
             [
              0.5555555555555556,
              "#d8576b"
             ],
             [
              0.6666666666666666,
              "#ed7953"
             ],
             [
              0.7777777777777778,
              "#fb9f3a"
             ],
             [
              0.8888888888888888,
              "#fdca26"
             ],
             [
              1,
              "#f0f921"
             ]
            ],
            "type": "heatmapgl"
           }
          ],
          "histogram": [
           {
            "marker": {
             "colorbar": {
              "outlinewidth": 0,
              "ticks": ""
             }
            },
            "type": "histogram"
           }
          ],
          "histogram2d": [
           {
            "colorbar": {
             "outlinewidth": 0,
             "ticks": ""
            },
            "colorscale": [
             [
              0,
              "#0d0887"
             ],
             [
              0.1111111111111111,
              "#46039f"
             ],
             [
              0.2222222222222222,
              "#7201a8"
             ],
             [
              0.3333333333333333,
              "#9c179e"
             ],
             [
              0.4444444444444444,
              "#bd3786"
             ],
             [
              0.5555555555555556,
              "#d8576b"
             ],
             [
              0.6666666666666666,
              "#ed7953"
             ],
             [
              0.7777777777777778,
              "#fb9f3a"
             ],
             [
              0.8888888888888888,
              "#fdca26"
             ],
             [
              1,
              "#f0f921"
             ]
            ],
            "type": "histogram2d"
           }
          ],
          "histogram2dcontour": [
           {
            "colorbar": {
             "outlinewidth": 0,
             "ticks": ""
            },
            "colorscale": [
             [
              0,
              "#0d0887"
             ],
             [
              0.1111111111111111,
              "#46039f"
             ],
             [
              0.2222222222222222,
              "#7201a8"
             ],
             [
              0.3333333333333333,
              "#9c179e"
             ],
             [
              0.4444444444444444,
              "#bd3786"
             ],
             [
              0.5555555555555556,
              "#d8576b"
             ],
             [
              0.6666666666666666,
              "#ed7953"
             ],
             [
              0.7777777777777778,
              "#fb9f3a"
             ],
             [
              0.8888888888888888,
              "#fdca26"
             ],
             [
              1,
              "#f0f921"
             ]
            ],
            "type": "histogram2dcontour"
           }
          ],
          "mesh3d": [
           {
            "colorbar": {
             "outlinewidth": 0,
             "ticks": ""
            },
            "type": "mesh3d"
           }
          ],
          "parcoords": [
           {
            "line": {
             "colorbar": {
              "outlinewidth": 0,
              "ticks": ""
             }
            },
            "type": "parcoords"
           }
          ],
          "scatter": [
           {
            "marker": {
             "colorbar": {
              "outlinewidth": 0,
              "ticks": ""
             }
            },
            "type": "scatter"
           }
          ],
          "scatter3d": [
           {
            "line": {
             "colorbar": {
              "outlinewidth": 0,
              "ticks": ""
             }
            },
            "marker": {
             "colorbar": {
              "outlinewidth": 0,
              "ticks": ""
             }
            },
            "type": "scatter3d"
           }
          ],
          "scattercarpet": [
           {
            "marker": {
             "colorbar": {
              "outlinewidth": 0,
              "ticks": ""
             }
            },
            "type": "scattercarpet"
           }
          ],
          "scattergeo": [
           {
            "marker": {
             "colorbar": {
              "outlinewidth": 0,
              "ticks": ""
             }
            },
            "type": "scattergeo"
           }
          ],
          "scattergl": [
           {
            "marker": {
             "colorbar": {
              "outlinewidth": 0,
              "ticks": ""
             }
            },
            "type": "scattergl"
           }
          ],
          "scattermapbox": [
           {
            "marker": {
             "colorbar": {
              "outlinewidth": 0,
              "ticks": ""
             }
            },
            "type": "scattermapbox"
           }
          ],
          "scatterpolar": [
           {
            "marker": {
             "colorbar": {
              "outlinewidth": 0,
              "ticks": ""
             }
            },
            "type": "scatterpolar"
           }
          ],
          "scatterpolargl": [
           {
            "marker": {
             "colorbar": {
              "outlinewidth": 0,
              "ticks": ""
             }
            },
            "type": "scatterpolargl"
           }
          ],
          "scatterternary": [
           {
            "marker": {
             "colorbar": {
              "outlinewidth": 0,
              "ticks": ""
             }
            },
            "type": "scatterternary"
           }
          ],
          "surface": [
           {
            "colorbar": {
             "outlinewidth": 0,
             "ticks": ""
            },
            "colorscale": [
             [
              0,
              "#0d0887"
             ],
             [
              0.1111111111111111,
              "#46039f"
             ],
             [
              0.2222222222222222,
              "#7201a8"
             ],
             [
              0.3333333333333333,
              "#9c179e"
             ],
             [
              0.4444444444444444,
              "#bd3786"
             ],
             [
              0.5555555555555556,
              "#d8576b"
             ],
             [
              0.6666666666666666,
              "#ed7953"
             ],
             [
              0.7777777777777778,
              "#fb9f3a"
             ],
             [
              0.8888888888888888,
              "#fdca26"
             ],
             [
              1,
              "#f0f921"
             ]
            ],
            "type": "surface"
           }
          ],
          "table": [
           {
            "cells": {
             "fill": {
              "color": "#EBF0F8"
             },
             "line": {
              "color": "white"
             }
            },
            "header": {
             "fill": {
              "color": "#C8D4E3"
             },
             "line": {
              "color": "white"
             }
            },
            "type": "table"
           }
          ]
         },
         "layout": {
          "annotationdefaults": {
           "arrowcolor": "#2a3f5f",
           "arrowhead": 0,
           "arrowwidth": 1
          },
          "colorscale": {
           "diverging": [
            [
             0,
             "#8e0152"
            ],
            [
             0.1,
             "#c51b7d"
            ],
            [
             0.2,
             "#de77ae"
            ],
            [
             0.3,
             "#f1b6da"
            ],
            [
             0.4,
             "#fde0ef"
            ],
            [
             0.5,
             "#f7f7f7"
            ],
            [
             0.6,
             "#e6f5d0"
            ],
            [
             0.7,
             "#b8e186"
            ],
            [
             0.8,
             "#7fbc41"
            ],
            [
             0.9,
             "#4d9221"
            ],
            [
             1,
             "#276419"
            ]
           ],
           "sequential": [
            [
             0,
             "#0d0887"
            ],
            [
             0.1111111111111111,
             "#46039f"
            ],
            [
             0.2222222222222222,
             "#7201a8"
            ],
            [
             0.3333333333333333,
             "#9c179e"
            ],
            [
             0.4444444444444444,
             "#bd3786"
            ],
            [
             0.5555555555555556,
             "#d8576b"
            ],
            [
             0.6666666666666666,
             "#ed7953"
            ],
            [
             0.7777777777777778,
             "#fb9f3a"
            ],
            [
             0.8888888888888888,
             "#fdca26"
            ],
            [
             1,
             "#f0f921"
            ]
           ],
           "sequentialminus": [
            [
             0,
             "#0d0887"
            ],
            [
             0.1111111111111111,
             "#46039f"
            ],
            [
             0.2222222222222222,
             "#7201a8"
            ],
            [
             0.3333333333333333,
             "#9c179e"
            ],
            [
             0.4444444444444444,
             "#bd3786"
            ],
            [
             0.5555555555555556,
             "#d8576b"
            ],
            [
             0.6666666666666666,
             "#ed7953"
            ],
            [
             0.7777777777777778,
             "#fb9f3a"
            ],
            [
             0.8888888888888888,
             "#fdca26"
            ],
            [
             1,
             "#f0f921"
            ]
           ]
          },
          "colorway": [
           "#636efa",
           "#EF553B",
           "#00cc96",
           "#ab63fa",
           "#FFA15A",
           "#19d3f3",
           "#FF6692",
           "#B6E880",
           "#FF97FF",
           "#FECB52"
          ],
          "font": {
           "color": "#2a3f5f"
          },
          "geo": {
           "bgcolor": "white",
           "lakecolor": "white",
           "landcolor": "#E5ECF6",
           "showlakes": true,
           "showland": true,
           "subunitcolor": "white"
          },
          "hoverlabel": {
           "align": "left"
          },
          "hovermode": "closest",
          "mapbox": {
           "style": "light"
          },
          "paper_bgcolor": "white",
          "plot_bgcolor": "#E5ECF6",
          "polar": {
           "angularaxis": {
            "gridcolor": "white",
            "linecolor": "white",
            "ticks": ""
           },
           "bgcolor": "#E5ECF6",
           "radialaxis": {
            "gridcolor": "white",
            "linecolor": "white",
            "ticks": ""
           }
          },
          "scene": {
           "xaxis": {
            "backgroundcolor": "#E5ECF6",
            "gridcolor": "white",
            "gridwidth": 2,
            "linecolor": "white",
            "showbackground": true,
            "ticks": "",
            "zerolinecolor": "white"
           },
           "yaxis": {
            "backgroundcolor": "#E5ECF6",
            "gridcolor": "white",
            "gridwidth": 2,
            "linecolor": "white",
            "showbackground": true,
            "ticks": "",
            "zerolinecolor": "white"
           },
           "zaxis": {
            "backgroundcolor": "#E5ECF6",
            "gridcolor": "white",
            "gridwidth": 2,
            "linecolor": "white",
            "showbackground": true,
            "ticks": "",
            "zerolinecolor": "white"
           }
          },
          "shapedefaults": {
           "line": {
            "color": "#2a3f5f"
           }
          },
          "ternary": {
           "aaxis": {
            "gridcolor": "white",
            "linecolor": "white",
            "ticks": ""
           },
           "baxis": {
            "gridcolor": "white",
            "linecolor": "white",
            "ticks": ""
           },
           "bgcolor": "#E5ECF6",
           "caxis": {
            "gridcolor": "white",
            "linecolor": "white",
            "ticks": ""
           }
          },
          "title": {
           "x": 0.05
          },
          "xaxis": {
           "automargin": true,
           "gridcolor": "white",
           "linecolor": "white",
           "ticks": "",
           "zerolinecolor": "white",
           "zerolinewidth": 2
          },
          "yaxis": {
           "automargin": true,
           "gridcolor": "white",
           "linecolor": "white",
           "ticks": "",
           "zerolinecolor": "white",
           "zerolinewidth": 2
          }
         }
        },
        "title": {
         "text": "Average spending per product"
        },
        "xaxis": {
         "anchor": "y",
         "domain": [
          0,
          0.98
         ],
         "title": {
          "text": "Date"
         }
        },
        "yaxis": {
         "anchor": "x",
         "domain": [
          0,
          1
         ],
         "title": {
          "text": "Price"
         }
        }
       }
      }
     },
     "metadata": {},
     "output_type": "display_data"
    }
   ],
   "source": [
    "graph_data = data.copy()\n",
    "graph_data = graph_data.groupby(['Order_Month'])['Price'].mean().reset_index(name='Price')\n",
    "\n",
    "fig = px.bar(graph_data, x=\"Order_Month\", y=\"Price\")\n",
    "\n",
    "x = pd.to_numeric(graph_data['Order_Month'].to_numpy(), downcast='integer').reshape((-1, 1))\n",
    "y = graph_data['Price'].to_numpy()\n",
    "model = LinearRegression().fit(x, y)\n",
    "\n",
    "fig.add_trace(go.Scatter(x=graph_data['Order_Month'], y=model.predict(x),\n",
    "                    mode='lines',\n",
    "                    name='Trend line'))\n",
    "\n",
    "print('Accuracy: %2.2f' % (model.score(x, y) * 100) + '%')\n",
    "\n",
    "fig.update_layout(\n",
    "    title_text=\"Average spending per product\",\n",
    "    xaxis_title=\"Date\",\n",
    "    yaxis_title=\"Price\",\n",
    "    font=dict(\n",
    "        family=\"Roboto\",\n",
    "        size=14,\n",
    "        color=\"#7f7f7f\"\n",
    "    )\n",
    ")\n",
    "\n",
    "fig.show()"
   ]
  },
  {
   "cell_type": "code",
   "execution_count": 6,
   "metadata": {},
   "outputs": [
    {
     "name": "stdout",
     "output_type": "stream",
     "text": "Accuracy: 55.03%\n"
    },
    {
     "data": {
      "application/vnd.plotly.v1+json": {
       "config": {
        "plotlyServerURL": "https://plot.ly"
       },
       "data": [
        {
         "alignmentgroup": "True",
         "hoverlabel": {
          "namelength": 0
         },
         "hovertemplate": "Order_Month=%{x}<br>Sales=%{y}",
         "legendgroup": "",
         "marker": {
          "color": "#636efa"
         },
         "name": "",
         "offsetgroup": "",
         "orientation": "v",
         "showlegend": false,
         "textposition": "auto",
         "type": "bar",
         "x": [
          "2013-01-01T00:00:00",
          "2013-02-01T00:00:00",
          "2013-03-01T00:00:00",
          "2013-04-01T00:00:00",
          "2013-05-01T00:00:00",
          "2013-06-01T00:00:00",
          "2013-07-01T00:00:00",
          "2013-08-01T00:00:00",
          "2013-09-01T00:00:00",
          "2013-10-01T00:00:00",
          "2013-11-01T00:00:00",
          "2013-12-01T00:00:00",
          "2014-01-01T00:00:00",
          "2014-02-01T00:00:00",
          "2014-03-01T00:00:00",
          "2014-04-01T00:00:00",
          "2014-05-01T00:00:00",
          "2014-06-01T00:00:00",
          "2014-07-01T00:00:00",
          "2014-08-01T00:00:00",
          "2014-09-01T00:00:00",
          "2014-10-01T00:00:00",
          "2014-11-01T00:00:00",
          "2014-12-01T00:00:00",
          "2015-01-01T00:00:00",
          "2015-02-01T00:00:00",
          "2015-03-01T00:00:00",
          "2015-04-01T00:00:00",
          "2015-05-01T00:00:00",
          "2015-06-01T00:00:00",
          "2015-07-01T00:00:00",
          "2015-08-01T00:00:00",
          "2015-09-01T00:00:00",
          "2015-10-01T00:00:00",
          "2015-11-01T00:00:00",
          "2015-12-01T00:00:00",
          "2016-01-01T00:00:00",
          "2016-02-01T00:00:00",
          "2016-03-01T00:00:00",
          "2016-04-01T00:00:00",
          "2016-05-01T00:00:00",
          "2016-06-01T00:00:00",
          "2016-07-01T00:00:00",
          "2016-08-01T00:00:00",
          "2016-09-01T00:00:00",
          "2016-10-01T00:00:00",
          "2016-11-01T00:00:00",
          "2016-12-01T00:00:00",
          "2017-01-01T00:00:00",
          "2017-02-01T00:00:00",
          "2017-03-01T00:00:00",
          "2017-04-01T00:00:00",
          "2017-05-01T00:00:00",
          "2017-06-01T00:00:00",
          "2017-07-01T00:00:00",
          "2017-08-01T00:00:00",
          "2017-09-01T00:00:00",
          "2017-10-01T00:00:00",
          "2017-11-01T00:00:00",
          "2017-12-01T00:00:00",
          "2018-01-01T00:00:00",
          "2018-02-01T00:00:00",
          "2018-03-01T00:00:00",
          "2018-04-01T00:00:00",
          "2018-05-01T00:00:00",
          "2018-06-01T00:00:00",
          "2018-07-01T00:00:00",
          "2018-08-01T00:00:00",
          "2018-09-01T00:00:00",
          "2018-10-01T00:00:00",
          "2018-11-01T00:00:00",
          "2018-12-01T00:00:00"
         ],
         "xaxis": "x",
         "y": [
          3733074.759999998,
          3398074.3800000073,
          4137060.25999999,
          4458947.650000001,
          4849050.260000026,
          5281919.27999999,
          5514762.729999978,
          4538207.169999992,
          4804803.009999987,
          4606390.360000006,
          3432838.9300000076,
          4217454.029999997,
          4236802.78,
          3971947.1899999874,
          5835994.25,
          5105452.049999979,
          5893582.489999999,
          5335481.099999985,
          5311080.170000013,
          4968064.699999968,
          4628206.939999996,
          5489569.779999977,
          3885450.3900000043,
          4850545.5799999945,
          4044706.3400000054,
          4186951.7000000165,
          3925242.8000000026,
          5391931.429999986,
          5086921.199999995,
          5573087.059999992,
          5534247.310000005,
          5551153.579999987,
          5532329.540000019,
          5054004.219999995,
          4943753.899999999,
          4242132.890000004,
          4016346.169999999,
          3517829.3499999885,
          5021619.889999977,
          4453402.970000004,
          4510681.360000007,
          6160286.099999992,
          6322857.20000001,
          5322809.309999973,
          5746849.940000018,
          5367183.4799999995,
          5062699.63000004,
          5281112.289999979,
          3971828.5500000054,
          3894615.849999998,
          5020103.249999972,
          4276204.289999993,
          5743364.390000002,
          6286477.779999966,
          4904165.469999999,
          5755270.799999992,
          5158376.730000002,
          5476522.110000023,
          3447794.7100000028,
          4284484.919999997,
          4489622.489999997,
          3113189.720000003,
          3886994.749999999,
          4460243.390000009,
          5278974.289999992,
          5361487.219999971,
          4346766.289999992,
          4306551.639999985,
          4875055.68,
          1442916.2199999979,
          1384614.3500000024,
          1588310.0200000019
         ],
         "yaxis": "y"
        },
        {
         "mode": "lines",
         "name": "Polynomial prediction",
         "type": "scatter",
         "x": [
          "2013-01-01T00:00:00",
          "2013-02-01T00:00:00",
          "2013-03-01T00:00:00",
          "2013-04-01T00:00:00",
          "2013-05-01T00:00:00",
          "2013-06-01T00:00:00",
          "2013-07-01T00:00:00",
          "2013-08-01T00:00:00",
          "2013-09-01T00:00:00",
          "2013-10-01T00:00:00",
          "2013-11-01T00:00:00",
          "2013-12-01T00:00:00",
          "2014-01-01T00:00:00",
          "2014-02-01T00:00:00",
          "2014-03-01T00:00:00",
          "2014-04-01T00:00:00",
          "2014-05-01T00:00:00",
          "2014-06-01T00:00:00",
          "2014-07-01T00:00:00",
          "2014-08-01T00:00:00",
          "2014-09-01T00:00:00",
          "2014-10-01T00:00:00",
          "2014-11-01T00:00:00",
          "2014-12-01T00:00:00",
          "2015-01-01T00:00:00",
          "2015-02-01T00:00:00",
          "2015-03-01T00:00:00",
          "2015-04-01T00:00:00",
          "2015-05-01T00:00:00",
          "2015-06-01T00:00:00",
          "2015-07-01T00:00:00",
          "2015-08-01T00:00:00",
          "2015-09-01T00:00:00",
          "2015-10-01T00:00:00",
          "2015-11-01T00:00:00",
          "2015-12-01T00:00:00",
          "2016-01-01T00:00:00",
          "2016-02-01T00:00:00",
          "2016-03-01T00:00:00",
          "2016-04-01T00:00:00",
          "2016-05-01T00:00:00",
          "2016-06-01T00:00:00",
          "2016-07-01T00:00:00",
          "2016-08-01T00:00:00",
          "2016-09-01T00:00:00",
          "2016-10-01T00:00:00",
          "2016-11-01T00:00:00",
          "2016-12-01T00:00:00",
          "2017-01-01T00:00:00",
          "2017-02-01T00:00:00",
          "2017-03-01T00:00:00",
          "2017-04-01T00:00:00",
          "2017-05-01T00:00:00",
          "2017-06-01T00:00:00",
          "2017-07-01T00:00:00",
          "2017-08-01T00:00:00",
          "2017-09-01T00:00:00",
          "2017-10-01T00:00:00",
          "2017-11-01T00:00:00",
          "2017-12-01T00:00:00",
          "2018-01-01T00:00:00",
          "2018-02-01T00:00:00",
          "2018-03-01T00:00:00",
          "2018-04-01T00:00:00",
          "2018-05-01T00:00:00",
          "2018-06-01T00:00:00",
          "2018-07-01T00:00:00",
          "2018-08-01T00:00:00",
          "2018-09-01T00:00:00",
          "2018-10-01T00:00:00",
          "2018-11-01T00:00:00",
          "2018-12-01T00:00:00"
         ],
         "y": [
          2937404.0650634766,
          3544791.3544921875,
          4048342.8264160156,
          4448058.481079102,
          4743938.318603516,
          4935982.338500977,
          5024190.541625977,
          5008562.927001953,
          4889099.495239258,
          4665800.246337891,
          4338665.180175781,
          3907694.296508789,
          3670786.1737060547,
          4244241.446777344,
          4713860.90234375,
          5079644.540649414,
          5341592.361816406,
          5499704.365356445,
          5553980.551879883,
          5504420.921142578,
          5351025.473022461,
          5093794.207519531,
          4732727.125244141,
          4267824.225219727,
          4077991.494995117,
          4617514.751708984,
          5053202.190917969,
          5385053.812866211,
          5613069.617431641,
          5737249.604858398,
          5757593.775024414,
          5674102.127685547,
          5486774.663452148,
          5195611.381591797,
          4800612.282714844,
          4301777.366333008,
          4159020.0286865234,
          4664611.268798828,
          5066366.691894531,
          5364286.297485352,
          5558370.085693359,
          5648618.056518555,
          5635030.210571289,
          5517606.546875,
          5296347.066040039,
          4971251.767822266,
          4542320.652832031,
          4009553.7200927734,
          3913871.7752685547,
          4385530.9990234375,
          4753354.405761719,
          5017341.994995117,
          5177493.766845703,
          5233809.721313477,
          5186289.858764648,
          5034934.178955078,
          4779742.681762695,
          4420715.3671875,
          3957852.235595703,
          3391153.2864990234,
          3342546.7346191406,
          3780273.9420166016,
          4114165.3321533203,
          4344220.9052734375,
          4470440.660766602,
          4492824.598876953,
          4411372.719970703,
          4226085.02355957,
          3936961.5100097656,
          3544002.179321289,
          3047207.0313720703,
          2446576.0659179688
         ]
        },
        {
         "mode": "lines",
         "name": "Linear prediction",
         "type": "scatter",
         "x": [
          "2013-01-01T00:00:00",
          "2013-02-01T00:00:00",
          "2013-03-01T00:00:00",
          "2013-04-01T00:00:00",
          "2013-05-01T00:00:00",
          "2013-06-01T00:00:00",
          "2013-07-01T00:00:00",
          "2013-08-01T00:00:00",
          "2013-09-01T00:00:00",
          "2013-10-01T00:00:00",
          "2013-11-01T00:00:00",
          "2013-12-01T00:00:00",
          "2014-01-01T00:00:00",
          "2014-02-01T00:00:00",
          "2014-03-01T00:00:00",
          "2014-04-01T00:00:00",
          "2014-05-01T00:00:00",
          "2014-06-01T00:00:00",
          "2014-07-01T00:00:00",
          "2014-08-01T00:00:00",
          "2014-09-01T00:00:00",
          "2014-10-01T00:00:00",
          "2014-11-01T00:00:00",
          "2014-12-01T00:00:00",
          "2015-01-01T00:00:00",
          "2015-02-01T00:00:00",
          "2015-03-01T00:00:00",
          "2015-04-01T00:00:00",
          "2015-05-01T00:00:00",
          "2015-06-01T00:00:00",
          "2015-07-01T00:00:00",
          "2015-08-01T00:00:00",
          "2015-09-01T00:00:00",
          "2015-10-01T00:00:00",
          "2015-11-01T00:00:00",
          "2015-12-01T00:00:00",
          "2016-01-01T00:00:00",
          "2016-02-01T00:00:00",
          "2016-03-01T00:00:00",
          "2016-04-01T00:00:00",
          "2016-05-01T00:00:00",
          "2016-06-01T00:00:00",
          "2016-07-01T00:00:00",
          "2016-08-01T00:00:00",
          "2016-09-01T00:00:00",
          "2016-10-01T00:00:00",
          "2016-11-01T00:00:00",
          "2016-12-01T00:00:00",
          "2017-01-01T00:00:00",
          "2017-02-01T00:00:00",
          "2017-03-01T00:00:00",
          "2017-04-01T00:00:00",
          "2017-05-01T00:00:00",
          "2017-06-01T00:00:00",
          "2017-07-01T00:00:00",
          "2017-08-01T00:00:00",
          "2017-09-01T00:00:00",
          "2017-10-01T00:00:00",
          "2017-11-01T00:00:00",
          "2017-12-01T00:00:00",
          "2018-01-01T00:00:00",
          "2018-02-01T00:00:00",
          "2018-03-01T00:00:00",
          "2018-04-01T00:00:00",
          "2018-05-01T00:00:00",
          "2018-06-01T00:00:00",
          "2018-07-01T00:00:00",
          "2018-08-01T00:00:00",
          "2018-09-01T00:00:00",
          "2018-10-01T00:00:00",
          "2018-11-01T00:00:00",
          "2018-12-01T00:00:00"
         ],
         "y": [
          4954874.051709059,
          4946233.962618394,
          4938430.011181665,
          4929789.922091,
          4921428.545551647,
          4912788.456460983,
          4904427.07992163,
          4895786.990830965,
          4887146.901740301,
          4878785.525200948,
          4870145.436110284,
          4861784.059570931,
          4853143.970480267,
          4844503.881389602,
          4836699.929952873,
          4828059.840862209,
          4819698.464322856,
          4811058.375232192,
          4802696.9986928385,
          4794056.909602175,
          4785416.82051151,
          4777055.443972157,
          4768415.354881492,
          4760053.97834214,
          4751413.889251475,
          4742773.80016081,
          4734969.848724081,
          4726329.759633417,
          4717968.383094064,
          4709328.2940034,
          4700966.917464047,
          4692326.828373383,
          4683686.739282718,
          4675325.362743366,
          4666685.273652701,
          4658323.897113348,
          4649683.8080226835,
          4641043.718932019,
          4632961.054943978,
          4624320.965853314,
          4615959.589313961,
          4607319.500223297,
          4598958.123683943,
          4590318.0345932795,
          4581677.945502615,
          4573316.568963262,
          4564676.479872597,
          4556315.103333245,
          4547675.01424258,
          4539034.925151915,
          4531230.973715186,
          4522590.884624522,
          4514229.508085169,
          4505589.418994505,
          4497228.042455152,
          4488587.953364488,
          4479947.864273823,
          4471586.4877344705,
          4462946.398643806,
          4454585.022104453,
          4445944.933013788,
          4437304.843923124,
          4429500.892486394,
          4420860.80339573,
          4412499.426856377,
          4403859.337765713,
          4395497.96122636,
          4386857.872135696,
          4378217.783045031,
          4369856.406505679,
          4361216.317415014,
          4352854.940875662
         ]
        }
       ],
       "layout": {
        "barmode": "relative",
        "font": {
         "color": "#7f7f7f",
         "family": "Roboto",
         "size": 14
        },
        "height": 600,
        "legend": {
         "tracegroupgap": 0
        },
        "margin": {
         "t": 60
        },
        "template": {
         "data": {
          "bar": [
           {
            "error_x": {
             "color": "#2a3f5f"
            },
            "error_y": {
             "color": "#2a3f5f"
            },
            "marker": {
             "line": {
              "color": "#E5ECF6",
              "width": 0.5
             }
            },
            "type": "bar"
           }
          ],
          "barpolar": [
           {
            "marker": {
             "line": {
              "color": "#E5ECF6",
              "width": 0.5
             }
            },
            "type": "barpolar"
           }
          ],
          "carpet": [
           {
            "aaxis": {
             "endlinecolor": "#2a3f5f",
             "gridcolor": "white",
             "linecolor": "white",
             "minorgridcolor": "white",
             "startlinecolor": "#2a3f5f"
            },
            "baxis": {
             "endlinecolor": "#2a3f5f",
             "gridcolor": "white",
             "linecolor": "white",
             "minorgridcolor": "white",
             "startlinecolor": "#2a3f5f"
            },
            "type": "carpet"
           }
          ],
          "choropleth": [
           {
            "colorbar": {
             "outlinewidth": 0,
             "ticks": ""
            },
            "type": "choropleth"
           }
          ],
          "contour": [
           {
            "colorbar": {
             "outlinewidth": 0,
             "ticks": ""
            },
            "colorscale": [
             [
              0,
              "#0d0887"
             ],
             [
              0.1111111111111111,
              "#46039f"
             ],
             [
              0.2222222222222222,
              "#7201a8"
             ],
             [
              0.3333333333333333,
              "#9c179e"
             ],
             [
              0.4444444444444444,
              "#bd3786"
             ],
             [
              0.5555555555555556,
              "#d8576b"
             ],
             [
              0.6666666666666666,
              "#ed7953"
             ],
             [
              0.7777777777777778,
              "#fb9f3a"
             ],
             [
              0.8888888888888888,
              "#fdca26"
             ],
             [
              1,
              "#f0f921"
             ]
            ],
            "type": "contour"
           }
          ],
          "contourcarpet": [
           {
            "colorbar": {
             "outlinewidth": 0,
             "ticks": ""
            },
            "type": "contourcarpet"
           }
          ],
          "heatmap": [
           {
            "colorbar": {
             "outlinewidth": 0,
             "ticks": ""
            },
            "colorscale": [
             [
              0,
              "#0d0887"
             ],
             [
              0.1111111111111111,
              "#46039f"
             ],
             [
              0.2222222222222222,
              "#7201a8"
             ],
             [
              0.3333333333333333,
              "#9c179e"
             ],
             [
              0.4444444444444444,
              "#bd3786"
             ],
             [
              0.5555555555555556,
              "#d8576b"
             ],
             [
              0.6666666666666666,
              "#ed7953"
             ],
             [
              0.7777777777777778,
              "#fb9f3a"
             ],
             [
              0.8888888888888888,
              "#fdca26"
             ],
             [
              1,
              "#f0f921"
             ]
            ],
            "type": "heatmap"
           }
          ],
          "heatmapgl": [
           {
            "colorbar": {
             "outlinewidth": 0,
             "ticks": ""
            },
            "colorscale": [
             [
              0,
              "#0d0887"
             ],
             [
              0.1111111111111111,
              "#46039f"
             ],
             [
              0.2222222222222222,
              "#7201a8"
             ],
             [
              0.3333333333333333,
              "#9c179e"
             ],
             [
              0.4444444444444444,
              "#bd3786"
             ],
             [
              0.5555555555555556,
              "#d8576b"
             ],
             [
              0.6666666666666666,
              "#ed7953"
             ],
             [
              0.7777777777777778,
              "#fb9f3a"
             ],
             [
              0.8888888888888888,
              "#fdca26"
             ],
             [
              1,
              "#f0f921"
             ]
            ],
            "type": "heatmapgl"
           }
          ],
          "histogram": [
           {
            "marker": {
             "colorbar": {
              "outlinewidth": 0,
              "ticks": ""
             }
            },
            "type": "histogram"
           }
          ],
          "histogram2d": [
           {
            "colorbar": {
             "outlinewidth": 0,
             "ticks": ""
            },
            "colorscale": [
             [
              0,
              "#0d0887"
             ],
             [
              0.1111111111111111,
              "#46039f"
             ],
             [
              0.2222222222222222,
              "#7201a8"
             ],
             [
              0.3333333333333333,
              "#9c179e"
             ],
             [
              0.4444444444444444,
              "#bd3786"
             ],
             [
              0.5555555555555556,
              "#d8576b"
             ],
             [
              0.6666666666666666,
              "#ed7953"
             ],
             [
              0.7777777777777778,
              "#fb9f3a"
             ],
             [
              0.8888888888888888,
              "#fdca26"
             ],
             [
              1,
              "#f0f921"
             ]
            ],
            "type": "histogram2d"
           }
          ],
          "histogram2dcontour": [
           {
            "colorbar": {
             "outlinewidth": 0,
             "ticks": ""
            },
            "colorscale": [
             [
              0,
              "#0d0887"
             ],
             [
              0.1111111111111111,
              "#46039f"
             ],
             [
              0.2222222222222222,
              "#7201a8"
             ],
             [
              0.3333333333333333,
              "#9c179e"
             ],
             [
              0.4444444444444444,
              "#bd3786"
             ],
             [
              0.5555555555555556,
              "#d8576b"
             ],
             [
              0.6666666666666666,
              "#ed7953"
             ],
             [
              0.7777777777777778,
              "#fb9f3a"
             ],
             [
              0.8888888888888888,
              "#fdca26"
             ],
             [
              1,
              "#f0f921"
             ]
            ],
            "type": "histogram2dcontour"
           }
          ],
          "mesh3d": [
           {
            "colorbar": {
             "outlinewidth": 0,
             "ticks": ""
            },
            "type": "mesh3d"
           }
          ],
          "parcoords": [
           {
            "line": {
             "colorbar": {
              "outlinewidth": 0,
              "ticks": ""
             }
            },
            "type": "parcoords"
           }
          ],
          "scatter": [
           {
            "marker": {
             "colorbar": {
              "outlinewidth": 0,
              "ticks": ""
             }
            },
            "type": "scatter"
           }
          ],
          "scatter3d": [
           {
            "line": {
             "colorbar": {
              "outlinewidth": 0,
              "ticks": ""
             }
            },
            "marker": {
             "colorbar": {
              "outlinewidth": 0,
              "ticks": ""
             }
            },
            "type": "scatter3d"
           }
          ],
          "scattercarpet": [
           {
            "marker": {
             "colorbar": {
              "outlinewidth": 0,
              "ticks": ""
             }
            },
            "type": "scattercarpet"
           }
          ],
          "scattergeo": [
           {
            "marker": {
             "colorbar": {
              "outlinewidth": 0,
              "ticks": ""
             }
            },
            "type": "scattergeo"
           }
          ],
          "scattergl": [
           {
            "marker": {
             "colorbar": {
              "outlinewidth": 0,
              "ticks": ""
             }
            },
            "type": "scattergl"
           }
          ],
          "scattermapbox": [
           {
            "marker": {
             "colorbar": {
              "outlinewidth": 0,
              "ticks": ""
             }
            },
            "type": "scattermapbox"
           }
          ],
          "scatterpolar": [
           {
            "marker": {
             "colorbar": {
              "outlinewidth": 0,
              "ticks": ""
             }
            },
            "type": "scatterpolar"
           }
          ],
          "scatterpolargl": [
           {
            "marker": {
             "colorbar": {
              "outlinewidth": 0,
              "ticks": ""
             }
            },
            "type": "scatterpolargl"
           }
          ],
          "scatterternary": [
           {
            "marker": {
             "colorbar": {
              "outlinewidth": 0,
              "ticks": ""
             }
            },
            "type": "scatterternary"
           }
          ],
          "surface": [
           {
            "colorbar": {
             "outlinewidth": 0,
             "ticks": ""
            },
            "colorscale": [
             [
              0,
              "#0d0887"
             ],
             [
              0.1111111111111111,
              "#46039f"
             ],
             [
              0.2222222222222222,
              "#7201a8"
             ],
             [
              0.3333333333333333,
              "#9c179e"
             ],
             [
              0.4444444444444444,
              "#bd3786"
             ],
             [
              0.5555555555555556,
              "#d8576b"
             ],
             [
              0.6666666666666666,
              "#ed7953"
             ],
             [
              0.7777777777777778,
              "#fb9f3a"
             ],
             [
              0.8888888888888888,
              "#fdca26"
             ],
             [
              1,
              "#f0f921"
             ]
            ],
            "type": "surface"
           }
          ],
          "table": [
           {
            "cells": {
             "fill": {
              "color": "#EBF0F8"
             },
             "line": {
              "color": "white"
             }
            },
            "header": {
             "fill": {
              "color": "#C8D4E3"
             },
             "line": {
              "color": "white"
             }
            },
            "type": "table"
           }
          ]
         },
         "layout": {
          "annotationdefaults": {
           "arrowcolor": "#2a3f5f",
           "arrowhead": 0,
           "arrowwidth": 1
          },
          "colorscale": {
           "diverging": [
            [
             0,
             "#8e0152"
            ],
            [
             0.1,
             "#c51b7d"
            ],
            [
             0.2,
             "#de77ae"
            ],
            [
             0.3,
             "#f1b6da"
            ],
            [
             0.4,
             "#fde0ef"
            ],
            [
             0.5,
             "#f7f7f7"
            ],
            [
             0.6,
             "#e6f5d0"
            ],
            [
             0.7,
             "#b8e186"
            ],
            [
             0.8,
             "#7fbc41"
            ],
            [
             0.9,
             "#4d9221"
            ],
            [
             1,
             "#276419"
            ]
           ],
           "sequential": [
            [
             0,
             "#0d0887"
            ],
            [
             0.1111111111111111,
             "#46039f"
            ],
            [
             0.2222222222222222,
             "#7201a8"
            ],
            [
             0.3333333333333333,
             "#9c179e"
            ],
            [
             0.4444444444444444,
             "#bd3786"
            ],
            [
             0.5555555555555556,
             "#d8576b"
            ],
            [
             0.6666666666666666,
             "#ed7953"
            ],
            [
             0.7777777777777778,
             "#fb9f3a"
            ],
            [
             0.8888888888888888,
             "#fdca26"
            ],
            [
             1,
             "#f0f921"
            ]
           ],
           "sequentialminus": [
            [
             0,
             "#0d0887"
            ],
            [
             0.1111111111111111,
             "#46039f"
            ],
            [
             0.2222222222222222,
             "#7201a8"
            ],
            [
             0.3333333333333333,
             "#9c179e"
            ],
            [
             0.4444444444444444,
             "#bd3786"
            ],
            [
             0.5555555555555556,
             "#d8576b"
            ],
            [
             0.6666666666666666,
             "#ed7953"
            ],
            [
             0.7777777777777778,
             "#fb9f3a"
            ],
            [
             0.8888888888888888,
             "#fdca26"
            ],
            [
             1,
             "#f0f921"
            ]
           ]
          },
          "colorway": [
           "#636efa",
           "#EF553B",
           "#00cc96",
           "#ab63fa",
           "#FFA15A",
           "#19d3f3",
           "#FF6692",
           "#B6E880",
           "#FF97FF",
           "#FECB52"
          ],
          "font": {
           "color": "#2a3f5f"
          },
          "geo": {
           "bgcolor": "white",
           "lakecolor": "white",
           "landcolor": "#E5ECF6",
           "showlakes": true,
           "showland": true,
           "subunitcolor": "white"
          },
          "hoverlabel": {
           "align": "left"
          },
          "hovermode": "closest",
          "mapbox": {
           "style": "light"
          },
          "paper_bgcolor": "white",
          "plot_bgcolor": "#E5ECF6",
          "polar": {
           "angularaxis": {
            "gridcolor": "white",
            "linecolor": "white",
            "ticks": ""
           },
           "bgcolor": "#E5ECF6",
           "radialaxis": {
            "gridcolor": "white",
            "linecolor": "white",
            "ticks": ""
           }
          },
          "scene": {
           "xaxis": {
            "backgroundcolor": "#E5ECF6",
            "gridcolor": "white",
            "gridwidth": 2,
            "linecolor": "white",
            "showbackground": true,
            "ticks": "",
            "zerolinecolor": "white"
           },
           "yaxis": {
            "backgroundcolor": "#E5ECF6",
            "gridcolor": "white",
            "gridwidth": 2,
            "linecolor": "white",
            "showbackground": true,
            "ticks": "",
            "zerolinecolor": "white"
           },
           "zaxis": {
            "backgroundcolor": "#E5ECF6",
            "gridcolor": "white",
            "gridwidth": 2,
            "linecolor": "white",
            "showbackground": true,
            "ticks": "",
            "zerolinecolor": "white"
           }
          },
          "shapedefaults": {
           "line": {
            "color": "#2a3f5f"
           }
          },
          "ternary": {
           "aaxis": {
            "gridcolor": "white",
            "linecolor": "white",
            "ticks": ""
           },
           "baxis": {
            "gridcolor": "white",
            "linecolor": "white",
            "ticks": ""
           },
           "bgcolor": "#E5ECF6",
           "caxis": {
            "gridcolor": "white",
            "linecolor": "white",
            "ticks": ""
           }
          },
          "title": {
           "x": 0.05
          },
          "xaxis": {
           "automargin": true,
           "gridcolor": "white",
           "linecolor": "white",
           "ticks": "",
           "zerolinecolor": "white",
           "zerolinewidth": 2
          },
          "yaxis": {
           "automargin": true,
           "gridcolor": "white",
           "linecolor": "white",
           "ticks": "",
           "zerolinecolor": "white",
           "zerolinewidth": 2
          }
         }
        },
        "title": {
         "text": "Sales for age 30 to 40"
        },
        "xaxis": {
         "anchor": "y",
         "domain": [
          0,
          0.98
         ],
         "title": {
          "text": "Date"
         }
        },
        "yaxis": {
         "anchor": "x",
         "domain": [
          0,
          1
         ],
         "title": {
          "text": "Sales"
         }
        }
       }
      }
     },
     "metadata": {},
     "output_type": "display_data"
    }
   ],
   "source": [
    "graph_data = data[(data['Date_of_Birth'].dt.year >= 1979) & (data['Date_of_Birth'].dt.year <= 1989)].copy()\n",
    "graph_data = graph_data.groupby(['Order_Month'])['Price'].sum().reset_index(name='Sales')\n",
    "\n",
    "fig = px.bar(graph_data, x=\"Order_Month\", y=\"Sales\")\n",
    "\n",
    "x = list(zip(graph_data['Order_Month'].dt.year.to_numpy(),graph_data['Order_Month'].dt.month.to_numpy()))\n",
    "y = graph_data['Sales'].to_numpy()\n",
    "\n",
    "poly = PolynomialFeatures(degree=2)\n",
    "x_poly = poly.fit_transform(x)\n",
    "\n",
    "model = LinearRegression().fit(x_poly, y)\n",
    "\n",
    "linear_x = pd.to_numeric(graph_data['Order_Month'].to_numpy(), downcast='integer').reshape((-1, 1))\n",
    "linear_model = LinearRegression().fit(linear_x, y)\n",
    "\n",
    "fig.add_trace(go.Scatter(x=graph_data['Order_Month'], y=model.predict(x_poly),\n",
    "                    mode='lines',\n",
    "                    name='Polynomial prediction'))\n",
    "\n",
    "fig.add_trace(go.Scatter(x=graph_data['Order_Month'], y=linear_model.predict(linear_x),\n",
    "                    mode='lines',\n",
    "                    name='Linear prediction'))\n",
    "\n",
    "print('Accuracy: %2.2f' % (model.score(x_poly, y) * 100) + '%')\n",
    "\n",
    "fig.update_layout(\n",
    "    title_text=\"Sales for age 30 to 40\",\n",
    "    xaxis_title=\"Date\",\n",
    "    yaxis_title=\"Sales\",\n",
    "    font=dict(\n",
    "        family=\"Roboto\",\n",
    "        size=14,\n",
    "        color=\"#7f7f7f\"\n",
    "    )\n",
    ")\n",
    "\n",
    "fig.show()"
   ]
  },
  {
   "cell_type": "markdown",
   "execution_count": null,
   "metadata": {},
   "outputs": [],
   "source": [
    "## Decrease the number of returned products returned by 20%"
   ]
  },
  {
   "cell_type": "code",
   "execution_count": 7,
   "metadata": {},
   "outputs": [
    {
     "data": {
      "application/vnd.plotly.v1+json": {
       "config": {
        "plotlyServerURL": "https://plot.ly"
       },
       "data": [
        {
         "mode": "lines",
         "name": "Don't like the article",
         "type": "scatter",
         "x": [
          "2013-01-01T00:00:00",
          "2013-02-01T00:00:00",
          "2013-03-01T00:00:00",
          "2013-04-01T00:00:00",
          "2013-05-01T00:00:00",
          "2013-06-01T00:00:00",
          "2013-07-01T00:00:00",
          "2013-08-01T00:00:00",
          "2013-09-01T00:00:00",
          "2013-10-01T00:00:00",
          "2013-11-01T00:00:00",
          "2013-12-01T00:00:00",
          "2014-01-01T00:00:00",
          "2014-02-01T00:00:00",
          "2014-03-01T00:00:00",
          "2014-04-01T00:00:00",
          "2014-05-01T00:00:00",
          "2014-06-01T00:00:00",
          "2014-07-01T00:00:00",
          "2014-08-01T00:00:00",
          "2014-09-01T00:00:00",
          "2014-10-01T00:00:00",
          "2014-11-01T00:00:00",
          "2014-12-01T00:00:00",
          "2015-01-01T00:00:00",
          "2015-02-01T00:00:00",
          "2015-03-01T00:00:00",
          "2015-04-01T00:00:00",
          "2015-05-01T00:00:00",
          "2015-06-01T00:00:00",
          "2015-07-01T00:00:00",
          "2015-08-01T00:00:00",
          "2015-09-01T00:00:00",
          "2015-10-01T00:00:00",
          "2015-11-01T00:00:00",
          "2015-12-01T00:00:00",
          "2016-01-01T00:00:00",
          "2016-02-01T00:00:00",
          "2016-03-01T00:00:00",
          "2016-04-01T00:00:00",
          "2016-05-01T00:00:00",
          "2016-06-01T00:00:00",
          "2016-07-01T00:00:00",
          "2016-08-01T00:00:00",
          "2016-09-01T00:00:00",
          "2016-10-01T00:00:00",
          "2016-11-01T00:00:00",
          "2016-12-01T00:00:00",
          "2017-01-01T00:00:00",
          "2017-02-01T00:00:00",
          "2017-03-01T00:00:00",
          "2017-04-01T00:00:00",
          "2017-05-01T00:00:00",
          "2017-06-01T00:00:00",
          "2017-07-01T00:00:00",
          "2017-08-01T00:00:00",
          "2017-09-01T00:00:00",
          "2017-10-01T00:00:00",
          "2017-11-01T00:00:00",
          "2017-12-01T00:00:00",
          "2018-01-01T00:00:00",
          "2018-02-01T00:00:00",
          "2018-03-01T00:00:00",
          "2018-04-01T00:00:00",
          "2018-05-01T00:00:00",
          "2018-06-01T00:00:00",
          "2018-07-01T00:00:00",
          "2018-08-01T00:00:00",
          "2018-09-01T00:00:00",
          "2018-10-01T00:00:00",
          "2018-11-01T00:00:00",
          "2018-12-01T00:00:00"
         ],
         "y": [
          287.69060847897845,
          285.9365435022012,
          284.35222674898307,
          282.5981617722058,
          280.9006795366149,
          279.14661455983776,
          277.4491323242469,
          275.6950673474696,
          273.94100237069244,
          272.24352013510156,
          270.4894551583243,
          268.7919729227335,
          267.03790794595625,
          265.283842969179,
          263.6995262159609,
          261.9454612391836,
          260.24797900359283,
          258.49391402681556,
          256.7964317912247,
          255.0423668144474,
          253.28830183767025,
          251.59081960207936,
          249.8367546253021,
          248.13927238971132,
          246.38520741293405,
          244.63114243615678,
          243.04682568293867,
          241.2927607061614,
          239.59527847057063,
          237.84121349379336,
          236.14373125820248,
          234.38966628142532,
          232.63560130464805,
          230.93811906905717,
          229.18405409228,
          227.48657185668912,
          225.73250687991185,
          223.97844190313458,
          222.3375424087301,
          220.58347743195293,
          218.88599519636205,
          217.13193021958477,
          215.434447983994,
          213.68038300721673,
          211.92631803043946,
          210.22883579484858,
          208.47477081807142,
          206.77728858248054,
          205.02322360570327,
          203.2691586289261,
          201.684841875708,
          199.93077689893073,
          198.23329466333985,
          196.47922968656258,
          194.7817474509718,
          193.02768247419453,
          191.27361749741726,
          189.5761352618265,
          187.82207028504922,
          186.12458804945834,
          184.37052307268118,
          182.6164580959039,
          181.0321413426858,
          179.27807636590853,
          177.58059413031765,
          175.8265291535405,
          174.1290469179496,
          172.37498194117234,
          170.62091696439518,
          168.9234347288043,
          167.16936975202702,
          165.47188751643614
         ]
        },
        {
         "mode": "lines",
         "name": "Wrong or missing article",
         "type": "scatter",
         "x": [
          "2013-01-01T00:00:00",
          "2013-02-01T00:00:00",
          "2013-03-01T00:00:00",
          "2013-04-01T00:00:00",
          "2013-05-01T00:00:00",
          "2013-06-01T00:00:00",
          "2013-07-01T00:00:00",
          "2013-08-01T00:00:00",
          "2013-09-01T00:00:00",
          "2013-10-01T00:00:00",
          "2013-11-01T00:00:00",
          "2013-12-01T00:00:00",
          "2014-01-01T00:00:00",
          "2014-02-01T00:00:00",
          "2014-03-01T00:00:00",
          "2014-04-01T00:00:00",
          "2014-05-01T00:00:00",
          "2014-06-01T00:00:00",
          "2014-07-01T00:00:00",
          "2014-08-01T00:00:00",
          "2014-09-01T00:00:00",
          "2014-10-01T00:00:00",
          "2014-11-01T00:00:00",
          "2014-12-01T00:00:00",
          "2015-01-01T00:00:00",
          "2015-02-01T00:00:00",
          "2015-03-01T00:00:00",
          "2015-04-01T00:00:00",
          "2015-05-01T00:00:00",
          "2015-06-01T00:00:00",
          "2015-07-01T00:00:00",
          "2015-08-01T00:00:00",
          "2015-09-01T00:00:00",
          "2015-10-01T00:00:00",
          "2015-11-01T00:00:00",
          "2015-12-01T00:00:00",
          "2016-01-01T00:00:00",
          "2016-02-01T00:00:00",
          "2016-03-01T00:00:00",
          "2016-04-01T00:00:00",
          "2016-05-01T00:00:00",
          "2016-06-01T00:00:00",
          "2016-07-01T00:00:00",
          "2016-08-01T00:00:00",
          "2016-09-01T00:00:00",
          "2016-10-01T00:00:00",
          "2016-11-01T00:00:00",
          "2016-12-01T00:00:00",
          "2017-01-01T00:00:00",
          "2017-02-01T00:00:00",
          "2017-03-01T00:00:00",
          "2017-04-01T00:00:00",
          "2017-05-01T00:00:00",
          "2017-06-01T00:00:00",
          "2017-07-01T00:00:00",
          "2017-08-01T00:00:00",
          "2017-09-01T00:00:00",
          "2017-10-01T00:00:00",
          "2017-11-01T00:00:00",
          "2017-12-01T00:00:00",
          "2018-01-01T00:00:00",
          "2018-02-01T00:00:00",
          "2018-03-01T00:00:00",
          "2018-04-01T00:00:00",
          "2018-05-01T00:00:00",
          "2018-06-01T00:00:00",
          "2018-07-01T00:00:00",
          "2018-08-01T00:00:00",
          "2018-09-01T00:00:00",
          "2018-10-01T00:00:00",
          "2018-11-01T00:00:00",
          "2018-12-01T00:00:00"
         ],
         "y": [
          91.75234273138886,
          91.23934475171183,
          90.77599173780999,
          90.2629937581329,
          89.76654410038094,
          89.25354612070385,
          88.75709646295189,
          88.24409848327485,
          87.73110050359776,
          87.2346508458458,
          86.72165286616871,
          86.22520320841676,
          85.71220522873966,
          85.19920724906262,
          84.73585423516079,
          84.22285625548375,
          83.72640659773174,
          83.2134086180547,
          82.71695896030269,
          82.20396098062565,
          81.69096300094861,
          81.1945133431966,
          80.68151536351957,
          80.18506570576756,
          79.67206772609052,
          79.15906974641348,
          78.69571673251158,
          78.18271875283455,
          77.68626909508254,
          77.1732711154055,
          76.67682145765349,
          76.16382347797645,
          75.65082549829941,
          75.1543758405474,
          74.64137786087036,
          74.14492820311835,
          73.63193022344132,
          73.11893224376428,
          72.63903090793735,
          72.12603292826032,
          71.6295832705083,
          71.11658529083127,
          70.62013563307926,
          70.10713765340222,
          69.59413967372518,
          69.09769001597317,
          68.58469203629613,
          68.08824237854412,
          67.57524439886708,
          67.06224641919005,
          66.59889340528815,
          66.08589542561111,
          65.5894457678591,
          65.07644778818207,
          64.57999813043011,
          64.06700015075302,
          63.55400217107598,
          63.05755251332397,
          62.54455453364693,
          62.04810487589498,
          61.53510689621788,
          61.022108916540844,
          60.55875590263901,
          60.04575792296191,
          59.54930826520996,
          59.03631028553292,
          58.53986062778091,
          58.02686264810387,
          57.51386466842678,
          57.017415010674824,
          56.50441703099773,
          56.007967373245776
         ]
        },
        {
         "mode": "lines",
         "name": "Disapointing quality",
         "type": "scatter",
         "x": [
          "2013-01-01T00:00:00",
          "2013-02-01T00:00:00",
          "2013-03-01T00:00:00",
          "2013-04-01T00:00:00",
          "2013-05-01T00:00:00",
          "2013-06-01T00:00:00",
          "2013-07-01T00:00:00",
          "2013-08-01T00:00:00",
          "2013-09-01T00:00:00",
          "2013-10-01T00:00:00",
          "2013-11-01T00:00:00",
          "2013-12-01T00:00:00",
          "2014-01-01T00:00:00",
          "2014-02-01T00:00:00",
          "2014-03-01T00:00:00",
          "2014-04-01T00:00:00",
          "2014-05-01T00:00:00",
          "2014-06-01T00:00:00",
          "2014-07-01T00:00:00",
          "2014-08-01T00:00:00",
          "2014-09-01T00:00:00",
          "2014-10-01T00:00:00",
          "2014-11-01T00:00:00",
          "2014-12-01T00:00:00",
          "2015-01-01T00:00:00",
          "2015-02-01T00:00:00",
          "2015-03-01T00:00:00",
          "2015-04-01T00:00:00",
          "2015-05-01T00:00:00",
          "2015-06-01T00:00:00",
          "2015-07-01T00:00:00",
          "2015-08-01T00:00:00",
          "2015-09-01T00:00:00",
          "2015-10-01T00:00:00",
          "2015-11-01T00:00:00",
          "2015-12-01T00:00:00",
          "2016-01-01T00:00:00",
          "2016-02-01T00:00:00",
          "2016-03-01T00:00:00",
          "2016-04-01T00:00:00",
          "2016-05-01T00:00:00",
          "2016-06-01T00:00:00",
          "2016-07-01T00:00:00",
          "2016-08-01T00:00:00",
          "2016-09-01T00:00:00",
          "2016-10-01T00:00:00",
          "2016-11-01T00:00:00",
          "2016-12-01T00:00:00",
          "2017-01-01T00:00:00",
          "2017-02-01T00:00:00",
          "2017-03-01T00:00:00",
          "2017-04-01T00:00:00",
          "2017-05-01T00:00:00",
          "2017-06-01T00:00:00",
          "2017-07-01T00:00:00",
          "2017-08-01T00:00:00",
          "2017-09-01T00:00:00",
          "2017-10-01T00:00:00",
          "2017-11-01T00:00:00",
          "2017-12-01T00:00:00",
          "2018-01-01T00:00:00",
          "2018-02-01T00:00:00",
          "2018-03-01T00:00:00",
          "2018-04-01T00:00:00",
          "2018-05-01T00:00:00",
          "2018-06-01T00:00:00",
          "2018-07-01T00:00:00",
          "2018-08-01T00:00:00",
          "2018-09-01T00:00:00",
          "2018-10-01T00:00:00",
          "2018-11-01T00:00:00",
          "2018-12-01T00:00:00"
         ],
         "y": [
          288.9545391942996,
          287.2108433104871,
          285.6358921896242,
          283.8921963058117,
          282.2047486763157,
          280.4610527925032,
          278.7736051630071,
          277.0299092791946,
          275.2862133953821,
          273.5987657658861,
          271.8550698820736,
          270.16762225257764,
          268.42392636876514,
          266.6802304849525,
          265.1052793640896,
          263.3615834802771,
          261.6741358507811,
          259.9304399669686,
          258.24299233747263,
          256.4992964536601,
          254.75560056984762,
          253.06815294035164,
          251.32445705653902,
          249.63700942704304,
          247.89331354323053,
          246.14961765941803,
          244.5746665385551,
          242.8309706547426,
          241.14352302524662,
          239.39982714143412,
          237.71237951193802,
          235.96868362812552,
          234.224987744313,
          232.53754011481703,
          230.79384423100453,
          229.10639660150855,
          227.36270071769604,
          225.61900483388342,
          223.98780545870397,
          222.24410957489147,
          220.5566619453955,
          218.81296606158298,
          217.125518432087,
          215.3818225482745,
          213.638126664462,
          211.9506790349659,
          210.2069831511534,
          208.51953552165742,
          206.7758396378449,
          205.0321437540324,
          203.45719263316948,
          201.71349674935698,
          200.026049119861,
          198.28235323604838,
          196.5949056065524,
          194.8512097227399,
          193.1075138389274,
          191.4200662094314,
          189.6763703256189,
          187.98892269612293,
          186.24522681231042,
          184.5015309284978,
          182.92657980763488,
          181.18288392382237,
          179.4954362943264,
          177.7517404105139,
          176.0642927810179,
          174.3205968972054,
          172.5769010133929,
          170.8894533838968,
          169.1457575000843,
          167.45830987058832
         ]
        },
        {
         "mode": "lines",
         "name": "Article is defect",
         "type": "scatter",
         "x": [
          "2013-01-01T00:00:00",
          "2013-02-01T00:00:00",
          "2013-03-01T00:00:00",
          "2013-04-01T00:00:00",
          "2013-05-01T00:00:00",
          "2013-06-01T00:00:00",
          "2013-07-01T00:00:00",
          "2013-08-01T00:00:00",
          "2013-09-01T00:00:00",
          "2013-10-01T00:00:00",
          "2013-11-01T00:00:00",
          "2013-12-01T00:00:00",
          "2014-01-01T00:00:00",
          "2014-02-01T00:00:00",
          "2014-03-01T00:00:00",
          "2014-04-01T00:00:00",
          "2014-05-01T00:00:00",
          "2014-06-01T00:00:00",
          "2014-07-01T00:00:00",
          "2014-08-01T00:00:00",
          "2014-09-01T00:00:00",
          "2014-10-01T00:00:00",
          "2014-11-01T00:00:00",
          "2014-12-01T00:00:00",
          "2015-01-01T00:00:00",
          "2015-02-01T00:00:00",
          "2015-03-01T00:00:00",
          "2015-04-01T00:00:00",
          "2015-05-01T00:00:00",
          "2015-06-01T00:00:00",
          "2015-07-01T00:00:00",
          "2015-08-01T00:00:00",
          "2015-09-01T00:00:00",
          "2015-10-01T00:00:00",
          "2015-11-01T00:00:00",
          "2015-12-01T00:00:00",
          "2016-01-01T00:00:00",
          "2016-02-01T00:00:00",
          "2016-03-01T00:00:00",
          "2016-04-01T00:00:00",
          "2016-05-01T00:00:00",
          "2016-06-01T00:00:00",
          "2016-07-01T00:00:00",
          "2016-08-01T00:00:00",
          "2016-09-01T00:00:00",
          "2016-10-01T00:00:00",
          "2016-11-01T00:00:00",
          "2016-12-01T00:00:00",
          "2017-01-01T00:00:00",
          "2017-02-01T00:00:00",
          "2017-03-01T00:00:00",
          "2017-04-01T00:00:00",
          "2017-05-01T00:00:00",
          "2017-06-01T00:00:00",
          "2017-07-01T00:00:00",
          "2017-08-01T00:00:00",
          "2017-09-01T00:00:00",
          "2017-10-01T00:00:00",
          "2017-11-01T00:00:00",
          "2017-12-01T00:00:00",
          "2018-01-01T00:00:00",
          "2018-02-01T00:00:00",
          "2018-03-01T00:00:00",
          "2018-04-01T00:00:00",
          "2018-05-01T00:00:00",
          "2018-06-01T00:00:00",
          "2018-07-01T00:00:00",
          "2018-08-01T00:00:00",
          "2018-09-01T00:00:00",
          "2018-10-01T00:00:00",
          "2018-11-01T00:00:00",
          "2018-12-01T00:00:00"
         ],
         "y": [
          192.13318352213912,
          190.98224471946537,
          189.94268709124378,
          188.79174828857003,
          187.67793654404693,
          186.52699774137318,
          185.41318599685007,
          184.2622471941762,
          183.11130839150246,
          181.99749664697936,
          180.8465578443056,
          179.7327460997825,
          178.58180729710864,
          177.4308684944349,
          176.3913108662133,
          175.24037206353955,
          174.12656031901645,
          172.9756215163427,
          171.8618097718196,
          170.71087096914584,
          169.55993216647198,
          168.44612042194888,
          167.29518161927513,
          166.18136987475202,
          165.03043107207827,
          163.8794922694044,
          162.83993464118294,
          161.68899583850907,
          160.57518409398608,
          159.42424529131222,
          158.3104335467891,
          157.15949474411536,
          156.0085559414415,
          154.8947441969185,
          153.74380539424465,
          152.62999364972154,
          151.4790548470478,
          150.32811604437393,
          149.2514313580017,
          148.10049255532783,
          146.98668081080484,
          145.83574200813098,
          144.72193026360787,
          143.57099146093412,
          142.42005265826026,
          141.30624091373727,
          140.1553021110634,
          139.04149036654042,
          137.89055156386655,
          136.7396127611927,
          135.70005513297122,
          134.54911633029735,
          133.43530458577436,
          132.2843657831005,
          131.1705540385775,
          130.01961523590364,
          128.86867643322978,
          127.75486468870679,
          126.60392588603293,
          125.49011414150993,
          124.33917533883607,
          123.18823653616232,
          122.14867890794073,
          120.99774010526698,
          119.88392836074388,
          118.73298955807002,
          117.61917781354703,
          116.46823901087316,
          115.31730020819941,
          114.20348846367631,
          113.05254966100244,
          111.93873791647945
         ]
        },
        {
         "mode": "lines",
         "name": "Doesn't meet expectations",
         "type": "scatter",
         "x": [
          "2013-01-01T00:00:00",
          "2013-02-01T00:00:00",
          "2013-03-01T00:00:00",
          "2013-04-01T00:00:00",
          "2013-05-01T00:00:00",
          "2013-06-01T00:00:00",
          "2013-07-01T00:00:00",
          "2013-08-01T00:00:00",
          "2013-09-01T00:00:00",
          "2013-10-01T00:00:00",
          "2013-11-01T00:00:00",
          "2013-12-01T00:00:00",
          "2014-01-01T00:00:00",
          "2014-02-01T00:00:00",
          "2014-03-01T00:00:00",
          "2014-04-01T00:00:00",
          "2014-05-01T00:00:00",
          "2014-06-01T00:00:00",
          "2014-07-01T00:00:00",
          "2014-08-01T00:00:00",
          "2014-09-01T00:00:00",
          "2014-10-01T00:00:00",
          "2014-11-01T00:00:00",
          "2014-12-01T00:00:00",
          "2015-01-01T00:00:00",
          "2015-02-01T00:00:00",
          "2015-03-01T00:00:00",
          "2015-04-01T00:00:00",
          "2015-05-01T00:00:00",
          "2015-06-01T00:00:00",
          "2015-07-01T00:00:00",
          "2015-08-01T00:00:00",
          "2015-09-01T00:00:00",
          "2015-10-01T00:00:00",
          "2015-11-01T00:00:00",
          "2015-12-01T00:00:00",
          "2016-01-01T00:00:00",
          "2016-02-01T00:00:00",
          "2016-03-01T00:00:00",
          "2016-04-01T00:00:00",
          "2016-05-01T00:00:00",
          "2016-06-01T00:00:00",
          "2016-07-01T00:00:00",
          "2016-08-01T00:00:00",
          "2016-09-01T00:00:00",
          "2016-10-01T00:00:00",
          "2016-11-01T00:00:00",
          "2016-12-01T00:00:00",
          "2017-01-01T00:00:00",
          "2017-02-01T00:00:00",
          "2017-03-01T00:00:00",
          "2017-04-01T00:00:00",
          "2017-05-01T00:00:00",
          "2017-06-01T00:00:00",
          "2017-07-01T00:00:00",
          "2017-08-01T00:00:00",
          "2017-09-01T00:00:00",
          "2017-10-01T00:00:00",
          "2017-11-01T00:00:00",
          "2017-12-01T00:00:00",
          "2018-01-01T00:00:00",
          "2018-02-01T00:00:00",
          "2018-03-01T00:00:00",
          "2018-04-01T00:00:00",
          "2018-05-01T00:00:00",
          "2018-06-01T00:00:00",
          "2018-07-01T00:00:00",
          "2018-08-01T00:00:00",
          "2018-09-01T00:00:00",
          "2018-10-01T00:00:00",
          "2018-11-01T00:00:00",
          "2018-12-01T00:00:00"
         ],
         "y": [
          292.8309069801468,
          290.8813613639803,
          289.12048145260417,
          287.1709358364377,
          285.2842787885347,
          283.33473317236826,
          281.4480761244653,
          279.4985305082989,
          277.54898489213247,
          275.6623278442295,
          273.712782228063,
          271.82612518016003,
          269.8765795639936,
          267.9270339478271,
          266.1661540364511,
          264.2166084202846,
          262.32995137238163,
          260.38040575621517,
          258.4937487083122,
          256.54420309214584,
          254.59465747597937,
          252.70800042807628,
          250.75845481190981,
          248.87179776400694,
          246.92225214784048,
          244.97270653167402,
          243.21182662029787,
          241.2622810041314,
          239.37562395622854,
          237.42607834006208,
          235.53942129215898,
          233.58987567599252,
          231.64033005982606,
          229.75367301192318,
          227.80412739575672,
          225.91747034785362,
          223.9679247316874,
          222.01837911552093,
          220.19461063588142,
          218.24506501971496,
          216.35840797181186,
          214.4088623556454,
          212.52220530774252,
          210.57265969157606,
          208.6231140754096,
          206.7364570275065,
          204.78691141134004,
          202.90025436343717,
          200.9507087472707,
          199.00116313110425,
          197.2402832197281,
          195.29073760356164,
          193.40408055565877,
          191.4545349394923,
          189.5678778915892,
          187.61833227542297,
          185.6687866592565,
          183.7821296113534,
          181.83258399518695,
          179.94592694728408,
          177.99638133111762,
          176.04683571495116,
          174.285955803575,
          172.33641018740855,
          170.44975313950567,
          168.5002075233392,
          166.6135504754361,
          164.66400485926965,
          162.7144592431032,
          160.82780219520032,
          158.87825657903386,
          156.99159953113076
         ]
        },
        {
         "mode": "lines",
         "name": "Article seems different than online",
         "type": "scatter",
         "x": [
          "2013-01-01T00:00:00",
          "2013-02-01T00:00:00",
          "2013-03-01T00:00:00",
          "2013-04-01T00:00:00",
          "2013-05-01T00:00:00",
          "2013-06-01T00:00:00",
          "2013-07-01T00:00:00",
          "2013-08-01T00:00:00",
          "2013-09-01T00:00:00",
          "2013-10-01T00:00:00",
          "2013-11-01T00:00:00",
          "2013-12-01T00:00:00",
          "2014-01-01T00:00:00",
          "2014-02-01T00:00:00",
          "2014-03-01T00:00:00",
          "2014-04-01T00:00:00",
          "2014-05-01T00:00:00",
          "2014-06-01T00:00:00",
          "2014-07-01T00:00:00",
          "2014-08-01T00:00:00",
          "2014-09-01T00:00:00",
          "2014-10-01T00:00:00",
          "2014-11-01T00:00:00",
          "2014-12-01T00:00:00",
          "2015-01-01T00:00:00",
          "2015-02-01T00:00:00",
          "2015-03-01T00:00:00",
          "2015-04-01T00:00:00",
          "2015-05-01T00:00:00",
          "2015-06-01T00:00:00",
          "2015-07-01T00:00:00",
          "2015-08-01T00:00:00",
          "2015-09-01T00:00:00",
          "2015-10-01T00:00:00",
          "2015-11-01T00:00:00",
          "2015-12-01T00:00:00",
          "2016-01-01T00:00:00",
          "2016-02-01T00:00:00",
          "2016-03-01T00:00:00",
          "2016-04-01T00:00:00",
          "2016-05-01T00:00:00",
          "2016-06-01T00:00:00",
          "2016-07-01T00:00:00",
          "2016-08-01T00:00:00",
          "2016-09-01T00:00:00",
          "2016-10-01T00:00:00",
          "2016-11-01T00:00:00",
          "2016-12-01T00:00:00",
          "2017-01-01T00:00:00",
          "2017-02-01T00:00:00",
          "2017-03-01T00:00:00",
          "2017-04-01T00:00:00",
          "2017-05-01T00:00:00",
          "2017-06-01T00:00:00",
          "2017-07-01T00:00:00",
          "2017-08-01T00:00:00",
          "2017-09-01T00:00:00",
          "2017-10-01T00:00:00",
          "2017-11-01T00:00:00",
          "2017-12-01T00:00:00",
          "2018-01-01T00:00:00",
          "2018-02-01T00:00:00",
          "2018-03-01T00:00:00",
          "2018-04-01T00:00:00",
          "2018-05-01T00:00:00",
          "2018-06-01T00:00:00",
          "2018-07-01T00:00:00",
          "2018-08-01T00:00:00",
          "2018-09-01T00:00:00",
          "2018-10-01T00:00:00",
          "2018-11-01T00:00:00",
          "2018-12-01T00:00:00"
         ],
         "y": [
          95.68886744031863,
          95.0747871010737,
          94.52013389143315,
          93.90605355218827,
          93.31178225614485,
          92.69770191689997,
          92.1034306208565,
          91.48935028161162,
          90.87526994236674,
          90.28099864632333,
          89.66691830707839,
          89.07264701103497,
          88.4585666717901,
          87.84448633254522,
          87.28983312290467,
          86.67575278365979,
          86.08148148761632,
          85.46740114837144,
          84.87312985232802,
          84.25904951308308,
          83.6449691738382,
          83.05069787779479,
          82.43661753854991,
          81.84234624250644,
          81.22826590326156,
          80.61418556401668,
          80.05953235437613,
          79.44545201513125,
          78.85118071908778,
          78.2371003798429,
          77.64282908379948,
          77.0287487445546,
          76.41466840530967,
          75.82039710926625,
          75.20631677002137,
          74.6120454739779,
          73.99796513473302,
          73.38388479548814,
          72.80942254264613,
          72.19534220340125,
          71.60107090735784,
          70.98699056811296,
          70.39271927206948,
          69.7786389328246,
          69.16455859357973,
          68.57028729753631,
          67.95620695829138,
          67.36193566224796,
          66.74785532300308,
          66.1337749837582,
          65.57912177411765,
          64.96504143487277,
          64.3707701388293,
          63.75668979958442,
          63.162418503541005,
          62.54833816429607,
          61.93425782505119,
          61.339986529007774,
          60.725906189762895,
          60.13163489371942,
          59.51755455447454,
          58.903474215229664,
          58.348821005589116,
          57.73474066634424,
          57.140469370300764,
          56.526389031055885,
          55.93211773501247,
          55.31803739576759,
          54.703957056522654,
          54.10968576047924,
          53.49560542123436,
          52.901334125190886
         ]
        },
        {
         "mode": "lines",
         "name": "Delivery took to long",
         "type": "scatter",
         "x": [
          "2013-01-01T00:00:00",
          "2013-02-01T00:00:00",
          "2013-03-01T00:00:00",
          "2013-04-01T00:00:00",
          "2013-05-01T00:00:00",
          "2013-06-01T00:00:00",
          "2013-07-01T00:00:00",
          "2013-08-01T00:00:00",
          "2013-09-01T00:00:00",
          "2013-10-01T00:00:00",
          "2013-11-01T00:00:00",
          "2013-12-01T00:00:00",
          "2014-01-01T00:00:00",
          "2014-02-01T00:00:00",
          "2014-03-01T00:00:00",
          "2014-04-01T00:00:00",
          "2014-05-01T00:00:00",
          "2014-06-01T00:00:00",
          "2014-07-01T00:00:00",
          "2014-08-01T00:00:00",
          "2014-09-01T00:00:00",
          "2014-10-01T00:00:00",
          "2014-11-01T00:00:00",
          "2014-12-01T00:00:00",
          "2015-01-01T00:00:00",
          "2015-02-01T00:00:00",
          "2015-03-01T00:00:00",
          "2015-04-01T00:00:00",
          "2015-05-01T00:00:00",
          "2015-06-01T00:00:00",
          "2015-07-01T00:00:00",
          "2015-08-01T00:00:00",
          "2015-09-01T00:00:00",
          "2015-10-01T00:00:00",
          "2015-11-01T00:00:00",
          "2015-12-01T00:00:00",
          "2016-01-01T00:00:00",
          "2016-02-01T00:00:00",
          "2016-03-01T00:00:00",
          "2016-04-01T00:00:00",
          "2016-05-01T00:00:00",
          "2016-06-01T00:00:00",
          "2016-07-01T00:00:00",
          "2016-08-01T00:00:00",
          "2016-09-01T00:00:00",
          "2016-10-01T00:00:00",
          "2016-11-01T00:00:00",
          "2016-12-01T00:00:00",
          "2017-01-01T00:00:00",
          "2017-02-01T00:00:00",
          "2017-03-01T00:00:00",
          "2017-04-01T00:00:00",
          "2017-05-01T00:00:00",
          "2017-06-01T00:00:00",
          "2017-07-01T00:00:00",
          "2017-08-01T00:00:00",
          "2017-09-01T00:00:00",
          "2017-10-01T00:00:00",
          "2017-11-01T00:00:00",
          "2017-12-01T00:00:00",
          "2018-01-01T00:00:00",
          "2018-02-01T00:00:00",
          "2018-03-01T00:00:00",
          "2018-04-01T00:00:00",
          "2018-05-01T00:00:00",
          "2018-06-01T00:00:00",
          "2018-07-01T00:00:00",
          "2018-08-01T00:00:00",
          "2018-09-01T00:00:00",
          "2018-10-01T00:00:00",
          "2018-11-01T00:00:00",
          "2018-12-01T00:00:00"
         ],
         "y": [
          97.3517031589181,
          96.73294654623822,
          96.17406960575317,
          95.5553129930733,
          94.956516271125,
          94.33775965844512,
          93.73896293649688,
          93.120206323817,
          92.50144971113713,
          91.90265298918888,
          91.283896376509,
          90.6850996545607,
          90.06634304188083,
          89.44758642920095,
          88.8887094887159,
          88.26995287603603,
          87.67115615408778,
          87.05239954140791,
          86.45360281945966,
          85.83484620677979,
          85.21608959409991,
          84.61729287215161,
          83.99853625947173,
          83.39973953752349,
          82.78098292484361,
          82.16222631216374,
          81.60334937167869,
          80.98459275899882,
          80.38579603705057,
          79.7670394243707,
          79.16824270242239,
          78.54948608974252,
          77.93072947706264,
          77.3319327551144,
          76.71317614243452,
          76.11437942048627,
          75.4956228078064,
          74.87686619512652,
          74.29802936390985,
          73.67927275122997,
          73.08047602928173,
          72.46171941660185,
          71.86292269465355,
          71.24416608197367,
          70.6254094692938,
          70.02661274734555,
          69.40785613466568,
          68.80905941271743,
          68.19030280003756,
          67.57154618735768,
          67.01266924687263,
          66.39391263419276,
          65.79511591224446,
          65.17635929956458,
          64.57756257761633,
          63.95880596493646,
          63.340049352256585,
          62.74125263030834,
          62.122496017628464,
          61.52369929568016,
          60.904942683000286,
          60.28618607032041,
          59.72730912983536,
          59.10855251715549,
          58.50975579520724,
          57.890999182527366,
          57.29220246057912,
          56.673445847899245,
          56.05468923521937,
          55.45589251327107,
          54.83713590059119,
          54.238339178642946
         ]
        },
        {
         "mode": "lines",
         "name": "Damaged package",
         "type": "scatter",
         "x": [
          "2013-01-01T00:00:00",
          "2013-02-01T00:00:00",
          "2013-03-01T00:00:00",
          "2013-04-01T00:00:00",
          "2013-05-01T00:00:00",
          "2013-06-01T00:00:00",
          "2013-07-01T00:00:00",
          "2013-08-01T00:00:00",
          "2013-09-01T00:00:00",
          "2013-10-01T00:00:00",
          "2013-11-01T00:00:00",
          "2013-12-01T00:00:00",
          "2014-01-01T00:00:00",
          "2014-02-01T00:00:00",
          "2014-03-01T00:00:00",
          "2014-04-01T00:00:00",
          "2014-05-01T00:00:00",
          "2014-06-01T00:00:00",
          "2014-07-01T00:00:00",
          "2014-08-01T00:00:00",
          "2014-09-01T00:00:00",
          "2014-10-01T00:00:00",
          "2014-11-01T00:00:00",
          "2014-12-01T00:00:00",
          "2015-01-01T00:00:00",
          "2015-02-01T00:00:00",
          "2015-03-01T00:00:00",
          "2015-04-01T00:00:00",
          "2015-05-01T00:00:00",
          "2015-06-01T00:00:00",
          "2015-07-01T00:00:00",
          "2015-08-01T00:00:00",
          "2015-09-01T00:00:00",
          "2015-10-01T00:00:00",
          "2015-11-01T00:00:00",
          "2015-12-01T00:00:00",
          "2016-01-01T00:00:00",
          "2016-02-01T00:00:00",
          "2016-03-01T00:00:00",
          "2016-04-01T00:00:00",
          "2016-05-01T00:00:00",
          "2016-06-01T00:00:00",
          "2016-07-01T00:00:00",
          "2016-08-01T00:00:00",
          "2016-09-01T00:00:00",
          "2016-10-01T00:00:00",
          "2016-11-01T00:00:00",
          "2016-12-01T00:00:00",
          "2017-01-01T00:00:00",
          "2017-02-01T00:00:00",
          "2017-03-01T00:00:00",
          "2017-04-01T00:00:00",
          "2017-05-01T00:00:00",
          "2017-06-01T00:00:00",
          "2017-07-01T00:00:00",
          "2017-08-01T00:00:00",
          "2017-09-01T00:00:00",
          "2017-10-01T00:00:00",
          "2017-11-01T00:00:00",
          "2017-12-01T00:00:00",
          "2018-01-01T00:00:00",
          "2018-02-01T00:00:00",
          "2018-03-01T00:00:00",
          "2018-04-01T00:00:00",
          "2018-05-01T00:00:00",
          "2018-06-01T00:00:00",
          "2018-07-01T00:00:00",
          "2018-08-01T00:00:00",
          "2018-09-01T00:00:00",
          "2018-10-01T00:00:00",
          "2018-11-01T00:00:00",
          "2018-12-01T00:00:00"
         ],
         "y": [
          91.25579902725553,
          90.7383143584509,
          90.27090885114347,
          89.75342418233885,
          89.25263256736662,
          88.73514789856199,
          88.2343562835897,
          87.71687161478508,
          87.19938694598045,
          86.69859533100822,
          86.1811106622036,
          85.68031904723131,
          85.16283437842668,
          84.64534970962205,
          84.17794420231462,
          83.66045953351,
          83.15966791853776,
          82.64218324973308,
          82.14139163476085,
          81.62390696595622,
          81.1064222971516,
          80.60563068217937,
          80.08814601337468,
          79.58735439840245,
          79.06986972959783,
          78.5523850607932,
          78.08497955348577,
          77.56749488468114,
          77.06670326970891,
          76.54921860090423,
          76.048426985932,
          75.53094231712737,
          75.01345764832274,
          74.51266603335051,
          73.99518136454583,
          73.4943897495736,
          72.97690508076897,
          72.45942041196435,
          71.97532185082451,
          71.45783718201983,
          70.9570455670476,
          70.43956089824297,
          69.93876928327074,
          69.42128461446612,
          68.90379994566143,
          68.4030083306892,
          67.88552366188458,
          67.38473204691235,
          66.86724737810772,
          66.34976270930304,
          65.88235720199566,
          65.36487253319098,
          64.86408091821875,
          64.34659624941412,
          63.84580463444189,
          63.32831996563726,
          62.81083529683258,
          62.31004368186035,
          61.79255901305572,
          61.29176739808349,
          60.774282729278866,
          60.25679806047418,
          59.789392553166806,
          59.27190788436212,
          58.77111626938989,
          58.253631600585265,
          57.752839985613036,
          57.23535531680841,
          56.717870648003725,
          56.217079033031496,
          55.69959436422687,
          55.19880274925464
         ]
        },
        {
         "mode": "lines",
         "name": "Manufacturing error",
         "type": "scatter",
         "x": [
          "2013-01-01T00:00:00",
          "2013-02-01T00:00:00",
          "2013-03-01T00:00:00",
          "2013-04-01T00:00:00",
          "2013-05-01T00:00:00",
          "2013-06-01T00:00:00",
          "2013-07-01T00:00:00",
          "2013-08-01T00:00:00",
          "2013-09-01T00:00:00",
          "2013-10-01T00:00:00",
          "2013-11-01T00:00:00",
          "2013-12-01T00:00:00",
          "2014-01-01T00:00:00",
          "2014-02-01T00:00:00",
          "2014-03-01T00:00:00",
          "2014-04-01T00:00:00",
          "2014-05-01T00:00:00",
          "2014-06-01T00:00:00",
          "2014-07-01T00:00:00",
          "2014-08-01T00:00:00",
          "2014-09-01T00:00:00",
          "2014-10-01T00:00:00",
          "2014-11-01T00:00:00",
          "2014-12-01T00:00:00",
          "2015-01-01T00:00:00",
          "2015-02-01T00:00:00",
          "2015-03-01T00:00:00",
          "2015-04-01T00:00:00",
          "2015-05-01T00:00:00",
          "2015-06-01T00:00:00",
          "2015-07-01T00:00:00",
          "2015-08-01T00:00:00",
          "2015-09-01T00:00:00",
          "2015-10-01T00:00:00",
          "2015-11-01T00:00:00",
          "2015-12-01T00:00:00",
          "2016-01-01T00:00:00",
          "2016-02-01T00:00:00",
          "2016-03-01T00:00:00",
          "2016-04-01T00:00:00",
          "2016-05-01T00:00:00",
          "2016-06-01T00:00:00",
          "2016-07-01T00:00:00",
          "2016-08-01T00:00:00",
          "2016-09-01T00:00:00",
          "2016-10-01T00:00:00",
          "2016-11-01T00:00:00",
          "2016-12-01T00:00:00",
          "2017-01-01T00:00:00",
          "2017-02-01T00:00:00",
          "2017-03-01T00:00:00",
          "2017-04-01T00:00:00",
          "2017-05-01T00:00:00",
          "2017-06-01T00:00:00",
          "2017-07-01T00:00:00",
          "2017-08-01T00:00:00",
          "2017-09-01T00:00:00",
          "2017-10-01T00:00:00",
          "2017-11-01T00:00:00",
          "2017-12-01T00:00:00",
          "2018-01-01T00:00:00",
          "2018-02-01T00:00:00",
          "2018-03-01T00:00:00",
          "2018-04-01T00:00:00",
          "2018-05-01T00:00:00",
          "2018-06-01T00:00:00",
          "2018-07-01T00:00:00",
          "2018-08-01T00:00:00",
          "2018-09-01T00:00:00",
          "2018-10-01T00:00:00",
          "2018-11-01T00:00:00",
          "2018-12-01T00:00:00"
         ],
         "y": [
          98.9782896161239,
          98.29965882402917,
          97.68670197955646,
          97.00807118746172,
          96.35133171124102,
          95.67270091914622,
          95.01596144292552,
          94.33733065083072,
          93.65869985873599,
          93.00196038251528,
          92.32332959042049,
          91.66659011419978,
          90.98795932210504,
          90.30932853001025,
          89.6963716855376,
          89.01774089344286,
          88.3610014172221,
          87.68237062512736,
          87.0256311489066,
          86.34700035681186,
          85.66836956471712,
          85.01163008849636,
          84.33299929640162,
          83.67625982018092,
          82.99762902808612,
          82.31899823599139,
          81.70604139151874,
          81.02741059942394,
          80.37067112320324,
          79.6920403311085,
          79.03530085488774,
          78.356670062793,
          77.6780392706982,
          77.0212997944775,
          76.34266900238276,
          75.685929526162,
          75.00729873406726,
          74.32866794197253,
          73.69381978162579,
          73.01518898953105,
          72.35844951331035,
          71.67981872121555,
          71.02307924499485,
          70.34444845290011,
          69.66581766080532,
          69.00907818458461,
          68.33044739248987,
          67.67370791626911,
          66.99507712417437,
          66.31644633207958,
          65.70348948760693,
          65.0248586955122,
          64.36811921929143,
          63.68948842719669,
          63.032748950975986,
          62.35411815888119,
          61.675487366786456,
          61.01874789056569,
          60.340117098470955,
          59.68337762225025,
          59.004746830155455,
          58.32611603806072,
          57.71315919358807,
          57.034528401493276,
          56.37778892527257,
          55.69915813317783,
          55.04241865695707,
          54.36378786486233,
          53.685157072767595,
          53.02841759654683,
          52.349786804452094,
          51.69304732823133
         ]
        },
        {
         "mode": "lines",
         "name": "Ordered the wrong article by accident",
         "type": "scatter",
         "x": [
          "2013-01-01T00:00:00",
          "2013-02-01T00:00:00",
          "2013-03-01T00:00:00",
          "2013-04-01T00:00:00",
          "2013-05-01T00:00:00",
          "2013-06-01T00:00:00",
          "2013-07-01T00:00:00",
          "2013-08-01T00:00:00",
          "2013-09-01T00:00:00",
          "2013-10-01T00:00:00",
          "2013-11-01T00:00:00",
          "2013-12-01T00:00:00",
          "2014-01-01T00:00:00",
          "2014-02-01T00:00:00",
          "2014-03-01T00:00:00",
          "2014-04-01T00:00:00",
          "2014-05-01T00:00:00",
          "2014-06-01T00:00:00",
          "2014-07-01T00:00:00",
          "2014-08-01T00:00:00",
          "2014-09-01T00:00:00",
          "2014-10-01T00:00:00",
          "2014-11-01T00:00:00",
          "2014-12-01T00:00:00",
          "2015-01-01T00:00:00",
          "2015-02-01T00:00:00",
          "2015-03-01T00:00:00",
          "2015-04-01T00:00:00",
          "2015-05-01T00:00:00",
          "2015-06-01T00:00:00",
          "2015-07-01T00:00:00",
          "2015-08-01T00:00:00",
          "2015-09-01T00:00:00",
          "2015-10-01T00:00:00",
          "2015-11-01T00:00:00",
          "2015-12-01T00:00:00",
          "2016-01-01T00:00:00",
          "2016-02-01T00:00:00",
          "2016-03-01T00:00:00",
          "2016-04-01T00:00:00",
          "2016-05-01T00:00:00",
          "2016-06-01T00:00:00",
          "2016-07-01T00:00:00",
          "2016-08-01T00:00:00",
          "2016-09-01T00:00:00",
          "2016-10-01T00:00:00",
          "2016-11-01T00:00:00",
          "2016-12-01T00:00:00",
          "2017-01-01T00:00:00",
          "2017-02-01T00:00:00",
          "2017-03-01T00:00:00",
          "2017-04-01T00:00:00",
          "2017-05-01T00:00:00",
          "2017-06-01T00:00:00",
          "2017-07-01T00:00:00",
          "2017-08-01T00:00:00",
          "2017-09-01T00:00:00",
          "2017-10-01T00:00:00",
          "2017-11-01T00:00:00",
          "2017-12-01T00:00:00",
          "2018-01-01T00:00:00",
          "2018-02-01T00:00:00",
          "2018-03-01T00:00:00",
          "2018-04-01T00:00:00",
          "2018-05-01T00:00:00",
          "2018-06-01T00:00:00",
          "2018-07-01T00:00:00",
          "2018-08-01T00:00:00",
          "2018-09-01T00:00:00",
          "2018-10-01T00:00:00",
          "2018-11-01T00:00:00",
          "2018-12-01T00:00:00"
         ],
         "y": [
          93.10961912207682,
          92.61268556554876,
          92.1638423532008,
          91.66690879667271,
          91.18600535487136,
          90.68907179834329,
          90.2081683565419,
          89.71123480001384,
          89.21430124348575,
          88.73339780168436,
          88.2364642451563,
          87.75556080335491,
          87.25862724682685,
          86.76169369029878,
          86.3128504779508,
          85.81591692142274,
          85.33501347962135,
          84.83807992309329,
          84.3571764812919,
          83.86024292476384,
          83.36330936823578,
          82.88240592643439,
          82.38547236990632,
          81.90456892810494,
          81.40763537157687,
          80.91070181504881,
          80.46185860270083,
          79.96492504617277,
          79.48402160437138,
          78.98708804784332,
          78.50618460604193,
          78.00925104951386,
          77.5123174929858,
          77.03141405118441,
          76.53448049465635,
          76.05357705285496,
          75.5566434963269,
          75.05970993979878,
          74.59483661272418,
          74.09790305619606,
          73.61699961439473,
          73.12006605786661,
          72.63916261606528,
          72.14222905953716,
          71.6452955030091,
          71.1643920612077,
          70.66745850467964,
          70.18655506287826,
          69.68962150635019,
          69.19268794982213,
          68.74384473747415,
          68.24691118094609,
          67.7660077391447,
          67.26907418261663,
          66.78817074081525,
          66.29123718428718,
          65.79430362775912,
          65.31340018595773,
          64.81646662942967,
          64.33556318762828,
          63.83862963110022,
          63.341696074572155,
          62.892852862224174,
          62.39591930569611,
          61.91501586389472,
          61.41808230736666,
          60.93717886556527,
          60.44024530903721,
          59.943311752509146,
          59.46240831070776,
          58.965474754179695,
          58.48457131237831
         ]
        },
        {
         "mode": "lines",
         "name": "Article is defetc",
         "type": "scatter",
         "x": [
          "2018-01-01T00:00:00",
          "2018-03-01T00:00:00",
          "2018-05-01T00:00:00",
          "2018-06-01T00:00:00",
          "2018-08-01T00:00:00",
          "2018-11-01T00:00:00",
          "2018-12-01T00:00:00"
         ],
         "y": [
          1.8173337156143958,
          1.7312669151493552,
          1.6422825960244865,
          1.5970610567970915,
          1.5080767376722228,
          1.3738708793199592,
          1.3301080994224819
         ]
        },
        {
         "mode": "lines",
         "name": "Dont like the article",
         "type": "scatter",
         "x": [
          "2018-01-01T00:00:00",
          "2018-03-01T00:00:00",
          "2018-05-01T00:00:00",
          "2018-08-01T00:00:00",
          "2018-12-01T00:00:00"
         ],
         "y": [
          3.1495379461707387,
          2.8445535404874676,
          2.529230680374269,
          2.0536617765969822,
          1.423016056370571
         ]
        },
        {
         "mode": "lines",
         "name": "Deosn't meet expectations",
         "type": "scatter",
         "x": [
          "2018-04-01T00:00:00",
          "2018-05-01T00:00:00",
          "2018-06-01T00:00:00",
          "2018-07-01T00:00:00",
          "2018-08-01T00:00:00",
          "2018-09-01T00:00:00"
         ],
         "y": [
          2.0927370551560784,
          1.9249193966700915,
          1.7515078162345787,
          1.583690157748606,
          1.4102785773130933,
          1.2368669968775805
         ]
        },
        {
         "mode": "lines",
         "name": "Doesnt meet expectations",
         "type": "scatter",
         "x": [
          "2018-01-01T00:00:00",
          "2018-04-01T00:00:00",
          "2018-05-01T00:00:00",
          "2018-06-01T00:00:00",
          "2018-07-01T00:00:00"
         ],
         "y": [
          0.5065564601329982,
          1.5804486980299544,
          1.9384127773289492,
          2.308308992604566,
          2.6662730719035608
         ]
        },
        {
         "mode": "lines",
         "name": "Artilce seems different than online",
         "type": "scatter",
         "x": [
          "2018-01-01T00:00:00",
          "2018-03-01T00:00:00",
          "2018-04-01T00:00:00",
          "2018-08-01T00:00:00"
         ],
         "y": [
          1,
          1,
          1,
          1
         ]
        },
        {
         "mode": "lines",
         "name": "Doesn't meet expetcations",
         "type": "scatter",
         "x": [
          "2018-01-01T00:00:00",
          "2018-04-01T00:00:00",
          "2018-05-01T00:00:00",
          "2018-06-01T00:00:00",
          "2018-08-01T00:00:00",
          "2018-09-01T00:00:00",
          "2018-11-01T00:00:00"
         ],
         "y": [
          1.571908494640855,
          1.4912813949768022,
          1.464405695088784,
          1.4366341385378316,
          1.3819868820988628,
          1.3542153255479104,
          1.2995680691089415
         ]
        },
        {
         "mode": "lines",
         "name": "Artilce is defect",
         "type": "scatter",
         "x": [
          "2018-01-01T00:00:00",
          "2018-04-01T00:00:00",
          "2018-05-01T00:00:00",
          "2018-06-01T00:00:00",
          "2018-08-01T00:00:00",
          "2018-09-01T00:00:00"
         ],
         "y": [
          1.87622005323869,
          1.6272509003601456,
          1.5442611827339618,
          1.4585051411869117,
          1.2897593820136777,
          1.2040033404666204
         ]
        },
        {
         "mode": "lines",
         "name": "Manufatcuring error",
         "type": "scatter",
         "x": [
          "2018-03-01T00:00:00",
          "2018-05-01T00:00:00",
          "2018-09-01T00:00:00"
         ],
         "y": [
          1,
          1,
          1
         ]
        }
       ],
       "layout": {
        "font": {
         "color": "#7f7f7f",
         "family": "Roboto",
         "size": 14
        },
        "template": {
         "data": {
          "bar": [
           {
            "error_x": {
             "color": "#2a3f5f"
            },
            "error_y": {
             "color": "#2a3f5f"
            },
            "marker": {
             "line": {
              "color": "#E5ECF6",
              "width": 0.5
             }
            },
            "type": "bar"
           }
          ],
          "barpolar": [
           {
            "marker": {
             "line": {
              "color": "#E5ECF6",
              "width": 0.5
             }
            },
            "type": "barpolar"
           }
          ],
          "carpet": [
           {
            "aaxis": {
             "endlinecolor": "#2a3f5f",
             "gridcolor": "white",
             "linecolor": "white",
             "minorgridcolor": "white",
             "startlinecolor": "#2a3f5f"
            },
            "baxis": {
             "endlinecolor": "#2a3f5f",
             "gridcolor": "white",
             "linecolor": "white",
             "minorgridcolor": "white",
             "startlinecolor": "#2a3f5f"
            },
            "type": "carpet"
           }
          ],
          "choropleth": [
           {
            "colorbar": {
             "outlinewidth": 0,
             "ticks": ""
            },
            "type": "choropleth"
           }
          ],
          "contour": [
           {
            "colorbar": {
             "outlinewidth": 0,
             "ticks": ""
            },
            "colorscale": [
             [
              0,
              "#0d0887"
             ],
             [
              0.1111111111111111,
              "#46039f"
             ],
             [
              0.2222222222222222,
              "#7201a8"
             ],
             [
              0.3333333333333333,
              "#9c179e"
             ],
             [
              0.4444444444444444,
              "#bd3786"
             ],
             [
              0.5555555555555556,
              "#d8576b"
             ],
             [
              0.6666666666666666,
              "#ed7953"
             ],
             [
              0.7777777777777778,
              "#fb9f3a"
             ],
             [
              0.8888888888888888,
              "#fdca26"
             ],
             [
              1,
              "#f0f921"
             ]
            ],
            "type": "contour"
           }
          ],
          "contourcarpet": [
           {
            "colorbar": {
             "outlinewidth": 0,
             "ticks": ""
            },
            "type": "contourcarpet"
           }
          ],
          "heatmap": [
           {
            "colorbar": {
             "outlinewidth": 0,
             "ticks": ""
            },
            "colorscale": [
             [
              0,
              "#0d0887"
             ],
             [
              0.1111111111111111,
              "#46039f"
             ],
             [
              0.2222222222222222,
              "#7201a8"
             ],
             [
              0.3333333333333333,
              "#9c179e"
             ],
             [
              0.4444444444444444,
              "#bd3786"
             ],
             [
              0.5555555555555556,
              "#d8576b"
             ],
             [
              0.6666666666666666,
              "#ed7953"
             ],
             [
              0.7777777777777778,
              "#fb9f3a"
             ],
             [
              0.8888888888888888,
              "#fdca26"
             ],
             [
              1,
              "#f0f921"
             ]
            ],
            "type": "heatmap"
           }
          ],
          "heatmapgl": [
           {
            "colorbar": {
             "outlinewidth": 0,
             "ticks": ""
            },
            "colorscale": [
             [
              0,
              "#0d0887"
             ],
             [
              0.1111111111111111,
              "#46039f"
             ],
             [
              0.2222222222222222,
              "#7201a8"
             ],
             [
              0.3333333333333333,
              "#9c179e"
             ],
             [
              0.4444444444444444,
              "#bd3786"
             ],
             [
              0.5555555555555556,
              "#d8576b"
             ],
             [
              0.6666666666666666,
              "#ed7953"
             ],
             [
              0.7777777777777778,
              "#fb9f3a"
             ],
             [
              0.8888888888888888,
              "#fdca26"
             ],
             [
              1,
              "#f0f921"
             ]
            ],
            "type": "heatmapgl"
           }
          ],
          "histogram": [
           {
            "marker": {
             "colorbar": {
              "outlinewidth": 0,
              "ticks": ""
             }
            },
            "type": "histogram"
           }
          ],
          "histogram2d": [
           {
            "colorbar": {
             "outlinewidth": 0,
             "ticks": ""
            },
            "colorscale": [
             [
              0,
              "#0d0887"
             ],
             [
              0.1111111111111111,
              "#46039f"
             ],
             [
              0.2222222222222222,
              "#7201a8"
             ],
             [
              0.3333333333333333,
              "#9c179e"
             ],
             [
              0.4444444444444444,
              "#bd3786"
             ],
             [
              0.5555555555555556,
              "#d8576b"
             ],
             [
              0.6666666666666666,
              "#ed7953"
             ],
             [
              0.7777777777777778,
              "#fb9f3a"
             ],
             [
              0.8888888888888888,
              "#fdca26"
             ],
             [
              1,
              "#f0f921"
             ]
            ],
            "type": "histogram2d"
           }
          ],
          "histogram2dcontour": [
           {
            "colorbar": {
             "outlinewidth": 0,
             "ticks": ""
            },
            "colorscale": [
             [
              0,
              "#0d0887"
             ],
             [
              0.1111111111111111,
              "#46039f"
             ],
             [
              0.2222222222222222,
              "#7201a8"
             ],
             [
              0.3333333333333333,
              "#9c179e"
             ],
             [
              0.4444444444444444,
              "#bd3786"
             ],
             [
              0.5555555555555556,
              "#d8576b"
             ],
             [
              0.6666666666666666,
              "#ed7953"
             ],
             [
              0.7777777777777778,
              "#fb9f3a"
             ],
             [
              0.8888888888888888,
              "#fdca26"
             ],
             [
              1,
              "#f0f921"
             ]
            ],
            "type": "histogram2dcontour"
           }
          ],
          "mesh3d": [
           {
            "colorbar": {
             "outlinewidth": 0,
             "ticks": ""
            },
            "type": "mesh3d"
           }
          ],
          "parcoords": [
           {
            "line": {
             "colorbar": {
              "outlinewidth": 0,
              "ticks": ""
             }
            },
            "type": "parcoords"
           }
          ],
          "scatter": [
           {
            "marker": {
             "colorbar": {
              "outlinewidth": 0,
              "ticks": ""
             }
            },
            "type": "scatter"
           }
          ],
          "scatter3d": [
           {
            "line": {
             "colorbar": {
              "outlinewidth": 0,
              "ticks": ""
             }
            },
            "marker": {
             "colorbar": {
              "outlinewidth": 0,
              "ticks": ""
             }
            },
            "type": "scatter3d"
           }
          ],
          "scattercarpet": [
           {
            "marker": {
             "colorbar": {
              "outlinewidth": 0,
              "ticks": ""
             }
            },
            "type": "scattercarpet"
           }
          ],
          "scattergeo": [
           {
            "marker": {
             "colorbar": {
              "outlinewidth": 0,
              "ticks": ""
             }
            },
            "type": "scattergeo"
           }
          ],
          "scattergl": [
           {
            "marker": {
             "colorbar": {
              "outlinewidth": 0,
              "ticks": ""
             }
            },
            "type": "scattergl"
           }
          ],
          "scattermapbox": [
           {
            "marker": {
             "colorbar": {
              "outlinewidth": 0,
              "ticks": ""
             }
            },
            "type": "scattermapbox"
           }
          ],
          "scatterpolar": [
           {
            "marker": {
             "colorbar": {
              "outlinewidth": 0,
              "ticks": ""
             }
            },
            "type": "scatterpolar"
           }
          ],
          "scatterpolargl": [
           {
            "marker": {
             "colorbar": {
              "outlinewidth": 0,
              "ticks": ""
             }
            },
            "type": "scatterpolargl"
           }
          ],
          "scatterternary": [
           {
            "marker": {
             "colorbar": {
              "outlinewidth": 0,
              "ticks": ""
             }
            },
            "type": "scatterternary"
           }
          ],
          "surface": [
           {
            "colorbar": {
             "outlinewidth": 0,
             "ticks": ""
            },
            "colorscale": [
             [
              0,
              "#0d0887"
             ],
             [
              0.1111111111111111,
              "#46039f"
             ],
             [
              0.2222222222222222,
              "#7201a8"
             ],
             [
              0.3333333333333333,
              "#9c179e"
             ],
             [
              0.4444444444444444,
              "#bd3786"
             ],
             [
              0.5555555555555556,
              "#d8576b"
             ],
             [
              0.6666666666666666,
              "#ed7953"
             ],
             [
              0.7777777777777778,
              "#fb9f3a"
             ],
             [
              0.8888888888888888,
              "#fdca26"
             ],
             [
              1,
              "#f0f921"
             ]
            ],
            "type": "surface"
           }
          ],
          "table": [
           {
            "cells": {
             "fill": {
              "color": "#EBF0F8"
             },
             "line": {
              "color": "white"
             }
            },
            "header": {
             "fill": {
              "color": "#C8D4E3"
             },
             "line": {
              "color": "white"
             }
            },
            "type": "table"
           }
          ]
         },
         "layout": {
          "annotationdefaults": {
           "arrowcolor": "#2a3f5f",
           "arrowhead": 0,
           "arrowwidth": 1
          },
          "colorscale": {
           "diverging": [
            [
             0,
             "#8e0152"
            ],
            [
             0.1,
             "#c51b7d"
            ],
            [
             0.2,
             "#de77ae"
            ],
            [
             0.3,
             "#f1b6da"
            ],
            [
             0.4,
             "#fde0ef"
            ],
            [
             0.5,
             "#f7f7f7"
            ],
            [
             0.6,
             "#e6f5d0"
            ],
            [
             0.7,
             "#b8e186"
            ],
            [
             0.8,
             "#7fbc41"
            ],
            [
             0.9,
             "#4d9221"
            ],
            [
             1,
             "#276419"
            ]
           ],
           "sequential": [
            [
             0,
             "#0d0887"
            ],
            [
             0.1111111111111111,
             "#46039f"
            ],
            [
             0.2222222222222222,
             "#7201a8"
            ],
            [
             0.3333333333333333,
             "#9c179e"
            ],
            [
             0.4444444444444444,
             "#bd3786"
            ],
            [
             0.5555555555555556,
             "#d8576b"
            ],
            [
             0.6666666666666666,
             "#ed7953"
            ],
            [
             0.7777777777777778,
             "#fb9f3a"
            ],
            [
             0.8888888888888888,
             "#fdca26"
            ],
            [
             1,
             "#f0f921"
            ]
           ],
           "sequentialminus": [
            [
             0,
             "#0d0887"
            ],
            [
             0.1111111111111111,
             "#46039f"
            ],
            [
             0.2222222222222222,
             "#7201a8"
            ],
            [
             0.3333333333333333,
             "#9c179e"
            ],
            [
             0.4444444444444444,
             "#bd3786"
            ],
            [
             0.5555555555555556,
             "#d8576b"
            ],
            [
             0.6666666666666666,
             "#ed7953"
            ],
            [
             0.7777777777777778,
             "#fb9f3a"
            ],
            [
             0.8888888888888888,
             "#fdca26"
            ],
            [
             1,
             "#f0f921"
            ]
           ]
          },
          "colorway": [
           "#636efa",
           "#EF553B",
           "#00cc96",
           "#ab63fa",
           "#FFA15A",
           "#19d3f3",
           "#FF6692",
           "#B6E880",
           "#FF97FF",
           "#FECB52"
          ],
          "font": {
           "color": "#2a3f5f"
          },
          "geo": {
           "bgcolor": "white",
           "lakecolor": "white",
           "landcolor": "#E5ECF6",
           "showlakes": true,
           "showland": true,
           "subunitcolor": "white"
          },
          "hoverlabel": {
           "align": "left"
          },
          "hovermode": "closest",
          "mapbox": {
           "style": "light"
          },
          "paper_bgcolor": "white",
          "plot_bgcolor": "#E5ECF6",
          "polar": {
           "angularaxis": {
            "gridcolor": "white",
            "linecolor": "white",
            "ticks": ""
           },
           "bgcolor": "#E5ECF6",
           "radialaxis": {
            "gridcolor": "white",
            "linecolor": "white",
            "ticks": ""
           }
          },
          "scene": {
           "xaxis": {
            "backgroundcolor": "#E5ECF6",
            "gridcolor": "white",
            "gridwidth": 2,
            "linecolor": "white",
            "showbackground": true,
            "ticks": "",
            "zerolinecolor": "white"
           },
           "yaxis": {
            "backgroundcolor": "#E5ECF6",
            "gridcolor": "white",
            "gridwidth": 2,
            "linecolor": "white",
            "showbackground": true,
            "ticks": "",
            "zerolinecolor": "white"
           },
           "zaxis": {
            "backgroundcolor": "#E5ECF6",
            "gridcolor": "white",
            "gridwidth": 2,
            "linecolor": "white",
            "showbackground": true,
            "ticks": "",
            "zerolinecolor": "white"
           }
          },
          "shapedefaults": {
           "line": {
            "color": "#2a3f5f"
           }
          },
          "ternary": {
           "aaxis": {
            "gridcolor": "white",
            "linecolor": "white",
            "ticks": ""
           },
           "baxis": {
            "gridcolor": "white",
            "linecolor": "white",
            "ticks": ""
           },
           "bgcolor": "#E5ECF6",
           "caxis": {
            "gridcolor": "white",
            "linecolor": "white",
            "ticks": ""
           }
          },
          "title": {
           "x": 0.05
          },
          "xaxis": {
           "automargin": true,
           "gridcolor": "white",
           "linecolor": "white",
           "ticks": "",
           "zerolinecolor": "white",
           "zerolinewidth": 2
          },
          "yaxis": {
           "automargin": true,
           "gridcolor": "white",
           "linecolor": "white",
           "ticks": "",
           "zerolinecolor": "white",
           "zerolinewidth": 2
          }
         }
        },
        "title": {
         "text": "Reasons of return trend lines"
        },
        "width": 1200,
        "xaxis": {
         "title": {
          "text": "Date"
         }
        },
        "yaxis": {
         "title": {
          "text": "Quantity"
         }
        }
       }
      }
     },
     "metadata": {},
     "output_type": "display_data"
    }
   ],
   "source": [
    "graph_data = data[data['Has_Return_Reason'] == True].copy()\n",
    "\n",
    "fig = go.Figure()\n",
    "\n",
    "def predictReturnReasonQuantity(type):\n",
    "    model_data = graph_data[graph_data['Reason_of_Return'] == type]\n",
    "    model_data = model_data.groupby(['Order_Month']).size().reset_index(name='Quantity')\n",
    "    x = pd.to_numeric(model_data['Order_Month'].to_numpy(), downcast='integer').reshape((-1, 1))\n",
    "    y = model_data['Quantity'].to_numpy()\n",
    "    model = LinearRegression().fit(x, y)\n",
    "    fig.add_trace(go.Scatter(x=model_data['Order_Month'], y=model.predict(x),\n",
    "                    mode='lines',\n",
    "                    name=type))\n",
    "\n",
    "for type in graph_data['Reason_of_Return'].unique():\n",
    "    predictReturnReasonQuantity(type)\n",
    "\n",
    "fig.update_layout(\n",
    "    title_text=\"Reasons of return trend lines\",\n",
    "    xaxis_title=\"Date\",\n",
    "    yaxis_title=\"Quantity\",\n",
    "    width=1200,\n",
    "    font=dict(\n",
    "        family=\"Roboto\",\n",
    "        size=14,\n",
    "        color=\"#7f7f7f\"\n",
    "    )\n",
    ")\n",
    "\n",
    "fig.show()"
   ]
  },
  {
   "cell_type": "code",
   "execution_count": 8,
   "metadata": {},
   "outputs": [
    {
     "name": "stdout",
     "output_type": "stream",
     "text": "Accuracy: 41.05%\n"
    },
    {
     "data": {
      "application/vnd.plotly.v1+json": {
       "config": {
        "plotlyServerURL": "https://plot.ly"
       },
       "data": [
        {
         "alignmentgroup": "True",
         "hoverlabel": {
          "namelength": 0
         },
         "hovertemplate": "Order_Month=%{x}<br>Percentage=%{y}",
         "legendgroup": "",
         "marker": {
          "color": "#636efa"
         },
         "name": "",
         "offsetgroup": "",
         "orientation": "v",
         "showlegend": false,
         "textposition": "auto",
         "type": "bar",
         "x": [
          "2013-01-01T00:00:00",
          "2013-02-01T00:00:00",
          "2013-03-01T00:00:00",
          "2013-04-01T00:00:00",
          "2013-05-01T00:00:00",
          "2013-06-01T00:00:00",
          "2013-07-01T00:00:00",
          "2013-08-01T00:00:00",
          "2013-09-01T00:00:00",
          "2013-10-01T00:00:00",
          "2013-11-01T00:00:00",
          "2013-12-01T00:00:00",
          "2014-01-01T00:00:00",
          "2014-02-01T00:00:00",
          "2014-03-01T00:00:00",
          "2014-04-01T00:00:00",
          "2014-05-01T00:00:00",
          "2014-06-01T00:00:00",
          "2014-07-01T00:00:00",
          "2014-08-01T00:00:00",
          "2014-09-01T00:00:00",
          "2014-10-01T00:00:00",
          "2014-11-01T00:00:00",
          "2014-12-01T00:00:00",
          "2015-01-01T00:00:00",
          "2015-02-01T00:00:00",
          "2015-03-01T00:00:00",
          "2015-04-01T00:00:00",
          "2015-05-01T00:00:00",
          "2015-06-01T00:00:00",
          "2015-07-01T00:00:00",
          "2015-08-01T00:00:00",
          "2015-09-01T00:00:00",
          "2015-10-01T00:00:00",
          "2015-11-01T00:00:00",
          "2015-12-01T00:00:00",
          "2016-01-01T00:00:00",
          "2016-02-01T00:00:00",
          "2016-03-01T00:00:00",
          "2016-04-01T00:00:00",
          "2016-05-01T00:00:00",
          "2016-06-01T00:00:00",
          "2016-07-01T00:00:00",
          "2016-08-01T00:00:00",
          "2016-09-01T00:00:00",
          "2016-10-01T00:00:00",
          "2016-11-01T00:00:00",
          "2016-12-01T00:00:00",
          "2017-01-01T00:00:00",
          "2017-02-01T00:00:00",
          "2017-03-01T00:00:00",
          "2017-04-01T00:00:00",
          "2017-05-01T00:00:00",
          "2017-06-01T00:00:00",
          "2017-07-01T00:00:00",
          "2017-08-01T00:00:00",
          "2017-09-01T00:00:00",
          "2017-10-01T00:00:00",
          "2017-11-01T00:00:00",
          "2017-12-01T00:00:00",
          "2018-01-01T00:00:00",
          "2018-02-01T00:00:00",
          "2018-03-01T00:00:00",
          "2018-04-01T00:00:00",
          "2018-05-01T00:00:00",
          "2018-06-01T00:00:00",
          "2018-07-01T00:00:00",
          "2018-08-01T00:00:00",
          "2018-09-01T00:00:00",
          "2018-10-01T00:00:00",
          "2018-11-01T00:00:00",
          "2018-12-01T00:00:00"
         ],
         "xaxis": "x",
         "y": [
          6.1448005533779115,
          6.104651162790697,
          5.689747718733226,
          5.835627786847299,
          6.163205925142177,
          6.234408907457359,
          6.037699557607232,
          5.9818005450598175,
          6.051042187003315,
          6.047207672947418,
          5.8830822639637965,
          5.99307713686551,
          5.7887236845642995,
          5.957273098380732,
          5.7263423203238375,
          6.065446478092069,
          5.912915358070644,
          6.254878599893185,
          5.959489753407265,
          5.902777777777778,
          6.128918633321592,
          5.783781642435526,
          6.0217313168735656,
          6.063453707432765,
          5.60702512220075,
          6.054335137429693,
          6.200295783687251,
          5.93876566008436,
          6.27977479428324,
          6.02514266810024,
          6.022056177634782,
          6.105590062111801,
          5.872335057398764,
          5.900185511967784,
          6.120983249542432,
          6.123084104878238,
          6.059801840056617,
          5.84236821534174,
          5.905365989166165,
          6.07710794089073,
          6.090353848816795,
          5.896945863501048,
          5.948126588807427,
          5.956200008554686,
          6.1700329926772355,
          6.057038199895342,
          6.0952118877270225,
          6.050678612021128,
          6.086690066298958,
          6.042690204568796,
          5.947800996764887,
          5.974891910194302,
          6.147940293854008,
          6.044581414488085,
          5.946997105643994,
          5.849466613986567,
          6.068539301731723,
          5.885245901639345,
          5.849853753656158,
          6.00161151976711,
          2.774972346462752,
          2.6083815028901736,
          2.6605789013838392,
          2.6283187990380643,
          2.696665392123322,
          2.727104075196339,
          2.8589800662808527,
          2.7903487935992,
          2.922742389357892,
          2.543106841980946,
          2.664129400570885,
          2.5704981639298827
         ],
         "yaxis": "y"
        },
        {
         "mode": "lines",
         "name": "Trend line",
         "type": "scatter",
         "x": [
          "2013-01-01T00:00:00",
          "2013-02-01T00:00:00",
          "2013-03-01T00:00:00",
          "2013-04-01T00:00:00",
          "2013-05-01T00:00:00",
          "2013-06-01T00:00:00",
          "2013-07-01T00:00:00",
          "2013-08-01T00:00:00",
          "2013-09-01T00:00:00",
          "2013-10-01T00:00:00",
          "2013-11-01T00:00:00",
          "2013-12-01T00:00:00",
          "2014-01-01T00:00:00",
          "2014-02-01T00:00:00",
          "2014-03-01T00:00:00",
          "2014-04-01T00:00:00",
          "2014-05-01T00:00:00",
          "2014-06-01T00:00:00",
          "2014-07-01T00:00:00",
          "2014-08-01T00:00:00",
          "2014-09-01T00:00:00",
          "2014-10-01T00:00:00",
          "2014-11-01T00:00:00",
          "2014-12-01T00:00:00",
          "2015-01-01T00:00:00",
          "2015-02-01T00:00:00",
          "2015-03-01T00:00:00",
          "2015-04-01T00:00:00",
          "2015-05-01T00:00:00",
          "2015-06-01T00:00:00",
          "2015-07-01T00:00:00",
          "2015-08-01T00:00:00",
          "2015-09-01T00:00:00",
          "2015-10-01T00:00:00",
          "2015-11-01T00:00:00",
          "2015-12-01T00:00:00",
          "2016-01-01T00:00:00",
          "2016-02-01T00:00:00",
          "2016-03-01T00:00:00",
          "2016-04-01T00:00:00",
          "2016-05-01T00:00:00",
          "2016-06-01T00:00:00",
          "2016-07-01T00:00:00",
          "2016-08-01T00:00:00",
          "2016-09-01T00:00:00",
          "2016-10-01T00:00:00",
          "2016-11-01T00:00:00",
          "2016-12-01T00:00:00",
          "2017-01-01T00:00:00",
          "2017-02-01T00:00:00",
          "2017-03-01T00:00:00",
          "2017-04-01T00:00:00",
          "2017-05-01T00:00:00",
          "2017-06-01T00:00:00",
          "2017-07-01T00:00:00",
          "2017-08-01T00:00:00",
          "2017-09-01T00:00:00",
          "2017-10-01T00:00:00",
          "2017-11-01T00:00:00",
          "2017-12-01T00:00:00",
          "2018-01-01T00:00:00",
          "2018-02-01T00:00:00",
          "2018-03-01T00:00:00",
          "2018-04-01T00:00:00",
          "2018-05-01T00:00:00",
          "2018-06-01T00:00:00",
          "2018-07-01T00:00:00",
          "2018-08-01T00:00:00",
          "2018-09-01T00:00:00",
          "2018-10-01T00:00:00",
          "2018-11-01T00:00:00",
          "2018-12-01T00:00:00"
         ],
         "y": [
          6.800913027963318,
          6.7621270457737594,
          6.727094545731575,
          6.688308563542016,
          6.650773742068246,
          6.611987759878687,
          6.574452938404917,
          6.535666956215358,
          6.4968809740258,
          6.45934615255203,
          6.420560170362471,
          6.383025348888701,
          6.344239366699142,
          6.30545338450958,
          6.2704208844673985,
          6.231634902277836,
          6.19410008080407,
          6.155314098614507,
          6.117779277140741,
          6.078993294951179,
          6.04020731276162,
          6.00267249128785,
          5.963886509098291,
          5.926351687624525,
          5.887565705434962,
          5.8487797232454035,
          5.813747223203219,
          5.77496124101366,
          5.73742641953989,
          5.698640437350331,
          5.661105615876561,
          5.6223196336870025,
          5.58353365149744,
          5.545998830023674,
          5.507212847834111,
          5.469678026360345,
          5.430892044170783,
          5.392106061981224,
          5.3558224012232465,
          5.317036419033688,
          5.279501597559921,
          5.240715615370359,
          5.203180793896593,
          5.16439481170703,
          5.125608829517471,
          5.0880740080437015,
          5.049288025854143,
          5.011753204380373,
          4.972967222190814,
          4.9341812400012515,
          4.89914873995907,
          4.860362757769508,
          4.822827936295742,
          4.784041954106179,
          4.746507132632413,
          4.70772115044285,
          4.668935168253292,
          4.631400346779525,
          4.592614364589963,
          4.555079543116197,
          4.516293560926634,
          4.477507578737075,
          4.4424750786948906,
          4.403689096505332,
          4.366154275031562,
          4.327368292842003,
          4.289833471368233,
          4.251047489178674,
          4.212261506989112,
          4.1747266855153455,
          4.135940703325783,
          4.098405881852017
         ]
        }
       ],
       "layout": {
        "barmode": "relative",
        "font": {
         "color": "#7f7f7f",
         "family": "Roboto",
         "size": 14
        },
        "height": 600,
        "legend": {
         "tracegroupgap": 0
        },
        "margin": {
         "t": 60
        },
        "template": {
         "data": {
          "bar": [
           {
            "error_x": {
             "color": "#2a3f5f"
            },
            "error_y": {
             "color": "#2a3f5f"
            },
            "marker": {
             "line": {
              "color": "#E5ECF6",
              "width": 0.5
             }
            },
            "type": "bar"
           }
          ],
          "barpolar": [
           {
            "marker": {
             "line": {
              "color": "#E5ECF6",
              "width": 0.5
             }
            },
            "type": "barpolar"
           }
          ],
          "carpet": [
           {
            "aaxis": {
             "endlinecolor": "#2a3f5f",
             "gridcolor": "white",
             "linecolor": "white",
             "minorgridcolor": "white",
             "startlinecolor": "#2a3f5f"
            },
            "baxis": {
             "endlinecolor": "#2a3f5f",
             "gridcolor": "white",
             "linecolor": "white",
             "minorgridcolor": "white",
             "startlinecolor": "#2a3f5f"
            },
            "type": "carpet"
           }
          ],
          "choropleth": [
           {
            "colorbar": {
             "outlinewidth": 0,
             "ticks": ""
            },
            "type": "choropleth"
           }
          ],
          "contour": [
           {
            "colorbar": {
             "outlinewidth": 0,
             "ticks": ""
            },
            "colorscale": [
             [
              0,
              "#0d0887"
             ],
             [
              0.1111111111111111,
              "#46039f"
             ],
             [
              0.2222222222222222,
              "#7201a8"
             ],
             [
              0.3333333333333333,
              "#9c179e"
             ],
             [
              0.4444444444444444,
              "#bd3786"
             ],
             [
              0.5555555555555556,
              "#d8576b"
             ],
             [
              0.6666666666666666,
              "#ed7953"
             ],
             [
              0.7777777777777778,
              "#fb9f3a"
             ],
             [
              0.8888888888888888,
              "#fdca26"
             ],
             [
              1,
              "#f0f921"
             ]
            ],
            "type": "contour"
           }
          ],
          "contourcarpet": [
           {
            "colorbar": {
             "outlinewidth": 0,
             "ticks": ""
            },
            "type": "contourcarpet"
           }
          ],
          "heatmap": [
           {
            "colorbar": {
             "outlinewidth": 0,
             "ticks": ""
            },
            "colorscale": [
             [
              0,
              "#0d0887"
             ],
             [
              0.1111111111111111,
              "#46039f"
             ],
             [
              0.2222222222222222,
              "#7201a8"
             ],
             [
              0.3333333333333333,
              "#9c179e"
             ],
             [
              0.4444444444444444,
              "#bd3786"
             ],
             [
              0.5555555555555556,
              "#d8576b"
             ],
             [
              0.6666666666666666,
              "#ed7953"
             ],
             [
              0.7777777777777778,
              "#fb9f3a"
             ],
             [
              0.8888888888888888,
              "#fdca26"
             ],
             [
              1,
              "#f0f921"
             ]
            ],
            "type": "heatmap"
           }
          ],
          "heatmapgl": [
           {
            "colorbar": {
             "outlinewidth": 0,
             "ticks": ""
            },
            "colorscale": [
             [
              0,
              "#0d0887"
             ],
             [
              0.1111111111111111,
              "#46039f"
             ],
             [
              0.2222222222222222,
              "#7201a8"
             ],
             [
              0.3333333333333333,
              "#9c179e"
             ],
             [
              0.4444444444444444,
              "#bd3786"
             ],
             [
              0.5555555555555556,
              "#d8576b"
             ],
             [
              0.6666666666666666,
              "#ed7953"
             ],
             [
              0.7777777777777778,
              "#fb9f3a"
             ],
             [
              0.8888888888888888,
              "#fdca26"
             ],
             [
              1,
              "#f0f921"
             ]
            ],
            "type": "heatmapgl"
           }
          ],
          "histogram": [
           {
            "marker": {
             "colorbar": {
              "outlinewidth": 0,
              "ticks": ""
             }
            },
            "type": "histogram"
           }
          ],
          "histogram2d": [
           {
            "colorbar": {
             "outlinewidth": 0,
             "ticks": ""
            },
            "colorscale": [
             [
              0,
              "#0d0887"
             ],
             [
              0.1111111111111111,
              "#46039f"
             ],
             [
              0.2222222222222222,
              "#7201a8"
             ],
             [
              0.3333333333333333,
              "#9c179e"
             ],
             [
              0.4444444444444444,
              "#bd3786"
             ],
             [
              0.5555555555555556,
              "#d8576b"
             ],
             [
              0.6666666666666666,
              "#ed7953"
             ],
             [
              0.7777777777777778,
              "#fb9f3a"
             ],
             [
              0.8888888888888888,
              "#fdca26"
             ],
             [
              1,
              "#f0f921"
             ]
            ],
            "type": "histogram2d"
           }
          ],
          "histogram2dcontour": [
           {
            "colorbar": {
             "outlinewidth": 0,
             "ticks": ""
            },
            "colorscale": [
             [
              0,
              "#0d0887"
             ],
             [
              0.1111111111111111,
              "#46039f"
             ],
             [
              0.2222222222222222,
              "#7201a8"
             ],
             [
              0.3333333333333333,
              "#9c179e"
             ],
             [
              0.4444444444444444,
              "#bd3786"
             ],
             [
              0.5555555555555556,
              "#d8576b"
             ],
             [
              0.6666666666666666,
              "#ed7953"
             ],
             [
              0.7777777777777778,
              "#fb9f3a"
             ],
             [
              0.8888888888888888,
              "#fdca26"
             ],
             [
              1,
              "#f0f921"
             ]
            ],
            "type": "histogram2dcontour"
           }
          ],
          "mesh3d": [
           {
            "colorbar": {
             "outlinewidth": 0,
             "ticks": ""
            },
            "type": "mesh3d"
           }
          ],
          "parcoords": [
           {
            "line": {
             "colorbar": {
              "outlinewidth": 0,
              "ticks": ""
             }
            },
            "type": "parcoords"
           }
          ],
          "scatter": [
           {
            "marker": {
             "colorbar": {
              "outlinewidth": 0,
              "ticks": ""
             }
            },
            "type": "scatter"
           }
          ],
          "scatter3d": [
           {
            "line": {
             "colorbar": {
              "outlinewidth": 0,
              "ticks": ""
             }
            },
            "marker": {
             "colorbar": {
              "outlinewidth": 0,
              "ticks": ""
             }
            },
            "type": "scatter3d"
           }
          ],
          "scattercarpet": [
           {
            "marker": {
             "colorbar": {
              "outlinewidth": 0,
              "ticks": ""
             }
            },
            "type": "scattercarpet"
           }
          ],
          "scattergeo": [
           {
            "marker": {
             "colorbar": {
              "outlinewidth": 0,
              "ticks": ""
             }
            },
            "type": "scattergeo"
           }
          ],
          "scattergl": [
           {
            "marker": {
             "colorbar": {
              "outlinewidth": 0,
              "ticks": ""
             }
            },
            "type": "scattergl"
           }
          ],
          "scattermapbox": [
           {
            "marker": {
             "colorbar": {
              "outlinewidth": 0,
              "ticks": ""
             }
            },
            "type": "scattermapbox"
           }
          ],
          "scatterpolar": [
           {
            "marker": {
             "colorbar": {
              "outlinewidth": 0,
              "ticks": ""
             }
            },
            "type": "scatterpolar"
           }
          ],
          "scatterpolargl": [
           {
            "marker": {
             "colorbar": {
              "outlinewidth": 0,
              "ticks": ""
             }
            },
            "type": "scatterpolargl"
           }
          ],
          "scatterternary": [
           {
            "marker": {
             "colorbar": {
              "outlinewidth": 0,
              "ticks": ""
             }
            },
            "type": "scatterternary"
           }
          ],
          "surface": [
           {
            "colorbar": {
             "outlinewidth": 0,
             "ticks": ""
            },
            "colorscale": [
             [
              0,
              "#0d0887"
             ],
             [
              0.1111111111111111,
              "#46039f"
             ],
             [
              0.2222222222222222,
              "#7201a8"
             ],
             [
              0.3333333333333333,
              "#9c179e"
             ],
             [
              0.4444444444444444,
              "#bd3786"
             ],
             [
              0.5555555555555556,
              "#d8576b"
             ],
             [
              0.6666666666666666,
              "#ed7953"
             ],
             [
              0.7777777777777778,
              "#fb9f3a"
             ],
             [
              0.8888888888888888,
              "#fdca26"
             ],
             [
              1,
              "#f0f921"
             ]
            ],
            "type": "surface"
           }
          ],
          "table": [
           {
            "cells": {
             "fill": {
              "color": "#EBF0F8"
             },
             "line": {
              "color": "white"
             }
            },
            "header": {
             "fill": {
              "color": "#C8D4E3"
             },
             "line": {
              "color": "white"
             }
            },
            "type": "table"
           }
          ]
         },
         "layout": {
          "annotationdefaults": {
           "arrowcolor": "#2a3f5f",
           "arrowhead": 0,
           "arrowwidth": 1
          },
          "colorscale": {
           "diverging": [
            [
             0,
             "#8e0152"
            ],
            [
             0.1,
             "#c51b7d"
            ],
            [
             0.2,
             "#de77ae"
            ],
            [
             0.3,
             "#f1b6da"
            ],
            [
             0.4,
             "#fde0ef"
            ],
            [
             0.5,
             "#f7f7f7"
            ],
            [
             0.6,
             "#e6f5d0"
            ],
            [
             0.7,
             "#b8e186"
            ],
            [
             0.8,
             "#7fbc41"
            ],
            [
             0.9,
             "#4d9221"
            ],
            [
             1,
             "#276419"
            ]
           ],
           "sequential": [
            [
             0,
             "#0d0887"
            ],
            [
             0.1111111111111111,
             "#46039f"
            ],
            [
             0.2222222222222222,
             "#7201a8"
            ],
            [
             0.3333333333333333,
             "#9c179e"
            ],
            [
             0.4444444444444444,
             "#bd3786"
            ],
            [
             0.5555555555555556,
             "#d8576b"
            ],
            [
             0.6666666666666666,
             "#ed7953"
            ],
            [
             0.7777777777777778,
             "#fb9f3a"
            ],
            [
             0.8888888888888888,
             "#fdca26"
            ],
            [
             1,
             "#f0f921"
            ]
           ],
           "sequentialminus": [
            [
             0,
             "#0d0887"
            ],
            [
             0.1111111111111111,
             "#46039f"
            ],
            [
             0.2222222222222222,
             "#7201a8"
            ],
            [
             0.3333333333333333,
             "#9c179e"
            ],
            [
             0.4444444444444444,
             "#bd3786"
            ],
            [
             0.5555555555555556,
             "#d8576b"
            ],
            [
             0.6666666666666666,
             "#ed7953"
            ],
            [
             0.7777777777777778,
             "#fb9f3a"
            ],
            [
             0.8888888888888888,
             "#fdca26"
            ],
            [
             1,
             "#f0f921"
            ]
           ]
          },
          "colorway": [
           "#636efa",
           "#EF553B",
           "#00cc96",
           "#ab63fa",
           "#FFA15A",
           "#19d3f3",
           "#FF6692",
           "#B6E880",
           "#FF97FF",
           "#FECB52"
          ],
          "font": {
           "color": "#2a3f5f"
          },
          "geo": {
           "bgcolor": "white",
           "lakecolor": "white",
           "landcolor": "#E5ECF6",
           "showlakes": true,
           "showland": true,
           "subunitcolor": "white"
          },
          "hoverlabel": {
           "align": "left"
          },
          "hovermode": "closest",
          "mapbox": {
           "style": "light"
          },
          "paper_bgcolor": "white",
          "plot_bgcolor": "#E5ECF6",
          "polar": {
           "angularaxis": {
            "gridcolor": "white",
            "linecolor": "white",
            "ticks": ""
           },
           "bgcolor": "#E5ECF6",
           "radialaxis": {
            "gridcolor": "white",
            "linecolor": "white",
            "ticks": ""
           }
          },
          "scene": {
           "xaxis": {
            "backgroundcolor": "#E5ECF6",
            "gridcolor": "white",
            "gridwidth": 2,
            "linecolor": "white",
            "showbackground": true,
            "ticks": "",
            "zerolinecolor": "white"
           },
           "yaxis": {
            "backgroundcolor": "#E5ECF6",
            "gridcolor": "white",
            "gridwidth": 2,
            "linecolor": "white",
            "showbackground": true,
            "ticks": "",
            "zerolinecolor": "white"
           },
           "zaxis": {
            "backgroundcolor": "#E5ECF6",
            "gridcolor": "white",
            "gridwidth": 2,
            "linecolor": "white",
            "showbackground": true,
            "ticks": "",
            "zerolinecolor": "white"
           }
          },
          "shapedefaults": {
           "line": {
            "color": "#2a3f5f"
           }
          },
          "ternary": {
           "aaxis": {
            "gridcolor": "white",
            "linecolor": "white",
            "ticks": ""
           },
           "baxis": {
            "gridcolor": "white",
            "linecolor": "white",
            "ticks": ""
           },
           "bgcolor": "#E5ECF6",
           "caxis": {
            "gridcolor": "white",
            "linecolor": "white",
            "ticks": ""
           }
          },
          "title": {
           "x": 0.05
          },
          "xaxis": {
           "automargin": true,
           "gridcolor": "white",
           "linecolor": "white",
           "ticks": "",
           "zerolinecolor": "white",
           "zerolinewidth": 2
          },
          "yaxis": {
           "automargin": true,
           "gridcolor": "white",
           "linecolor": "white",
           "ticks": "",
           "zerolinecolor": "white",
           "zerolinewidth": 2
          }
         }
        },
        "title": {
         "text": "Percentage of orders returned each month"
        },
        "xaxis": {
         "anchor": "y",
         "domain": [
          0,
          0.98
         ],
         "title": {
          "text": "Date"
         }
        },
        "yaxis": {
         "anchor": "x",
         "domain": [
          0,
          1
         ],
         "title": {
          "text": "Percentage"
         }
        }
       }
      }
     },
     "metadata": {},
     "output_type": "display_data"
    }
   ],
   "source": [
    "graph_data = data.copy()\n",
    "graph_data = graph_data.groupby(['Order_Month', 'Is_Returned']).size().reset_index(name='Count')\n",
    "\n",
    "def fill_percentage(row):\n",
    "    if row['Is_Returned'] == False:\n",
    "        return np.nan\n",
    "    not_returned = graph_data[(graph_data['Order_Month'] == row['Order_Month']) & (graph_data['Is_Returned'] == False)].iloc[0]['Count']\n",
    "    return (row['Count'] / (row['Count'] + not_returned)) * 100\n",
    "\n",
    "graph_data['Percentage'] = graph_data.apply(\n",
    "    lambda row:\n",
    "        fill_percentage(row),\n",
    "    axis = 1)\n",
    "graph_data = graph_data[pd.notnull(graph_data['Percentage'])]\n",
    "\n",
    "fig = px.bar(graph_data, x=\"Order_Month\", y=\"Percentage\")\n",
    "\n",
    "x = pd.to_numeric(graph_data['Order_Month'].to_numpy(), downcast='integer').reshape((-1, 1))\n",
    "y = graph_data['Percentage'].to_numpy()\n",
    "model = LinearRegression().fit(x, y)\n",
    "\n",
    "fig.add_trace(go.Scatter(x=graph_data['Order_Month'], y=model.predict(x),\n",
    "                    mode='lines',\n",
    "                    name='Trend line'))\n",
    "\n",
    "print('Accuracy: %2.2f' % (model.score(x, y) * 100) + '%')\n",
    "\n",
    "fig.update_layout(\n",
    "    title_text=\"Percentage of orders returned each month\",\n",
    "    xaxis_title=\"Date\",\n",
    "    yaxis_title=\"Percentage\",\n",
    "    font=dict(\n",
    "        family=\"Roboto\",\n",
    "        size=14,\n",
    "        color=\"#7f7f7f\"\n",
    "    )\n",
    ")\n",
    "\n",
    "fig.show()"
   ]
  },
  {
   "cell_type": "code",
   "execution_count": null,
   "metadata": {},
   "outputs": [],
   "source": []
  }
 ]
}