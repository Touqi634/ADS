{
 "cells": [
  {
   "cell_type": "markdown",
   "metadata": {},
   "source": [
    "# Load dataset"
   ]
  },
  {
   "cell_type": "code",
   "execution_count": 19,
   "metadata": {},
   "outputs": [],
   "source": [
    "import pandas as pd\n",
    "import numpy as np\n",
    "\n",
    "import plotly.express as px\n",
    "import plotly.offline as py\n",
    "from plotly.subplots import make_subplots\n",
    "import plotly.graph_objects as go\n",
    "\n",
    "import os.path\n",
    "from os import path"
   ]
  },
  {
   "cell_type": "code",
   "execution_count": 20,
   "metadata": {},
   "outputs": [],
   "source": [
    "data = pd.read_csv('orders.csv', sep='|', low_memory=False, encoding = 'ISO-8859-1', header=None)\n",
    "\n",
    "if path.exists('orders_new.csv'):\n",
    "    data_new = pd.read_csv('orders_new.csv', sep='|', low_memory=False, encoding = 'ISO-8859-1', header=None)\n",
    "    data = pd.concat([data,data_new])"
   ]
  },
  {
   "cell_type": "markdown",
   "metadata": {},
   "source": [
    "## Set headers"
   ]
  },
  {
   "cell_type": "code",
   "execution_count": 21,
   "metadata": {},
   "outputs": [],
   "source": [
    "del data[15]\n",
    "data.columns = ['Customer_Number', 'Date_of_Birth', 'Gender', 'Place_of_Residence', 'Order_Number', 'Order_Date', 'Product_Number', 'Sub_Category', 'Category', 'Quantity', 'Price', 'Expected_Delivery_Time', 'Actual_Delivery_Time', 'Reason_of_Return', 'Rating']\n"
   ]
  },
  {
   "cell_type": "code",
   "execution_count": 22,
   "metadata": {},
   "outputs": [
    {
     "data": {
      "text/html": "<div>\n<style scoped>\n    .dataframe tbody tr th:only-of-type {\n        vertical-align: middle;\n    }\n\n    .dataframe tbody tr th {\n        vertical-align: top;\n    }\n\n    .dataframe thead th {\n        text-align: right;\n    }\n</style>\n<table border=\"1\" class=\"dataframe\">\n  <thead>\n    <tr style=\"text-align: right;\">\n      <th></th>\n      <th>Customer_Number</th>\n      <th>Date_of_Birth</th>\n      <th>Gender</th>\n      <th>Place_of_Residence</th>\n      <th>Order_Number</th>\n      <th>Order_Date</th>\n      <th>Product_Number</th>\n      <th>Sub_Category</th>\n      <th>Category</th>\n      <th>Quantity</th>\n      <th>Price</th>\n      <th>Expected_Delivery_Time</th>\n      <th>Actual_Delivery_Time</th>\n      <th>Reason_of_Return</th>\n      <th>Rating</th>\n    </tr>\n  </thead>\n  <tbody>\n    <tr>\n      <td>411192</td>\n      <td>1038296</td>\n      <td>1973-11-30</td>\n      <td>Man</td>\n      <td>Leek</td>\n      <td>1971817.0</td>\n      <td>24-06-2018</td>\n      <td>2182410283728</td>\n      <td>Insects and vermin</td>\n      <td>Control</td>\n      <td>1.0</td>\n      <td>247.42</td>\n      <td>3.0</td>\n      <td>8.0</td>\n      <td>NaN</td>\n      <td>2.0</td>\n    </tr>\n    <tr>\n      <td>411193</td>\n      <td>1070997</td>\n      <td>1963-11-09</td>\n      <td>Man</td>\n      <td>Apeldoorn</td>\n      <td>1844636.0</td>\n      <td>4-02-2018</td>\n      <td>7162326162039</td>\n      <td>Lounge sofas</td>\n      <td>Lounge furniture</td>\n      <td>1.0</td>\n      <td>687.93</td>\n      <td>4.0</td>\n      <td>7.0</td>\n      <td>NaN</td>\n      <td>-1.0</td>\n    </tr>\n    <tr>\n      <td>411194</td>\n      <td>1007275</td>\n      <td>1976-09-15</td>\n      <td>Woman</td>\n      <td>Dronten</td>\n      <td>2040296.0</td>\n      <td>27-09-2018</td>\n      <td>3112530283253</td>\n      <td>Insects and vermin</td>\n      <td>Control</td>\n      <td>1.0</td>\n      <td>137.39</td>\n      <td>6.0</td>\n      <td>11.0</td>\n      <td>NaN</td>\n      <td>-1.0</td>\n    </tr>\n    <tr>\n      <td>411195</td>\n      <td>1059348</td>\n      <td>1981-12-23</td>\n      <td>Man</td>\n      <td>Ede</td>\n      <td>1856594.0</td>\n      <td>16-02-2018</td>\n      <td>8195883096096</td>\n      <td>Garden chairs</td>\n      <td>Garden furniture</td>\n      <td>1.0</td>\n      <td>253.09</td>\n      <td>5.0</td>\n      <td>9.0</td>\n      <td>NaN</td>\n      <td>-1.0</td>\n    </tr>\n    <tr>\n      <td>411196</td>\n      <td>1026487</td>\n      <td>1966-03-25</td>\n      <td>Man</td>\n      <td>Rheden</td>\n      <td>1827245.0</td>\n      <td>20-01-2018</td>\n      <td>4197767134393</td>\n      <td>Garden statues</td>\n      <td>Garden decoration</td>\n      <td>1.0</td>\n      <td>332.87</td>\n      <td>1.0</td>\n      <td>5.0</td>\n      <td>NaN</td>\n      <td>3.0</td>\n    </tr>\n    <tr>\n      <td>411197</td>\n      <td>1038296</td>\n      <td>1973-11-30</td>\n      <td>Man</td>\n      <td>Leek</td>\n      <td>1971817.0</td>\n      <td>24-06-2018</td>\n      <td>5196143117899</td>\n      <td>Garden gnomes</td>\n      <td>Garden decoration</td>\n      <td>3.0</td>\n      <td>49.68</td>\n      <td>5.0</td>\n      <td>5.0</td>\n      <td>NaN</td>\n      <td>2.0</td>\n    </tr>\n    <tr>\n      <td>411198</td>\n      <td>1005692</td>\n      <td>1972-03-29</td>\n      <td>Man</td>\n      <td>Ede</td>\n      <td>1837029.0</td>\n      <td>30-01-2018</td>\n      <td>3131909207607</td>\n      <td>Insects and vermin</td>\n      <td>Control</td>\n      <td>1.0</td>\n      <td>152.46</td>\n      <td>12.0</td>\n      <td>12.0</td>\n      <td>NaN</td>\n      <td>-1.0</td>\n    </tr>\n    <tr>\n      <td>411199</td>\n      <td>1063650</td>\n      <td>1976-10-08</td>\n      <td>Man</td>\n      <td>Vlagtwedde</td>\n      <td>1834853.0</td>\n      <td>28-01-2018</td>\n      <td>1151665250459</td>\n      <td>Pumps</td>\n      <td>Watering</td>\n      <td>1.0</td>\n      <td>790.48</td>\n      <td>2.0</td>\n      <td>2.0</td>\n      <td>NaN</td>\n      <td>-1.0</td>\n    </tr>\n    <tr>\n      <td>411200</td>\n      <td>1059348</td>\n      <td>1981-12-23</td>\n      <td>Man</td>\n      <td>Ede</td>\n      <td>1856594.0</td>\n      <td>16-02-2018</td>\n      <td>5136408180381</td>\n      <td>Sunshades</td>\n      <td>Sun protection</td>\n      <td>1.0</td>\n      <td>408.77</td>\n      <td>3.0</td>\n      <td>9.0</td>\n      <td>NaN</td>\n      <td>-1.0</td>\n    </tr>\n    <tr>\n      <td>411201</td>\n      <td>NaN</td>\n      <td>NaN</td>\n      <td>NaN</td>\n      <td>NaN</td>\n      <td>NaN</td>\n      <td>NaN</td>\n      <td>NaN</td>\n      <td>NaN</td>\n      <td>NaN</td>\n      <td>NaN</td>\n      <td>NaN</td>\n      <td>NaN</td>\n      <td>NaN</td>\n      <td>NaN</td>\n      <td>NaN</td>\n    </tr>\n  </tbody>\n</table>\n</div>",
      "text/plain": "       Customer_Number Date_of_Birth Gender Place_of_Residence  Order_Number  \\\n411192         1038296    1973-11-30    Man               Leek     1971817.0   \n411193         1070997    1963-11-09    Man          Apeldoorn     1844636.0   \n411194         1007275    1976-09-15  Woman            Dronten     2040296.0   \n411195         1059348    1981-12-23    Man                Ede     1856594.0   \n411196         1026487    1966-03-25    Man             Rheden     1827245.0   \n411197         1038296    1973-11-30    Man               Leek     1971817.0   \n411198         1005692    1972-03-29    Man                Ede     1837029.0   \n411199         1063650    1976-10-08    Man         Vlagtwedde     1834853.0   \n411200         1059348    1981-12-23    Man                Ede     1856594.0   \n411201             NaN           NaN    NaN                NaN           NaN   \n\n        Order_Date Product_Number        Sub_Category           Category  \\\n411192  24-06-2018  2182410283728  Insects and vermin            Control   \n411193   4-02-2018  7162326162039        Lounge sofas   Lounge furniture   \n411194  27-09-2018  3112530283253  Insects and vermin            Control   \n411195  16-02-2018  8195883096096       Garden chairs   Garden furniture   \n411196  20-01-2018  4197767134393      Garden statues  Garden decoration   \n411197  24-06-2018  5196143117899       Garden gnomes  Garden decoration   \n411198  30-01-2018  3131909207607  Insects and vermin            Control   \n411199  28-01-2018  1151665250459               Pumps           Watering   \n411200  16-02-2018  5136408180381           Sunshades     Sun protection   \n411201         NaN            NaN                 NaN                NaN   \n\n        Quantity   Price  Expected_Delivery_Time  Actual_Delivery_Time  \\\n411192       1.0  247.42                     3.0                   8.0   \n411193       1.0  687.93                     4.0                   7.0   \n411194       1.0  137.39                     6.0                  11.0   \n411195       1.0  253.09                     5.0                   9.0   \n411196       1.0  332.87                     1.0                   5.0   \n411197       3.0   49.68                     5.0                   5.0   \n411198       1.0  152.46                    12.0                  12.0   \n411199       1.0  790.48                     2.0                   2.0   \n411200       1.0  408.77                     3.0                   9.0   \n411201       NaN     NaN                     NaN                   NaN   \n\n       Reason_of_Return  Rating  \n411192              NaN     2.0  \n411193              NaN    -1.0  \n411194              NaN    -1.0  \n411195              NaN    -1.0  \n411196              NaN     3.0  \n411197              NaN     2.0  \n411198              NaN    -1.0  \n411199              NaN    -1.0  \n411200              NaN    -1.0  \n411201              NaN     NaN  "
     },
     "execution_count": 22,
     "metadata": {},
     "output_type": "execute_result"
    }
   ],
   "source": [
    "data.tail(10)"
   ]
  },
  {
   "cell_type": "markdown",
   "metadata": {},
   "source": [
    "## Size"
   ]
  },
  {
   "cell_type": "code",
   "execution_count": 23,
   "metadata": {},
   "outputs": [
    {
     "data": {
      "text/plain": "3016184"
     },
     "execution_count": 23,
     "metadata": {},
     "output_type": "execute_result"
    }
   ],
   "source": [
    "len(data)"
   ]
  },
  {
   "cell_type": "markdown",
   "metadata": {},
   "source": [
    "## Types"
   ]
  },
  {
   "cell_type": "code",
   "execution_count": 24,
   "metadata": {},
   "outputs": [
    {
     "data": {
      "text/plain": "Customer_Number            object\nDate_of_Birth              object\nGender                     object\nPlace_of_Residence         object\nOrder_Number              float64\nOrder_Date                 object\nProduct_Number             object\nSub_Category               object\nCategory                   object\nQuantity                  float64\nPrice                     float64\nExpected_Delivery_Time    float64\nActual_Delivery_Time      float64\nReason_of_Return           object\nRating                    float64\ndtype: object"
     },
     "execution_count": 24,
     "metadata": {},
     "output_type": "execute_result"
    }
   ],
   "source": [
    "data.dtypes"
   ]
  },
  {
   "cell_type": "markdown",
   "metadata": {},
   "source": [
    "# Cleaning"
   ]
  },
  {
   "cell_type": "code",
   "execution_count": 25,
   "metadata": {},
   "outputs": [],
   "source": [
    "data = data.drop(data[(data['Customer_Number'].isnull()) & (data['Date_of_Birth'].isnull()) & (data['Gender'].isnull())].index)"
   ]
  },
  {
   "cell_type": "code",
   "execution_count": 26,
   "metadata": {},
   "outputs": [
    {
     "data": {
      "text/html": "<div>\n<style scoped>\n    .dataframe tbody tr th:only-of-type {\n        vertical-align: middle;\n    }\n\n    .dataframe tbody tr th {\n        vertical-align: top;\n    }\n\n    .dataframe thead th {\n        text-align: right;\n    }\n</style>\n<table border=\"1\" class=\"dataframe\">\n  <thead>\n    <tr style=\"text-align: right;\">\n      <th></th>\n      <th>Customer_Number</th>\n      <th>Date_of_Birth</th>\n      <th>Gender</th>\n      <th>Place_of_Residence</th>\n      <th>Order_Number</th>\n      <th>Order_Date</th>\n      <th>Product_Number</th>\n      <th>Sub_Category</th>\n      <th>Category</th>\n      <th>Quantity</th>\n      <th>Price</th>\n      <th>Expected_Delivery_Time</th>\n      <th>Actual_Delivery_Time</th>\n      <th>Reason_of_Return</th>\n      <th>Rating</th>\n      <th>Is_Returned</th>\n      <th>Has_Return_Reason</th>\n      <th>Has_Rated</th>\n    </tr>\n  </thead>\n  <tbody>\n    <tr>\n      <td>0</td>\n      <td>NaN</td>\n      <td>1984-09-15</td>\n      <td>Man</td>\n      <td>Loppersum</td>\n      <td>1606586</td>\n      <td>2016-07-12</td>\n      <td>5183337092063</td>\n      <td>Garden sets</td>\n      <td>Garden furniture</td>\n      <td>1</td>\n      <td>1049.97</td>\n      <td>2</td>\n      <td>2</td>\n      <td>NaN</td>\n      <td>2</td>\n      <td>False</td>\n      <td>False</td>\n      <td>True</td>\n    </tr>\n    <tr>\n      <td>1</td>\n      <td>1049989.0</td>\n      <td>1969-06-01</td>\n      <td>Man</td>\n      <td>Goeree-Overflakkee</td>\n      <td>554370</td>\n      <td>2016-01-15</td>\n      <td>4174149044532</td>\n      <td>Garden tables</td>\n      <td>Garden furniture</td>\n      <td>1</td>\n      <td>366.90</td>\n      <td>8</td>\n      <td>8</td>\n      <td>NaN</td>\n      <td>-1</td>\n      <td>False</td>\n      <td>False</td>\n      <td>False</td>\n    </tr>\n    <tr>\n      <td>2</td>\n      <td>1068587.0</td>\n      <td>1970-02-19</td>\n      <td>Man</td>\n      <td>Terneuzen</td>\n      <td>1146785</td>\n      <td>2014-05-16</td>\n      <td>7167356147773</td>\n      <td>Garden statues</td>\n      <td>Garden decoration</td>\n      <td>1</td>\n      <td>493.95</td>\n      <td>2</td>\n      <td>2</td>\n      <td>NaN</td>\n      <td>-1</td>\n      <td>False</td>\n      <td>False</td>\n      <td>False</td>\n    </tr>\n    <tr>\n      <td>3</td>\n      <td>1026863.0</td>\n      <td>1972-11-27</td>\n      <td>Man</td>\n      <td>Sittard-Geleen</td>\n      <td>1146785</td>\n      <td>2014-05-14</td>\n      <td>4112354045616</td>\n      <td>Garden sets</td>\n      <td>Garden furniture</td>\n      <td>1</td>\n      <td>234.74</td>\n      <td>2</td>\n      <td>5</td>\n      <td>NaN</td>\n      <td>-1</td>\n      <td>False</td>\n      <td>False</td>\n      <td>False</td>\n    </tr>\n    <tr>\n      <td>4</td>\n      <td>1049989.0</td>\n      <td>1969-06-01</td>\n      <td>Man</td>\n      <td>Goeree-Overflakkee</td>\n      <td>554370</td>\n      <td>2016-01-15</td>\n      <td>3163858019499</td>\n      <td>Garden sets</td>\n      <td>Garden furniture</td>\n      <td>1</td>\n      <td>1436.62</td>\n      <td>3</td>\n      <td>8</td>\n      <td>NaN</td>\n      <td>-1</td>\n      <td>False</td>\n      <td>False</td>\n      <td>False</td>\n    </tr>\n  </tbody>\n</table>\n</div>",
      "text/plain": "   Customer_Number Date_of_Birth Gender  Place_of_Residence  Order_Number  \\\n0              NaN    1984-09-15    Man           Loppersum       1606586   \n1        1049989.0    1969-06-01    Man  Goeree-Overflakkee        554370   \n2        1068587.0    1970-02-19    Man           Terneuzen       1146785   \n3        1026863.0    1972-11-27    Man      Sittard-Geleen       1146785   \n4        1049989.0    1969-06-01    Man  Goeree-Overflakkee        554370   \n\n  Order_Date Product_Number    Sub_Category           Category  Quantity  \\\n0 2016-07-12  5183337092063     Garden sets   Garden furniture         1   \n1 2016-01-15  4174149044532   Garden tables   Garden furniture         1   \n2 2014-05-16  7167356147773  Garden statues  Garden decoration         1   \n3 2014-05-14  4112354045616     Garden sets   Garden furniture         1   \n4 2016-01-15  3163858019499     Garden sets   Garden furniture         1   \n\n     Price  Expected_Delivery_Time  Actual_Delivery_Time Reason_of_Return  \\\n0  1049.97                       2                     2              NaN   \n1   366.90                       8                     8              NaN   \n2   493.95                       2                     2              NaN   \n3   234.74                       2                     5              NaN   \n4  1436.62                       3                     8              NaN   \n\n   Rating  Is_Returned  Has_Return_Reason  Has_Rated  \n0       2        False              False       True  \n1      -1        False              False      False  \n2      -1        False              False      False  \n3      -1        False              False      False  \n4      -1        False              False      False  "
     },
     "execution_count": 26,
     "metadata": {},
     "output_type": "execute_result"
    }
   ],
   "source": [
    "data['Customer_Number'] = data[['Customer_Number']].apply(pd.to_numeric, errors='coerce')\n",
    "\n",
    "data['Order_Number'] = data['Order_Number'].astype(int)\n",
    "data['Quantity'] = data['Quantity'].astype(int)\n",
    "data['Expected_Delivery_Time'] = data['Expected_Delivery_Time'].astype(int)\n",
    "data['Actual_Delivery_Time'] = data['Actual_Delivery_Time'].astype(int)\n",
    "data['Rating'] = data['Rating'].astype(int)\n",
    "\n",
    "data['Date_of_Birth'] = pd.to_datetime(data['Date_of_Birth'])\n",
    "data['Order_Date'] = pd.to_datetime(data['Order_Date'])\n",
    "\n",
    "data['Is_Returned'] = np.where(data['Actual_Delivery_Time'] < 0, True, False)\n",
    "data['Has_Return_Reason'] = np.where((data['Reason_of_Return'].isnull()) | (data['Reason_of_Return'] == 'No reason given'), False, True)\n",
    "data['Has_Rated'] = np.where(data['Rating'] >= 0, True, False)\n",
    "\n",
    "data.head()"
   ]
  },
  {
   "cell_type": "code",
   "execution_count": 27,
   "metadata": {},
   "outputs": [],
   "source": [
    "data['Gender'] = data.apply(\n",
    "    lambda row:\n",
    "        row['Gender']\n",
    "        if (row['Gender'] == 'Man' or row['Gender'] == 'Woman') else 'Other',\n",
    "    axis = 1)"
   ]
  },
  {
   "cell_type": "code",
   "execution_count": 28,
   "metadata": {},
   "outputs": [
    {
     "data": {
      "text/plain": "array([nan, \"Don't like the article\", 'Wrong or missing article',\n       'Disapointing quality', 'Article is defect',\n       \"Doesn't meet expectations\", 'No reason given',\n       'Article seems different than online', 'Delivery took to long',\n       'Damaged package', 'Manufacturing error',\n       'Ordered the wrong article by accident', 'Article is defetc',\n       'Dont like the article', \"Deosn't meet expectations\",\n       'Doesnt meet expectations', 'Artilce seems different than online',\n       \"Doesn't meet expetcations\", 'Artilce is defect',\n       'Manufatcuring error'], dtype=object)"
     },
     "execution_count": 28,
     "metadata": {},
     "output_type": "execute_result"
    }
   ],
   "source": [
    "data['Reason_of_Return'].unique()"
   ]
  },
  {
   "cell_type": "code",
   "execution_count": 29,
   "metadata": {},
   "outputs": [],
   "source": [
    "def fillDerp(derp):\n",
    "    if derp == 'Article is defetc':\n",
    "        return 'Article is defect'\n",
    "    elif derp == \"Dont like the article\":\n",
    "        return \"Don't like the article\"\n",
    "    elif derp == \"Deosn't meet expectations\":\n",
    "        return \"Doesn't meet expectations\"\n",
    "    elif derp == \"Doesnt meet expectations\":\n",
    "        return \"Doesn't meet expectations\"\n",
    "    elif derp == \"Artilce seems different than online\":\n",
    "        return 'Article seems different than online'\n",
    "    elif derp == \"Doesn't meet expetcations\":\n",
    "        return \"Doesn't meet expectations\"\n",
    "    elif derp == \"Artilce is defect\":\n",
    "        return \"Article is defect\"\n",
    "    elif derp == \"Manufatcuring error\":\n",
    "        return 'Manufacturing error'\n",
    "    else:\n",
    "        return derp\n",
    "\n",
    "data['Reason_of_Return'] = data['Reason_of_Return'].apply(\n",
    "    lambda row:\n",
    "        fillDerp(row)\n",
    "        if pd.notna(row) else np.nan\n",
    ")"
   ]
  },
  {
   "cell_type": "code",
   "execution_count": 30,
   "metadata": {},
   "outputs": [
    {
     "name": "stdout",
     "output_type": "stream",
     "text": "Returned: 5.56%\nReturned with a return rating: 55.05%\nWith a rating: 28.21%\nWith a price of 0 or lower: 0\nOther gender: 573\n"
    }
   ],
   "source": [
    "print('Returned: %2.2f' % (len(data[data['Is_Returned'] == True]) / len(data) * 100) + '%')\n",
    "print('Returned with a return rating: %2.2f' % (len(data[data['Has_Return_Reason'] == True]) / len(data[data['Is_Returned'] == True]) * 100) + '%')\n",
    "print('With a rating: %2.2f' % (len(data[data['Has_Rated'] == True]) / len(data) * 100) + '%')\n",
    "print('With a price of 0 or lower: %1d' % (len(data[data['Price'] <= 0])))\n",
    "print('Other gender: %1d' % (len(data[data['Gender'] == 'Other'])))"
   ]
  },
  {
   "cell_type": "code",
   "execution_count": 31,
   "metadata": {},
   "outputs": [
    {
     "name": "stdout",
     "output_type": "stream",
     "text": "Customer_Number                 2\nDate_of_Birth                   0\nGender                          0\nPlace_of_Residence              0\nOrder_Number                    0\nOrder_Date                      0\nProduct_Number                  0\nSub_Category                    0\nCategory                        0\nQuantity                        0\nPrice                           0\nExpected_Delivery_Time          0\nActual_Delivery_Time            0\nReason_of_Return          2880708\nRating                          0\nIs_Returned                     0\nHas_Return_Reason               0\nHas_Rated                       0\ndtype: int64\n"
    }
   ],
   "source": [
    "count_nan = len(data) - data.count()\n",
    "print(count_nan)"
   ]
  },
  {
   "cell_type": "markdown",
   "metadata": {},
   "source": [
    "# Saving the cleaned dataset"
   ]
  },
  {
   "cell_type": "code",
   "execution_count": 32,
   "metadata": {},
   "outputs": [],
   "source": [
    "data.to_csv('orders_cleaned.csv')"
   ]
  }
 ],
 "metadata": {
  "file_extension": ".py",
  "kernelspec": {
   "display_name": "Python 3",
   "language": "python",
   "name": "python3"
  },
  "language_info": {
   "codemirror_mode": {
    "name": "ipython",
    "version": 3
   },
   "file_extension": ".py",
   "mimetype": "text/x-python",
   "name": "python",
   "nbconvert_exporter": "python",
   "pygments_lexer": "ipython3",
   "version": "3.7.4"
  },
  "mimetype": "text/x-python",
  "name": "python",
  "npconvert_exporter": "python",
  "pygments_lexer": "ipython3",
  "version": 3
 },
 "nbformat": 4,
 "nbformat_minor": 2
}